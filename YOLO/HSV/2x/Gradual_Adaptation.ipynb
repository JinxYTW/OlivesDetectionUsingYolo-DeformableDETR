{
  "nbformat": 4,
  "nbformat_minor": 0,
  "metadata": {
    "colab": {
      "provenance": [],
      "gpuType": "T4"
    },
    "kernelspec": {
      "name": "python3",
      "display_name": "Python 3"
    },
    "language_info": {
      "name": "python"
    },
    "accelerator": "GPU"
  },
  "cells": [
    {
      "cell_type": "markdown",
      "source": [
        "# Installation"
      ],
      "metadata": {
        "id": "skKofm6JxjAX"
      }
    },
    {
      "cell_type": "code",
      "source": [
        "!pip install ultralytics --quiet"
      ],
      "metadata": {
        "colab": {
          "base_uri": "https://localhost:8080/"
        },
        "id": "BVizcO9oxluM",
        "outputId": "63c84aea-93d7-40c6-ef6c-e0a22fa75bec"
      },
      "execution_count": 1,
      "outputs": [
        {
          "output_type": "stream",
          "name": "stdout",
          "text": [
            "\u001b[2K   \u001b[90m━━━━━━━━━━━━━━━━━━━━━━━━━━━━━━━━━━━━━━━━\u001b[0m \u001b[32m1.0/1.0 MB\u001b[0m \u001b[31m3.0 MB/s\u001b[0m eta \u001b[36m0:00:00\u001b[0m\n",
            "\u001b[2K   \u001b[90m━━━━━━━━━━━━━━━━━━━━━━━━━━━━━━━━━━━━━━━━\u001b[0m \u001b[32m363.4/363.4 MB\u001b[0m \u001b[31m2.0 MB/s\u001b[0m eta \u001b[36m0:00:00\u001b[0m\n",
            "\u001b[2K   \u001b[90m━━━━━━━━━━━━━━━━━━━━━━━━━━━━━━━━━━━━━━━━\u001b[0m \u001b[32m13.8/13.8 MB\u001b[0m \u001b[31m38.4 MB/s\u001b[0m eta \u001b[36m0:00:00\u001b[0m\n",
            "\u001b[2K   \u001b[90m━━━━━━━━━━━━━━━━━━━━━━━━━━━━━━━━━━━━━━━━\u001b[0m \u001b[32m24.6/24.6 MB\u001b[0m \u001b[31m35.0 MB/s\u001b[0m eta \u001b[36m0:00:00\u001b[0m\n",
            "\u001b[2K   \u001b[90m━━━━━━━━━━━━━━━━━━━━━━━━━━━━━━━━━━━━━━━━\u001b[0m \u001b[32m883.7/883.7 kB\u001b[0m \u001b[31m31.2 MB/s\u001b[0m eta \u001b[36m0:00:00\u001b[0m\n",
            "\u001b[2K   \u001b[90m━━━━━━━━━━━━━━━━━━━━━━━━━━━━━━━━━━━━━━━━\u001b[0m \u001b[32m664.8/664.8 MB\u001b[0m \u001b[31m2.7 MB/s\u001b[0m eta \u001b[36m0:00:00\u001b[0m\n",
            "\u001b[2K   \u001b[90m━━━━━━━━━━━━━━━━━━━━━━━━━━━━━━━━━━━━━━━━\u001b[0m \u001b[32m211.5/211.5 MB\u001b[0m \u001b[31m6.3 MB/s\u001b[0m eta \u001b[36m0:00:00\u001b[0m\n",
            "\u001b[2K   \u001b[90m━━━━━━━━━━━━━━━━━━━━━━━━━━━━━━━━━━━━━━━━\u001b[0m \u001b[32m56.3/56.3 MB\u001b[0m \u001b[31m19.5 MB/s\u001b[0m eta \u001b[36m0:00:00\u001b[0m\n",
            "\u001b[2K   \u001b[90m━━━━━━━━━━━━━━━━━━━━━━━━━━━━━━━━━━━━━━━━\u001b[0m \u001b[32m127.9/127.9 MB\u001b[0m \u001b[31m7.7 MB/s\u001b[0m eta \u001b[36m0:00:00\u001b[0m\n",
            "\u001b[2K   \u001b[90m━━━━━━━━━━━━━━━━━━━━━━━━━━━━━━━━━━━━━━━━\u001b[0m \u001b[32m207.5/207.5 MB\u001b[0m \u001b[31m5.9 MB/s\u001b[0m eta \u001b[36m0:00:00\u001b[0m\n",
            "\u001b[2K   \u001b[90m━━━━━━━━━━━━━━━━━━━━━━━━━━━━━━━━━━━━━━━━\u001b[0m \u001b[32m21.1/21.1 MB\u001b[0m \u001b[31m85.7 MB/s\u001b[0m eta \u001b[36m0:00:00\u001b[0m\n",
            "\u001b[?25h"
          ]
        }
      ]
    },
    {
      "cell_type": "markdown",
      "source": [
        "# Vérification avant de commencer"
      ],
      "metadata": {
        "id": "j-EVKLWQx2mN"
      }
    },
    {
      "cell_type": "code",
      "source": [
        "import ultralytics"
      ],
      "metadata": {
        "colab": {
          "base_uri": "https://localhost:8080/"
        },
        "id": "lsyi4ZbJx560",
        "outputId": "beb0636c-3436-4539-a295-aea8eedb860d"
      },
      "execution_count": 2,
      "outputs": [
        {
          "output_type": "stream",
          "name": "stdout",
          "text": [
            "Creating new Ultralytics Settings v0.0.6 file ✅ \n",
            "View Ultralytics Settings with 'yolo settings' or at '/root/.config/Ultralytics/settings.json'\n",
            "Update Settings with 'yolo settings key=value', i.e. 'yolo settings runs_dir=path/to/dir'. For help see https://docs.ultralytics.com/quickstart/#ultralytics-settings.\n"
          ]
        }
      ]
    },
    {
      "cell_type": "code",
      "source": [
        "ultralytics.checks()"
      ],
      "metadata": {
        "colab": {
          "base_uri": "https://localhost:8080/"
        },
        "id": "eE7gxAbRx6nO",
        "outputId": "1389f1bf-8cc6-4214-d491-2dff6aee5920"
      },
      "execution_count": 3,
      "outputs": [
        {
          "output_type": "stream",
          "name": "stdout",
          "text": [
            "Ultralytics 8.3.140 🚀 Python-3.11.12 torch-2.6.0+cu124 CUDA:0 (Tesla T4, 15095MiB)\n",
            "Setup complete ✅ (2 CPUs, 12.7 GB RAM, 41.5/112.6 GB disk)\n"
          ]
        }
      ]
    },
    {
      "cell_type": "markdown",
      "source": [
        "Visualisation des ressources et utilisation GPU"
      ],
      "metadata": {
        "id": "yKWpCUN9yBnH"
      }
    },
    {
      "cell_type": "code",
      "source": [
        "!nvidia-smi"
      ],
      "metadata": {
        "colab": {
          "base_uri": "https://localhost:8080/"
        },
        "id": "BfwKEreYx9wl",
        "outputId": "2f206eb3-019c-4e5e-8943-f8a2c8c5c3e7"
      },
      "execution_count": 4,
      "outputs": [
        {
          "output_type": "stream",
          "name": "stdout",
          "text": [
            "Tue May 20 11:16:19 2025       \n",
            "+-----------------------------------------------------------------------------------------+\n",
            "| NVIDIA-SMI 550.54.15              Driver Version: 550.54.15      CUDA Version: 12.4     |\n",
            "|-----------------------------------------+------------------------+----------------------+\n",
            "| GPU  Name                 Persistence-M | Bus-Id          Disp.A | Volatile Uncorr. ECC |\n",
            "| Fan  Temp   Perf          Pwr:Usage/Cap |           Memory-Usage | GPU-Util  Compute M. |\n",
            "|                                         |                        |               MIG M. |\n",
            "|=========================================+========================+======================|\n",
            "|   0  Tesla T4                       Off |   00000000:00:04.0 Off |                    0 |\n",
            "| N/A   39C    P8             10W /   70W |       2MiB /  15360MiB |      0%      Default |\n",
            "|                                         |                        |                  N/A |\n",
            "+-----------------------------------------+------------------------+----------------------+\n",
            "                                                                                         \n",
            "+-----------------------------------------------------------------------------------------+\n",
            "| Processes:                                                                              |\n",
            "|  GPU   GI   CI        PID   Type   Process name                              GPU Memory |\n",
            "|        ID   ID                                                               Usage      |\n",
            "|=========================================================================================|\n",
            "|  No running processes found                                                             |\n",
            "+-----------------------------------------------------------------------------------------+\n"
          ]
        }
      ]
    },
    {
      "cell_type": "markdown",
      "source": [
        "Vérification disponibilité GPU"
      ],
      "metadata": {
        "id": "Nh27UhRfyFad"
      }
    },
    {
      "cell_type": "code",
      "source": [
        "import torch\n",
        "print(\"GPU disponible :\", torch.cuda.is_available())"
      ],
      "metadata": {
        "colab": {
          "base_uri": "https://localhost:8080/"
        },
        "id": "ZYLfVkWLyEn_",
        "outputId": "b55a2f03-d6d0-47c0-8fbc-20f3da17dd5c"
      },
      "execution_count": 5,
      "outputs": [
        {
          "output_type": "stream",
          "name": "stdout",
          "text": [
            "GPU disponible : True\n"
          ]
        }
      ]
    },
    {
      "cell_type": "markdown",
      "source": [
        "# Préparation du dataset"
      ],
      "metadata": {
        "id": "rhvFzuKZyPm2"
      }
    },
    {
      "cell_type": "code",
      "source": [
        "!unzip -q /content/data.zip -d /content/custom_data_raw"
      ],
      "metadata": {
        "id": "e2IU2yadzBwV"
      },
      "execution_count": 6,
      "outputs": []
    },
    {
      "cell_type": "markdown",
      "source": [
        "## Organisation à avoir"
      ],
      "metadata": {
        "id": "KM5lr8TYyT9E"
      }
    },
    {
      "cell_type": "markdown",
      "source": [
        "```\n",
        "custom_data/\n",
        "├── images/\n",
        "│   ├── train/\n",
        "│   └── val/\n",
        "├── labels/\n",
        "│   ├── train/\n",
        "│   └── val/\n"
      ],
      "metadata": {
        "id": "vAmAfzCcyWkm"
      }
    },
    {
      "cell_type": "markdown",
      "source": [
        "## Réorganisation du dataset"
      ],
      "metadata": {
        "id": "PU9vXQFZygIO"
      }
    },
    {
      "cell_type": "code",
      "source": [
        "import os\n",
        "import shutil\n",
        "from sklearn.model_selection import train_test_split\n",
        "\n",
        "# Répertoire d'origine pour les images et annotations\n",
        "raw_data_path_images = \"/content/custom_data_raw/images\"  # Images sont dans ce dossier\n",
        "raw_data_path_labels = \"/content/custom_data_raw/obj_train_data\"  # Annotations dans ce dossier\n",
        "\n",
        "# Obtenir toutes les images (jpg/png) présentes dans le dossier \"images\"\n",
        "images = [f for f in os.listdir(raw_data_path_images) if f.endswith(('.jpg', '.png'))]\n",
        "\n",
        "# Split train/val (80% train, 20% val)\n",
        "train_imgs, val_imgs = train_test_split(images, test_size=0.2, random_state=42)\n",
        "\n",
        "# Création des dossiers cible pour images et labels\n",
        "base_path = \"/content/custom_data\"\n",
        "\n",
        "\n",
        "os.makedirs(base_path + \"/images/train\", exist_ok=True)\n",
        "os.makedirs(base_path + \"/images/val\", exist_ok=True)\n",
        "os.makedirs(base_path + \"/labels/train\", exist_ok=True)\n",
        "os.makedirs(base_path + \"/labels/val\", exist_ok=True)\n",
        "\n",
        "def move_data(image_list, split):\n",
        "    for img_name in image_list:\n",
        "        # Déplacer l'image vers le bon dossier\n",
        "        src_img = os.path.join(raw_data_path_images, img_name)\n",
        "        dst_img = os.path.join(base_path, f\"images/{split}\", img_name)\n",
        "        shutil.copy(src_img, dst_img)\n",
        "\n",
        "        # Vérifier et déplacer l'annotation .txt correspondante\n",
        "        txt_name = img_name.rsplit('.', 1)[0] + '.txt'\n",
        "        txt_src = os.path.join(raw_data_path_labels, txt_name)\n",
        "        txt_dst = os.path.join(base_path, f\"labels/{split}\", txt_name)\n",
        "\n",
        "        if os.path.exists(txt_src):\n",
        "            shutil.copy(txt_src, txt_dst)\n",
        "        else:\n",
        "            print(f\"Pas d'annotation pour {img_name}\")\n",
        "\n",
        "# Appliquer le déplacement aux deux splits : train et val\n",
        "move_data(train_imgs, \"train\")\n",
        "move_data(val_imgs, \"val\")\n"
      ],
      "metadata": {
        "id": "pVuKHVZdCZGu"
      },
      "execution_count": 7,
      "outputs": []
    },
    {
      "cell_type": "markdown",
      "source": [
        "# Augmentation\n"
      ],
      "metadata": {
        "id": "_jswdtTqa3IP"
      }
    },
    {
      "cell_type": "code",
      "source": [
        "import albumentations as A\n",
        "from albumentations.pytorch import ToTensorV2\n",
        "from tqdm import tqdm\n",
        "import cv2\n",
        "import os\n",
        "\n",
        "# === PARAMÈTRES ===\n",
        "augmentations = A.Compose([\n",
        "    A.HorizontalFlip(p=0.5),\n",
        "    A.VerticalFlip(p=0.2),\n",
        "    A.RandomBrightnessContrast(p=0.3),\n",
        "    A.Rotate(limit=20, p=0.3),\n",
        "    A.RandomGamma(p=0.3)\n",
        "    #A.HueSaturationValue(hue_shift_limit=10, sat_shift_limit=20, val_shift_limit=10, p=0.4)\n",
        "])\n",
        "\n",
        "# Tu appliques l'augmentation uniquement sur le dossier d'entraînement\n",
        "augmented_path = \"/content/custom_data_augmented/images/train\"\n",
        "augmented_label_path = \"/content/custom_data_augmented/labels/train\"\n",
        "os.makedirs(augmented_path, exist_ok=True)\n",
        "os.makedirs(augmented_label_path, exist_ok=True)\n",
        "\n",
        "original_train_images_path = \"/content/custom_data/images/train\"\n",
        "original_train_labels_path = \"/content/custom_data/labels/train\"\n",
        "\n",
        "# Copie les fichiers originaux\n",
        "for img_file in tqdm(os.listdir(original_train_images_path), desc=\"Copie des images originales\"):\n",
        "    if not img_file.endswith(('.jpg', '.png')):\n",
        "        continue\n",
        "    img_path = os.path.join(original_train_images_path, img_file)\n",
        "    label_path = os.path.join(original_train_labels_path, img_file.replace('.jpg', '.txt').replace('.png', '.txt'))\n",
        "\n",
        "    img = cv2.imread(img_path)\n",
        "    h, w = img.shape[:2]\n",
        "\n",
        "    # Sauvegarde originale\n",
        "    cv2.imwrite(os.path.join(augmented_path, img_file), img)\n",
        "    shutil.copy(label_path, os.path.join(augmented_label_path, os.path.basename(label_path)))\n",
        "\n",
        "    # Augmente 2 fois chaque image\n",
        "    for i in range(2):\n",
        "        augmented = augmentations(image=img)[\"image\"]\n",
        "        aug_img_name = img_file.replace('.', f'_aug{i}.')\n",
        "        aug_lbl_name = img_file.replace('.jpg', f'_aug{i}.txt').replace('.png', f'_aug{i}.txt')\n",
        "\n",
        "        cv2.imwrite(os.path.join(augmented_path, aug_img_name), augmented)\n",
        "        shutil.copy(label_path, os.path.join(augmented_label_path, aug_lbl_name))\n",
        "\n",
        "print(\"✅ Dataset augmenté.\")\n"
      ],
      "metadata": {
        "colab": {
          "base_uri": "https://localhost:8080/"
        },
        "id": "9aJiFNhda5At",
        "outputId": "04a7241e-b830-4c11-97b8-994e01ee0aa9"
      },
      "execution_count": 8,
      "outputs": [
        {
          "output_type": "stream",
          "name": "stderr",
          "text": [
            "/usr/local/lib/python3.11/dist-packages/albumentations/__init__.py:28: UserWarning: A new version of Albumentations is available: '2.0.7' (you have '2.0.6'). Upgrade using: pip install -U albumentations. To disable automatic update checks, set the environment variable NO_ALBUMENTATIONS_UPDATE to 1.\n",
            "  check_for_updates()\n",
            "Copie des images originales: 100%|██████████| 36/36 [00:14<00:00,  2.44it/s]"
          ]
        },
        {
          "output_type": "stream",
          "name": "stdout",
          "text": [
            "✅ Dataset augmenté.\n"
          ]
        },
        {
          "output_type": "stream",
          "name": "stderr",
          "text": [
            "\n"
          ]
        }
      ]
    },
    {
      "cell_type": "code",
      "source": [
        "# Copie val original sans modification\n",
        "original_val_images_path = \"/content/custom_data/images/val\"\n",
        "original_val_labels_path = \"/content/custom_data/labels/val\"\n",
        "\n",
        "val_img_out_dir = \"/content/custom_data_augmented/images/val\"\n",
        "val_lbl_out_dir = \"/content/custom_data_augmented/labels/val\"\n",
        "\n",
        "os.makedirs(val_img_out_dir, exist_ok=True)\n",
        "os.makedirs(val_lbl_out_dir, exist_ok=True)\n",
        "\n",
        "for img_file in os.listdir(original_val_images_path):\n",
        "    if not img_file.endswith(('.jpg', '.png')):\n",
        "        continue\n",
        "\n",
        "    img_src = os.path.join(original_val_images_path, img_file)\n",
        "    lbl_src = os.path.join(original_val_labels_path, img_file.replace('.jpg', '.txt').replace('.png', '.txt'))\n",
        "\n",
        "    img_dst = os.path.join(val_img_out_dir, img_file)\n",
        "    lbl_dst = os.path.join(val_lbl_out_dir, os.path.basename(lbl_src))\n",
        "\n",
        "    shutil.copy(img_src, img_dst)\n",
        "    shutil.copy(lbl_src, lbl_dst)\n",
        "\n",
        "print(\"✅ Validation copiée sans modification.\")\n"
      ],
      "metadata": {
        "colab": {
          "base_uri": "https://localhost:8080/"
        },
        "id": "wAdRVRrsjhlq",
        "outputId": "1b2b7e01-c962-499c-8465-99e78db6fde0"
      },
      "execution_count": 9,
      "outputs": [
        {
          "output_type": "stream",
          "name": "stdout",
          "text": [
            "✅ Validation copiée sans modification.\n"
          ]
        }
      ]
    },
    {
      "cell_type": "markdown",
      "source": [
        "# Split des images du dataset"
      ],
      "metadata": {
        "id": "e-YRUKnqk7na"
      }
    },
    {
      "cell_type": "code",
      "source": [
        "import os\n",
        "import cv2\n",
        "import shutil\n",
        "\n",
        "# === PARAMÈTRES ===\n",
        "# input_root = \"/content/custom_data\"\n",
        "input_root = \"/content/custom_data_augmented\"\n",
        "\n",
        "output_root = \"/content/split_custom_data\"\n",
        "\n",
        "base_split_path = \"/content/split_custom_data\"\n",
        "\n",
        "tile_size = 640\n",
        "overlap = 0\n",
        "\n",
        "splits = [\"train\", \"val\"]\n",
        "\n",
        "def yolo_to_bbox(x_center, y_center, w, h, img_w, img_h):\n",
        "    x1 = int((x_center - w / 2) * img_w)\n",
        "    y1 = int((y_center - h / 2) * img_h)\n",
        "    x2 = int((x_center + w / 2) * img_w)\n",
        "    y2 = int((y_center + h / 2) * img_h)\n",
        "    return x1, y1, x2, y2\n",
        "\n",
        "def bbox_to_yolo(x1, y1, x2, y2, tile_w, tile_h):\n",
        "    x_center = (x1 + x2) / 2 / tile_w\n",
        "    y_center = (y1 + y2) / 2 / tile_h\n",
        "    w = (x2 - x1) / tile_w\n",
        "    h = (y2 - y1) / tile_h\n",
        "    return x_center, y_center, w, h\n",
        "\n",
        "# Boucle sur train et val\n",
        "for split in splits:\n",
        "    input_img_dir = os.path.join(input_root, f\"images/{split}\")\n",
        "    input_lbl_dir = os.path.join(input_root, f\"labels/{split}\")\n",
        "    output_img_dir = os.path.join(output_root, f\"images/{split}\")\n",
        "    output_lbl_dir = os.path.join(output_root, f\"labels/{split}\")\n",
        "\n",
        "    os.makedirs(output_img_dir, exist_ok=True)\n",
        "    os.makedirs(output_lbl_dir, exist_ok=True)\n",
        "\n",
        "    for filename in os.listdir(input_img_dir):\n",
        "        if not filename.lower().endswith(('.jpg', '.png')):\n",
        "            continue\n",
        "\n",
        "        basename = os.path.splitext(filename)[0]\n",
        "        img_path = os.path.join(input_img_dir, filename)\n",
        "        label_path = os.path.join(input_lbl_dir, f\"{basename}.txt\")\n",
        "\n",
        "        img = cv2.imread(img_path)\n",
        "        img_h, img_w = img.shape[:2]\n",
        "\n",
        "        annotations = []\n",
        "        if os.path.exists(label_path):\n",
        "            with open(label_path, \"r\") as f:\n",
        "                for line in f.readlines():\n",
        "                    parts = line.strip().split()\n",
        "                    if len(parts) == 5:\n",
        "                        cls, xc, yc, w, h = map(float, parts)\n",
        "                        annotations.append((cls, *yolo_to_bbox(xc, yc, w, h, img_w, img_h)))\n",
        "\n",
        "        step = tile_size - overlap\n",
        "        tile_id = 0\n",
        "\n",
        "        for y in range(0, img_h, step):\n",
        "            for x in range(0, img_w, step):\n",
        "                tile = img[y:y + tile_size, x:x + tile_size]\n",
        "                tile_h, tile_w = tile.shape[:2]\n",
        "\n",
        "                if tile_h < tile_size or tile_w < tile_size:\n",
        "                    continue\n",
        "\n",
        "                tile_filename = f\"{basename}_{tile_id}.jpg\"\n",
        "                label_filename = f\"{basename}_{tile_id}.txt\"\n",
        "                tile_id += 1\n",
        "\n",
        "                cv2.imwrite(os.path.join(output_img_dir, tile_filename), tile)\n",
        "\n",
        "                new_annots = []\n",
        "                for cls, x1, y1, x2, y2 in annotations:\n",
        "                    if x1 >= x + tile_size or x2 <= x or y1 >= y + tile_size or y2 <= y:\n",
        "                        continue\n",
        "\n",
        "                    bx1 = max(0, x1 - x)\n",
        "                    by1 = max(0, y1 - y)\n",
        "                    bx2 = min(tile_size, x2 - x)\n",
        "                    by2 = min(tile_size, y2 - y)\n",
        "\n",
        "                    if bx2 - bx1 < 5 or by2 - by1 < 5:\n",
        "                        continue\n",
        "\n",
        "                    x_c, y_c, w, h = bbox_to_yolo(bx1, by1, bx2, by2, tile_size, tile_size)\n",
        "                    new_annots.append(f\"{int(cls)} {x_c:.6f} {y_c:.6f} {w:.6f} {h:.6f}\")\n",
        "\n",
        "                with open(os.path.join(output_lbl_dir, label_filename), \"w\") as f:\n",
        "                    f.write(\"\\n\".join(new_annots))\n",
        "\n",
        "    print(f\"✅ Split terminé pour '{split}' — {len(os.listdir(output_img_dir))} tuiles générées\")\n"
      ],
      "metadata": {
        "colab": {
          "base_uri": "https://localhost:8080/"
        },
        "id": "sh1lBoeRnNdI",
        "outputId": "ca511962-2580-48c6-cb23-5055a2a9c494"
      },
      "execution_count": 10,
      "outputs": [
        {
          "output_type": "stream",
          "name": "stdout",
          "text": [
            "✅ Split terminé pour 'train' — 1992 tuiles générées\n",
            "✅ Split terminé pour 'val' — 180 tuiles générées\n"
          ]
        }
      ]
    },
    {
      "cell_type": "markdown",
      "source": [
        "# HSV"
      ],
      "metadata": {
        "id": "0nY4a36wVXEd"
      }
    },
    {
      "cell_type": "code",
      "source": [
        "import os\n",
        "import cv2\n",
        "from tqdm import tqdm\n",
        "\n",
        "input_root = \"/content/split_custom_data/images\"\n",
        "output_root = \"/content/split_custom_data_hsv/images\"\n",
        "\n",
        "splits = [\"train\", \"val\"]\n",
        "\n",
        "for split in splits:\n",
        "    in_dir = os.path.join(input_root, split)\n",
        "    out_dir = os.path.join(output_root, split)\n",
        "    os.makedirs(out_dir, exist_ok=True)\n",
        "\n",
        "    for img_file in tqdm(os.listdir(in_dir), desc=f\"Conversion HSV - {split}\"):\n",
        "        if not img_file.lower().endswith(('.jpg', '.png')):\n",
        "            continue\n",
        "\n",
        "        img_path = os.path.join(in_dir, img_file)\n",
        "        img = cv2.imread(img_path)  # BGR\n",
        "        hsv = cv2.cvtColor(img, cv2.COLOR_BGR2HSV)\n",
        "\n",
        "        out_path = os.path.join(out_dir, img_file)\n",
        "        cv2.imwrite(out_path, hsv)\n"
      ],
      "metadata": {
        "colab": {
          "base_uri": "https://localhost:8080/"
        },
        "id": "_FnIEpGHVYUs",
        "outputId": "bd24ad05-7c5b-45d1-c004-032ab3a37d26"
      },
      "execution_count": 11,
      "outputs": [
        {
          "output_type": "stream",
          "name": "stderr",
          "text": [
            "Conversion HSV - train: 100%|██████████| 1992/1992 [00:19<00:00, 102.62it/s]\n",
            "Conversion HSV - val: 100%|██████████| 180/180 [00:01<00:00, 106.17it/s]\n"
          ]
        }
      ]
    },
    {
      "cell_type": "code",
      "source": [
        "import shutil\n",
        "\n",
        "label_input_root = \"/content/split_custom_data/labels\"\n",
        "label_output_root = \"/content/split_custom_data_hsv/labels\"\n",
        "\n",
        "splits = [\"train\", \"val\"]\n",
        "for split in splits:\n",
        "    in_dir = os.path.join(label_input_root, split)\n",
        "    out_dir = os.path.join(label_output_root, split)\n",
        "    os.makedirs(out_dir, exist_ok=True)\n",
        "\n",
        "    for label_file in os.listdir(in_dir):\n",
        "        if label_file.endswith(\".txt\"):\n",
        "            shutil.copy(os.path.join(in_dir, label_file), os.path.join(out_dir, label_file))\n",
        "\n",
        "print(\"✅ Labels copiés vers le dossier HSV.\")\n"
      ],
      "metadata": {
        "colab": {
          "base_uri": "https://localhost:8080/"
        },
        "id": "vg-S0giXcpme",
        "outputId": "ae55f4c3-64d0-434e-c978-de978d330b1a"
      },
      "execution_count": 12,
      "outputs": [
        {
          "output_type": "stream",
          "name": "stdout",
          "text": [
            "✅ Labels copiés vers le dossier HSV.\n"
          ]
        }
      ]
    },
    {
      "cell_type": "markdown",
      "source": [
        "# Génération des YAML"
      ],
      "metadata": {
        "id": "NTodaym9lBkJ"
      }
    },
    {
      "cell_type": "markdown",
      "source": [
        "Dynamique :"
      ],
      "metadata": {
        "id": "EgdAfTa507Ra"
      }
    },
    {
      "cell_type": "code",
      "source": [
        "# Chemin vers le fichier obj.names exporté par CVAT (modifie si besoin)\n",
        "obj_names_path = \"/content/custom_data_raw/obj.names\"\n",
        "\n",
        "# Lire les noms de classes depuis obj.names\n",
        "with open(obj_names_path, 'r') as f:\n",
        "    class_names = [line.strip() for line in f if line.strip()]\n",
        "\n",
        "# Générer le contenu du fichier YAML avec les augmentations de couleur\n",
        "yaml_content = f\"\"\"\n",
        "path: {base_split_path}\n",
        "train: images/train\n",
        "val: images/val\n",
        "nc: {len(class_names)}\n",
        "names: {class_names}\n",
        "augment: True  # Activer l'augmentation des données\n",
        "auto_augment: albumentations\n",
        "\n",
        "\n",
        "\n",
        "# weights: [0.9, 0.1]  # Exemple de pondération si olive est trop présente\n",
        "\"\"\"\n",
        "\n",
        "\n",
        "# Écriture du fichier data.yaml\n",
        "with open(f\"{base_path}/data.yaml\", \"w\") as f:\n",
        "    f.write(yaml_content.strip())\n",
        "\n",
        "with open(f\"{base_split_path}/data.yaml\", \"w\") as f:\n",
        "    f.write(yaml_content.strip())\n",
        "\n",
        "print(\" Fichier data.yaml généré automatiquement :\")\n",
        "print(yaml_content)\n"
      ],
      "metadata": {
        "colab": {
          "base_uri": "https://localhost:8080/"
        },
        "id": "IxIIoKW-08zd",
        "outputId": "3af0a2cd-3b35-48f1-a02f-190be3a9dc4a"
      },
      "execution_count": 13,
      "outputs": [
        {
          "output_type": "stream",
          "name": "stdout",
          "text": [
            " Fichier data.yaml généré automatiquement :\n",
            "\n",
            "path: /content/split_custom_data\n",
            "train: images/train\n",
            "val: images/val\n",
            "nc: 2\n",
            "names: ['olive', 'potential_olive']\n",
            "augment: True  # Activer l'augmentation des données\n",
            "auto_augment: albumentations\n",
            "\n",
            "\n",
            "\n",
            "# weights: [0.9, 0.1]  # Exemple de pondération si olive est trop présente\n",
            "\n"
          ]
        }
      ]
    },
    {
      "cell_type": "code",
      "source": [
        "custom_train_cfg = \"\"\"\n",
        "# train_custom.yaml — Configuration d'entraînement pour YOLOv8\n",
        "\n",
        "# Chemins\n",
        "data: /content/split_custom_data/data.yaml\n",
        "model: yolov8m.pt\n",
        "# model: yolo11x.pt\n",
        "\n",
        "# Entraînement\n",
        "epochs: 30\n",
        "batch: 16\n",
        "imgsz: 320\n",
        "device: 0\n",
        "patience: 10  # arrête si la val n'évolue plus pendant 10 epochs\n",
        "\n",
        "# Hyperparamètres généraux\n",
        "optimizer: SGD\n",
        "lr0: 0.001\n",
        "lrf: 0.01\n",
        "\n",
        "\n",
        "\n",
        "\n",
        "# Augmentations géométriques\n",
        "degrees: 00.0\n",
        "translate: 0.0\n",
        "scale: 0.5\n",
        "shear: 0.0\n",
        "perspective: 0.0\n",
        "flipud: 0.0\n",
        "fliplr: 0.5\n",
        "\n",
        "# Augmentations de couleur (adapté olives/feuillage)\n",
        "hsv_h: 0.02\n",
        "hsv_s: 0.6\n",
        "hsv_v: 0.5\n",
        "\n",
        "# Avancées\n",
        "mosaic: 0.3\n",
        "mixup: 0.1\n",
        "copy_paste: 0.6\n",
        "\n",
        "# auto_augment: randaugment\n",
        "auto_augment: albumentations\n",
        "\n",
        "\"\"\"\n",
        "\n",
        "# Écriture du fichier YAML\n",
        "with open(\"/content/custom_data/train_custom.yaml\", \"w\") as f:\n",
        "    f.write(custom_train_cfg.strip())\n",
        "\n",
        "print(\"✅ Fichier train_custom.yaml généré.\")\n",
        "\n",
        "with open(f\"/content/split_custom_data/train_custom.yaml\", \"w\") as f:\n",
        "    f.write(custom_train_cfg.strip())\n",
        "\n",
        "print(\"✅ Fichier train_custom.yaml généré.\")\n"
      ],
      "metadata": {
        "colab": {
          "base_uri": "https://localhost:8080/"
        },
        "id": "k7NWVkqyP7dz",
        "outputId": "9239eae4-3ed4-4b9a-c73e-eb45953b6b8e"
      },
      "execution_count": 14,
      "outputs": [
        {
          "output_type": "stream",
          "name": "stdout",
          "text": [
            "✅ Fichier train_custom.yaml généré.\n",
            "✅ Fichier train_custom.yaml généré.\n"
          ]
        }
      ]
    },
    {
      "cell_type": "markdown",
      "source": [
        "## Vérification des labels et autres"
      ],
      "metadata": {
        "id": "8rj-Km-N0Byl"
      }
    },
    {
      "cell_type": "code",
      "source": [
        "import os\n",
        "from collections import Counter\n",
        "\n",
        "# Dictionnaire des classes : adapte-le si jamais tu changes l'ordre ou les noms\n",
        "class_names = {\n",
        "    '0': 'olive',\n",
        "    '1': 'potential_olive'\n",
        "}\n",
        "\n",
        "def analyze_labels(labels_dir):\n",
        "    label_counts = Counter()\n",
        "\n",
        "    for split in ['train', 'val']:\n",
        "        dir_path = os.path.join(labels_dir, split)\n",
        "        for file in os.listdir(dir_path):\n",
        "            if file.endswith('.txt'):\n",
        "                with open(os.path.join(dir_path, file), 'r') as f:\n",
        "                    for line in f:\n",
        "                        if line.strip():\n",
        "                            class_id = line.strip().split()[0]\n",
        "                            label_counts[class_id] += 1\n",
        "\n",
        "    print(\" Résumé des classes dans les annotations :\\n\")\n",
        "    for class_id, count in label_counts.items():\n",
        "        class_name = class_names.get(class_id, \" Inconnu\")\n",
        "        print(f\"Classe {class_id} ({class_name}) → {count} objets\")\n",
        "\n",
        "    # Alerte pour les classes non attendues\n",
        "    for cid in label_counts:\n",
        "        if cid not in class_names:\n",
        "            print(f\"\\n ID inattendu détecté : {cid}\")\n",
        "\n",
        "# Appel de la fonction\n",
        "analyze_labels(f\"{base_split_path}/labels\")\n"
      ],
      "metadata": {
        "colab": {
          "base_uri": "https://localhost:8080/"
        },
        "id": "tyUirp4L0F4m",
        "outputId": "7cd12ec2-4801-4253-c6b3-b606b6f890ce"
      },
      "execution_count": 15,
      "outputs": [
        {
          "output_type": "stream",
          "name": "stdout",
          "text": [
            " Résumé des classes dans les annotations :\n",
            "\n",
            "Classe 0 (olive) → 7172 objets\n",
            "Classe 1 (potential_olive) → 21 objets\n"
          ]
        }
      ]
    },
    {
      "cell_type": "markdown",
      "source": [
        "# Train COCO RGB"
      ],
      "metadata": {
        "id": "vLQ0pBPwzoXV"
      }
    },
    {
      "cell_type": "code",
      "source": [
        "from ultralytics import YOLO\n",
        "\n",
        "model = YOLO(\"yolov8x.pt\")  # ou un autre modèle préentraîné\n",
        "\n",
        "# Geler les premières couches\n",
        "#for param in model.model.model[0].parameters():\n",
        "    #param.requires_grad = False\n",
        "\n",
        "\n",
        "\n",
        "# Geler les 2 ou 3 premiers blocs du backbone (en général C1, C2, C3)\n",
        "# for i, (name, module) in enumerate(model.model.model[0].named_children()):\n",
        "   # if i < 3:  # essaie 2, 3 ou 4\n",
        "       # for param in module.parameters():\n",
        "           # param.requires_grad = False\n",
        "\n",
        "\n",
        "model.train(\n",
        "    data=f\"{base_split_path}/data.yaml\",\n",
        "    epochs=30,\n",
        "    device=0,\n",
        "    batch=16,\n",
        "    imgsz=640,\n",
        "    patience=15,\n",
        "    optimizer='SGD',\n",
        "    lr0=0.001,\n",
        "    lrf=0.01,\n",
        "    degrees=0.0,\n",
        "    translate=0.0,\n",
        "    scale=0.5,\n",
        "    shear=0.0,\n",
        "    perspective=0.0,\n",
        "    flipud=0.0,\n",
        "    fliplr=0.5,\n",
        "    hsv_h=0.02,\n",
        "    hsv_s=0.6,\n",
        "    hsv_v=0.5,\n",
        "    mosaic=0.6,\n",
        "    mixup=0.1,\n",
        "    copy_paste=0.7,\n",
        "    auto_augment='albumentations'\n",
        ")\n"
      ],
      "metadata": {
        "colab": {
          "base_uri": "https://localhost:8080/"
        },
        "id": "2jm3qRxRQdLC",
        "outputId": "af8a55dd-62f3-41dc-d057-b6abb910c2cf",
        "collapsed": true
      },
      "execution_count": 16,
      "outputs": [
        {
          "output_type": "stream",
          "name": "stdout",
          "text": [
            "Downloading https://github.com/ultralytics/assets/releases/download/v8.3.0/yolov8x.pt to 'yolov8x.pt'...\n"
          ]
        },
        {
          "output_type": "stream",
          "name": "stderr",
          "text": [
            "100%|██████████| 131M/131M [00:00<00:00, 228MB/s]\n"
          ]
        },
        {
          "output_type": "stream",
          "name": "stdout",
          "text": [
            "Ultralytics 8.3.140 🚀 Python-3.11.12 torch-2.6.0+cu124 CUDA:0 (Tesla T4, 15095MiB)\n",
            "\u001b[34m\u001b[1mengine/trainer: \u001b[0magnostic_nms=False, amp=True, augment=False, auto_augment=albumentations, batch=16, bgr=0.0, box=7.5, cache=False, cfg=None, classes=None, close_mosaic=10, cls=0.5, conf=None, copy_paste=0.7, copy_paste_mode=flip, cos_lr=False, cutmix=0.0, data=/content/split_custom_data/data.yaml, degrees=0.0, deterministic=True, device=0, dfl=1.5, dnn=False, dropout=0.0, dynamic=False, embed=None, epochs=30, erasing=0.4, exist_ok=False, fliplr=0.5, flipud=0.0, format=torchscript, fraction=1.0, freeze=None, half=False, hsv_h=0.02, hsv_s=0.6, hsv_v=0.5, imgsz=640, int8=False, iou=0.7, keras=False, kobj=1.0, line_width=None, lr0=0.001, lrf=0.01, mask_ratio=4, max_det=300, mixup=0.1, mode=train, model=yolov8x.pt, momentum=0.937, mosaic=0.6, multi_scale=False, name=train, nbs=64, nms=False, opset=None, optimize=False, optimizer=SGD, overlap_mask=True, patience=15, perspective=0.0, plots=True, pose=12.0, pretrained=True, profile=False, project=None, rect=False, resume=False, retina_masks=False, save=True, save_conf=False, save_crop=False, save_dir=runs/detect/train, save_frames=False, save_json=False, save_period=-1, save_txt=False, scale=0.5, seed=0, shear=0.0, show=False, show_boxes=True, show_conf=True, show_labels=True, simplify=True, single_cls=False, source=None, split=val, stream_buffer=False, task=detect, time=None, tracker=botsort.yaml, translate=0.0, val=True, verbose=True, vid_stride=1, visualize=False, warmup_bias_lr=0.1, warmup_epochs=3.0, warmup_momentum=0.8, weight_decay=0.0005, workers=8, workspace=None\n",
            "Downloading https://ultralytics.com/assets/Arial.ttf to '/root/.config/Ultralytics/Arial.ttf'...\n"
          ]
        },
        {
          "output_type": "stream",
          "name": "stderr",
          "text": [
            "100%|██████████| 755k/755k [00:00<00:00, 15.0MB/s]"
          ]
        },
        {
          "output_type": "stream",
          "name": "stdout",
          "text": [
            "Overriding model.yaml nc=80 with nc=2\n",
            "\n",
            "                   from  n    params  module                                       arguments                     \n",
            "  0                  -1  1      2320  ultralytics.nn.modules.conv.Conv             [3, 80, 3, 2]                 \n",
            "  1                  -1  1    115520  ultralytics.nn.modules.conv.Conv             [80, 160, 3, 2]               \n",
            "  2                  -1  3    436800  ultralytics.nn.modules.block.C2f             [160, 160, 3, True]           \n",
            "  3                  -1  1    461440  ultralytics.nn.modules.conv.Conv             [160, 320, 3, 2]              \n",
            "  4                  -1  6   3281920  ultralytics.nn.modules.block.C2f             [320, 320, 6, True]           \n",
            "  5                  -1  1   1844480  ultralytics.nn.modules.conv.Conv             [320, 640, 3, 2]              \n"
          ]
        },
        {
          "output_type": "stream",
          "name": "stderr",
          "text": [
            "\n"
          ]
        },
        {
          "output_type": "stream",
          "name": "stdout",
          "text": [
            "  6                  -1  6  13117440  ultralytics.nn.modules.block.C2f             [640, 640, 6, True]           \n",
            "  7                  -1  1   3687680  ultralytics.nn.modules.conv.Conv             [640, 640, 3, 2]              \n",
            "  8                  -1  3   6969600  ultralytics.nn.modules.block.C2f             [640, 640, 3, True]           \n",
            "  9                  -1  1   1025920  ultralytics.nn.modules.block.SPPF            [640, 640, 5]                 \n",
            " 10                  -1  1         0  torch.nn.modules.upsampling.Upsample         [None, 2, 'nearest']          \n",
            " 11             [-1, 6]  1         0  ultralytics.nn.modules.conv.Concat           [1]                           \n",
            " 12                  -1  3   7379200  ultralytics.nn.modules.block.C2f             [1280, 640, 3]                \n",
            " 13                  -1  1         0  torch.nn.modules.upsampling.Upsample         [None, 2, 'nearest']          \n",
            " 14             [-1, 4]  1         0  ultralytics.nn.modules.conv.Concat           [1]                           \n",
            " 15                  -1  3   1948800  ultralytics.nn.modules.block.C2f             [960, 320, 3]                 \n",
            " 16                  -1  1    922240  ultralytics.nn.modules.conv.Conv             [320, 320, 3, 2]              \n",
            " 17            [-1, 12]  1         0  ultralytics.nn.modules.conv.Concat           [1]                           \n",
            " 18                  -1  3   7174400  ultralytics.nn.modules.block.C2f             [960, 640, 3]                 \n",
            " 19                  -1  1   3687680  ultralytics.nn.modules.conv.Conv             [640, 640, 3, 2]              \n",
            " 20             [-1, 9]  1         0  ultralytics.nn.modules.conv.Concat           [1]                           \n",
            " 21                  -1  3   7379200  ultralytics.nn.modules.block.C2f             [1280, 640, 3]                \n",
            " 22        [15, 18, 21]  1   8719894  ultralytics.nn.modules.head.Detect           [2, [320, 640, 640]]          \n",
            "Model summary: 209 layers, 68,154,534 parameters, 68,154,518 gradients, 258.1 GFLOPs\n",
            "\n",
            "Transferred 589/595 items from pretrained weights\n",
            "Freezing layer 'model.22.dfl.conv.weight'\n",
            "\u001b[34m\u001b[1mAMP: \u001b[0mrunning Automatic Mixed Precision (AMP) checks...\n",
            "Downloading https://github.com/ultralytics/assets/releases/download/v8.3.0/yolo11n.pt to 'yolo11n.pt'...\n"
          ]
        },
        {
          "output_type": "stream",
          "name": "stderr",
          "text": [
            "100%|██████████| 5.35M/5.35M [00:00<00:00, 65.9MB/s]\n"
          ]
        },
        {
          "output_type": "stream",
          "name": "stdout",
          "text": [
            "\u001b[34m\u001b[1mAMP: \u001b[0mchecks passed ✅\n",
            "\u001b[34m\u001b[1mtrain: \u001b[0mFast image access ✅ (ping: 0.0±0.0 ms, read: 2071.4±1502.9 MB/s, size: 237.0 KB)\n"
          ]
        },
        {
          "output_type": "stream",
          "name": "stderr",
          "text": [
            "\u001b[34m\u001b[1mtrain: \u001b[0mScanning /content/split_custom_data/labels/train... 1992 images, 1223 backgrounds, 0 corrupt: 100%|██████████| 1992/1992 [00:00<00:00, 2996.29it/s]"
          ]
        },
        {
          "output_type": "stream",
          "name": "stdout",
          "text": [
            "\u001b[34m\u001b[1mtrain: \u001b[0mNew cache created: /content/split_custom_data/labels/train.cache\n"
          ]
        },
        {
          "output_type": "stream",
          "name": "stderr",
          "text": [
            "\n"
          ]
        },
        {
          "output_type": "stream",
          "name": "stdout",
          "text": [
            "\u001b[34m\u001b[1malbumentations: \u001b[0mBlur(p=0.01, blur_limit=(3, 7)), MedianBlur(p=0.01, blur_limit=(3, 7)), ToGray(p=0.01, method='weighted_average', num_output_channels=3), CLAHE(p=0.01, clip_limit=(1.0, 4.0), tile_grid_size=(8, 8))\n",
            "\u001b[34m\u001b[1mval: \u001b[0mFast image access ✅ (ping: 0.0±0.0 ms, read: 1553.8±926.3 MB/s, size: 228.4 KB)\n"
          ]
        },
        {
          "output_type": "stream",
          "name": "stderr",
          "text": [
            "\u001b[34m\u001b[1mval: \u001b[0mScanning /content/split_custom_data/labels/val... 180 images, 108 backgrounds, 0 corrupt: 100%|██████████| 180/180 [00:00<00:00, 1708.37it/s]"
          ]
        },
        {
          "output_type": "stream",
          "name": "stdout",
          "text": [
            "\u001b[34m\u001b[1mval: \u001b[0mNew cache created: /content/split_custom_data/labels/val.cache\n"
          ]
        },
        {
          "output_type": "stream",
          "name": "stderr",
          "text": [
            "\n"
          ]
        },
        {
          "output_type": "stream",
          "name": "stdout",
          "text": [
            "Plotting labels to runs/detect/train/labels.jpg... \n",
            "\u001b[34m\u001b[1moptimizer:\u001b[0m SGD(lr=0.001, momentum=0.937) with parameter groups 97 weight(decay=0.0), 104 weight(decay=0.0005), 103 bias(decay=0.0)\n",
            "Image sizes 640 train, 640 val\n",
            "Using 2 dataloader workers\n",
            "Logging results to \u001b[1mruns/detect/train\u001b[0m\n",
            "Starting training for 30 epochs...\n",
            "\n",
            "      Epoch    GPU_mem   box_loss   cls_loss   dfl_loss  Instances       Size\n"
          ]
        },
        {
          "output_type": "stream",
          "name": "stderr",
          "text": [
            "       1/30      11.8G      2.135      4.042      1.404          3        640: 100%|██████████| 125/125 [02:42<00:00,  1.30s/it]\n",
            "                 Class     Images  Instances      Box(P          R      mAP50  mAP50-95): 100%|██████████| 6/6 [00:07<00:00,  1.24s/it]"
          ]
        },
        {
          "output_type": "stream",
          "name": "stdout",
          "text": [
            "                   all        180        434      0.609      0.546      0.565      0.327\n"
          ]
        },
        {
          "output_type": "stream",
          "name": "stderr",
          "text": [
            "\n"
          ]
        },
        {
          "output_type": "stream",
          "name": "stdout",
          "text": [
            "\n",
            "      Epoch    GPU_mem   box_loss   cls_loss   dfl_loss  Instances       Size\n"
          ]
        },
        {
          "output_type": "stream",
          "name": "stderr",
          "text": [
            "       2/30      11.8G      1.771      2.175      1.254         49        640: 100%|██████████| 125/125 [02:45<00:00,  1.32s/it]\n",
            "                 Class     Images  Instances      Box(P          R      mAP50  mAP50-95): 100%|██████████| 6/6 [00:05<00:00,  1.01it/s]"
          ]
        },
        {
          "output_type": "stream",
          "name": "stdout",
          "text": [
            "                   all        180        434      0.606      0.659      0.651      0.395\n"
          ]
        },
        {
          "output_type": "stream",
          "name": "stderr",
          "text": [
            "\n"
          ]
        },
        {
          "output_type": "stream",
          "name": "stdout",
          "text": [
            "\n",
            "      Epoch    GPU_mem   box_loss   cls_loss   dfl_loss  Instances       Size\n"
          ]
        },
        {
          "output_type": "stream",
          "name": "stderr",
          "text": [
            "       3/30        12G      1.697      2.019      1.194         20        640: 100%|██████████| 125/125 [02:44<00:00,  1.32s/it]\n",
            "                 Class     Images  Instances      Box(P          R      mAP50  mAP50-95): 100%|██████████| 6/6 [00:05<00:00,  1.02it/s]"
          ]
        },
        {
          "output_type": "stream",
          "name": "stdout",
          "text": [
            "                   all        180        434      0.698      0.611      0.661      0.412\n"
          ]
        },
        {
          "output_type": "stream",
          "name": "stderr",
          "text": [
            "\n"
          ]
        },
        {
          "output_type": "stream",
          "name": "stdout",
          "text": [
            "\n",
            "      Epoch    GPU_mem   box_loss   cls_loss   dfl_loss  Instances       Size\n"
          ]
        },
        {
          "output_type": "stream",
          "name": "stderr",
          "text": [
            "       4/30      12.2G      1.612      1.834      1.132         28        640: 100%|██████████| 125/125 [02:44<00:00,  1.32s/it]\n",
            "                 Class     Images  Instances      Box(P          R      mAP50  mAP50-95): 100%|██████████| 6/6 [00:06<00:00,  1.00s/it]"
          ]
        },
        {
          "output_type": "stream",
          "name": "stdout",
          "text": [
            "                   all        180        434      0.668      0.629      0.693      0.418\n"
          ]
        },
        {
          "output_type": "stream",
          "name": "stderr",
          "text": [
            "\n"
          ]
        },
        {
          "output_type": "stream",
          "name": "stdout",
          "text": [
            "\n",
            "      Epoch    GPU_mem   box_loss   cls_loss   dfl_loss  Instances       Size\n"
          ]
        },
        {
          "output_type": "stream",
          "name": "stderr",
          "text": [
            "       5/30      12.2G      1.594      1.772      1.125          6        640: 100%|██████████| 125/125 [02:44<00:00,  1.32s/it]\n",
            "                 Class     Images  Instances      Box(P          R      mAP50  mAP50-95): 100%|██████████| 6/6 [00:05<00:00,  1.01it/s]"
          ]
        },
        {
          "output_type": "stream",
          "name": "stdout",
          "text": [
            "                   all        180        434      0.644      0.687      0.712      0.445\n"
          ]
        },
        {
          "output_type": "stream",
          "name": "stderr",
          "text": [
            "\n"
          ]
        },
        {
          "output_type": "stream",
          "name": "stdout",
          "text": [
            "\n",
            "      Epoch    GPU_mem   box_loss   cls_loss   dfl_loss  Instances       Size\n"
          ]
        },
        {
          "output_type": "stream",
          "name": "stderr",
          "text": [
            "       6/30      11.9G       1.51      1.568      1.079         31        640: 100%|██████████| 125/125 [02:44<00:00,  1.32s/it]\n",
            "                 Class     Images  Instances      Box(P          R      mAP50  mAP50-95): 100%|██████████| 6/6 [00:06<00:00,  1.01s/it]"
          ]
        },
        {
          "output_type": "stream",
          "name": "stdout",
          "text": [
            "                   all        180        434       0.69      0.657      0.702      0.442\n"
          ]
        },
        {
          "output_type": "stream",
          "name": "stderr",
          "text": [
            "\n"
          ]
        },
        {
          "output_type": "stream",
          "name": "stdout",
          "text": [
            "\n",
            "      Epoch    GPU_mem   box_loss   cls_loss   dfl_loss  Instances       Size\n"
          ]
        },
        {
          "output_type": "stream",
          "name": "stderr",
          "text": [
            "       7/30      12.2G      1.623       1.74      1.128         74        640: 100%|██████████| 125/125 [02:44<00:00,  1.32s/it]\n",
            "                 Class     Images  Instances      Box(P          R      mAP50  mAP50-95): 100%|██████████| 6/6 [00:05<00:00,  1.02it/s]"
          ]
        },
        {
          "output_type": "stream",
          "name": "stdout",
          "text": [
            "                   all        180        434      0.628      0.699      0.702      0.442\n"
          ]
        },
        {
          "output_type": "stream",
          "name": "stderr",
          "text": [
            "\n"
          ]
        },
        {
          "output_type": "stream",
          "name": "stdout",
          "text": [
            "\n",
            "      Epoch    GPU_mem   box_loss   cls_loss   dfl_loss  Instances       Size\n"
          ]
        },
        {
          "output_type": "stream",
          "name": "stderr",
          "text": [
            "       8/30      12.1G      1.532      1.605      1.095         16        640: 100%|██████████| 125/125 [02:44<00:00,  1.31s/it]\n",
            "                 Class     Images  Instances      Box(P          R      mAP50  mAP50-95): 100%|██████████| 6/6 [00:05<00:00,  1.02it/s]"
          ]
        },
        {
          "output_type": "stream",
          "name": "stdout",
          "text": [
            "                   all        180        434      0.691      0.657      0.726      0.462\n"
          ]
        },
        {
          "output_type": "stream",
          "name": "stderr",
          "text": [
            "\n"
          ]
        },
        {
          "output_type": "stream",
          "name": "stdout",
          "text": [
            "\n",
            "      Epoch    GPU_mem   box_loss   cls_loss   dfl_loss  Instances       Size\n"
          ]
        },
        {
          "output_type": "stream",
          "name": "stderr",
          "text": [
            "       9/30      12.2G       1.58      1.704      1.094         47        640: 100%|██████████| 125/125 [02:44<00:00,  1.31s/it]\n",
            "                 Class     Images  Instances      Box(P          R      mAP50  mAP50-95): 100%|██████████| 6/6 [00:05<00:00,  1.01it/s]"
          ]
        },
        {
          "output_type": "stream",
          "name": "stdout",
          "text": [
            "                   all        180        434      0.617      0.721      0.725      0.452\n"
          ]
        },
        {
          "output_type": "stream",
          "name": "stderr",
          "text": [
            "\n"
          ]
        },
        {
          "output_type": "stream",
          "name": "stdout",
          "text": [
            "\n",
            "      Epoch    GPU_mem   box_loss   cls_loss   dfl_loss  Instances       Size\n"
          ]
        },
        {
          "output_type": "stream",
          "name": "stderr",
          "text": [
            "      10/30      11.9G      1.475      1.521      1.056         20        640: 100%|██████████| 125/125 [02:43<00:00,  1.31s/it]\n",
            "                 Class     Images  Instances      Box(P          R      mAP50  mAP50-95): 100%|██████████| 6/6 [00:05<00:00,  1.01it/s]"
          ]
        },
        {
          "output_type": "stream",
          "name": "stdout",
          "text": [
            "                   all        180        434      0.629      0.684      0.699      0.435\n"
          ]
        },
        {
          "output_type": "stream",
          "name": "stderr",
          "text": [
            "\n"
          ]
        },
        {
          "output_type": "stream",
          "name": "stdout",
          "text": [
            "\n",
            "      Epoch    GPU_mem   box_loss   cls_loss   dfl_loss  Instances       Size\n"
          ]
        },
        {
          "output_type": "stream",
          "name": "stderr",
          "text": [
            "      11/30      12.2G       1.49      1.574      1.067         69        640: 100%|██████████| 125/125 [02:44<00:00,  1.31s/it]\n",
            "                 Class     Images  Instances      Box(P          R      mAP50  mAP50-95): 100%|██████████| 6/6 [00:06<00:00,  1.06s/it]"
          ]
        },
        {
          "output_type": "stream",
          "name": "stdout",
          "text": [
            "                   all        180        434      0.696      0.643      0.693      0.454\n"
          ]
        },
        {
          "output_type": "stream",
          "name": "stderr",
          "text": [
            "\n"
          ]
        },
        {
          "output_type": "stream",
          "name": "stdout",
          "text": [
            "\n",
            "      Epoch    GPU_mem   box_loss   cls_loss   dfl_loss  Instances       Size\n"
          ]
        },
        {
          "output_type": "stream",
          "name": "stderr",
          "text": [
            "      12/30      12.2G      1.446      1.459      1.046         33        640: 100%|██████████| 125/125 [02:44<00:00,  1.31s/it]\n",
            "                 Class     Images  Instances      Box(P          R      mAP50  mAP50-95): 100%|██████████| 6/6 [00:06<00:00,  1.00s/it]"
          ]
        },
        {
          "output_type": "stream",
          "name": "stdout",
          "text": [
            "                   all        180        434      0.678      0.654      0.705       0.44\n"
          ]
        },
        {
          "output_type": "stream",
          "name": "stderr",
          "text": [
            "\n"
          ]
        },
        {
          "output_type": "stream",
          "name": "stdout",
          "text": [
            "\n",
            "      Epoch    GPU_mem   box_loss   cls_loss   dfl_loss  Instances       Size\n"
          ]
        },
        {
          "output_type": "stream",
          "name": "stderr",
          "text": [
            "      13/30      12.2G      1.507      1.574      1.067         54        640: 100%|██████████| 125/125 [02:44<00:00,  1.32s/it]\n",
            "                 Class     Images  Instances      Box(P          R      mAP50  mAP50-95): 100%|██████████| 6/6 [00:06<00:00,  1.00s/it]"
          ]
        },
        {
          "output_type": "stream",
          "name": "stdout",
          "text": [
            "                   all        180        434      0.666       0.72      0.739      0.464\n"
          ]
        },
        {
          "output_type": "stream",
          "name": "stderr",
          "text": [
            "\n"
          ]
        },
        {
          "output_type": "stream",
          "name": "stdout",
          "text": [
            "\n",
            "      Epoch    GPU_mem   box_loss   cls_loss   dfl_loss  Instances       Size\n"
          ]
        },
        {
          "output_type": "stream",
          "name": "stderr",
          "text": [
            "      14/30        12G      1.402      1.425      1.035         12        640: 100%|██████████| 125/125 [02:44<00:00,  1.32s/it]\n",
            "                 Class     Images  Instances      Box(P          R      mAP50  mAP50-95): 100%|██████████| 6/6 [00:05<00:00,  1.01it/s]"
          ]
        },
        {
          "output_type": "stream",
          "name": "stdout",
          "text": [
            "                   all        180        434      0.661      0.694      0.731      0.461\n"
          ]
        },
        {
          "output_type": "stream",
          "name": "stderr",
          "text": [
            "\n"
          ]
        },
        {
          "output_type": "stream",
          "name": "stdout",
          "text": [
            "\n",
            "      Epoch    GPU_mem   box_loss   cls_loss   dfl_loss  Instances       Size\n"
          ]
        },
        {
          "output_type": "stream",
          "name": "stderr",
          "text": [
            "      15/30      12.2G      1.468      1.513      1.068         15        640: 100%|██████████| 125/125 [02:44<00:00,  1.31s/it]\n",
            "                 Class     Images  Instances      Box(P          R      mAP50  mAP50-95): 100%|██████████| 6/6 [00:05<00:00,  1.02it/s]"
          ]
        },
        {
          "output_type": "stream",
          "name": "stdout",
          "text": [
            "                   all        180        434      0.683      0.699      0.751      0.474\n"
          ]
        },
        {
          "output_type": "stream",
          "name": "stderr",
          "text": [
            "\n"
          ]
        },
        {
          "output_type": "stream",
          "name": "stdout",
          "text": [
            "\n",
            "      Epoch    GPU_mem   box_loss   cls_loss   dfl_loss  Instances       Size\n"
          ]
        },
        {
          "output_type": "stream",
          "name": "stderr",
          "text": [
            "      16/30      12.2G       1.43      1.505      1.038          7        640: 100%|██████████| 125/125 [02:44<00:00,  1.31s/it]\n",
            "                 Class     Images  Instances      Box(P          R      mAP50  mAP50-95): 100%|██████████| 6/6 [00:05<00:00,  1.02it/s]"
          ]
        },
        {
          "output_type": "stream",
          "name": "stdout",
          "text": [
            "                   all        180        434      0.676      0.696      0.727      0.466\n"
          ]
        },
        {
          "output_type": "stream",
          "name": "stderr",
          "text": [
            "\n"
          ]
        },
        {
          "output_type": "stream",
          "name": "stdout",
          "text": [
            "\n",
            "      Epoch    GPU_mem   box_loss   cls_loss   dfl_loss  Instances       Size\n"
          ]
        },
        {
          "output_type": "stream",
          "name": "stderr",
          "text": [
            "      17/30      12.2G      1.395      1.345       1.02         14        640: 100%|██████████| 125/125 [02:44<00:00,  1.31s/it]\n",
            "                 Class     Images  Instances      Box(P          R      mAP50  mAP50-95): 100%|██████████| 6/6 [00:05<00:00,  1.02it/s]"
          ]
        },
        {
          "output_type": "stream",
          "name": "stdout",
          "text": [
            "                   all        180        434      0.658      0.719      0.708      0.453\n"
          ]
        },
        {
          "output_type": "stream",
          "name": "stderr",
          "text": [
            "\n"
          ]
        },
        {
          "output_type": "stream",
          "name": "stdout",
          "text": [
            "\n",
            "      Epoch    GPU_mem   box_loss   cls_loss   dfl_loss  Instances       Size\n"
          ]
        },
        {
          "output_type": "stream",
          "name": "stderr",
          "text": [
            "      18/30        12G      1.365      1.372      1.031         19        640: 100%|██████████| 125/125 [02:44<00:00,  1.32s/it]\n",
            "                 Class     Images  Instances      Box(P          R      mAP50  mAP50-95): 100%|██████████| 6/6 [00:05<00:00,  1.00it/s]"
          ]
        },
        {
          "output_type": "stream",
          "name": "stdout",
          "text": [
            "                   all        180        434      0.705      0.704      0.739      0.457\n"
          ]
        },
        {
          "output_type": "stream",
          "name": "stderr",
          "text": [
            "\n"
          ]
        },
        {
          "output_type": "stream",
          "name": "stdout",
          "text": [
            "\n",
            "      Epoch    GPU_mem   box_loss   cls_loss   dfl_loss  Instances       Size\n"
          ]
        },
        {
          "output_type": "stream",
          "name": "stderr",
          "text": [
            "      19/30      12.2G      1.424      1.437      1.048         22        640: 100%|██████████| 125/125 [02:44<00:00,  1.32s/it]\n",
            "                 Class     Images  Instances      Box(P          R      mAP50  mAP50-95): 100%|██████████| 6/6 [00:05<00:00,  1.01it/s]"
          ]
        },
        {
          "output_type": "stream",
          "name": "stdout",
          "text": [
            "                   all        180        434      0.695      0.705      0.743      0.475\n"
          ]
        },
        {
          "output_type": "stream",
          "name": "stderr",
          "text": [
            "\n"
          ]
        },
        {
          "output_type": "stream",
          "name": "stdout",
          "text": [
            "\n",
            "      Epoch    GPU_mem   box_loss   cls_loss   dfl_loss  Instances       Size\n"
          ]
        },
        {
          "output_type": "stream",
          "name": "stderr",
          "text": [
            "      20/30      12.2G       1.38      1.341      1.029         35        640: 100%|██████████| 125/125 [02:45<00:00,  1.32s/it]\n",
            "                 Class     Images  Instances      Box(P          R      mAP50  mAP50-95): 100%|██████████| 6/6 [00:05<00:00,  1.02it/s]"
          ]
        },
        {
          "output_type": "stream",
          "name": "stdout",
          "text": [
            "                   all        180        434      0.716      0.668      0.744      0.473\n"
          ]
        },
        {
          "output_type": "stream",
          "name": "stderr",
          "text": [
            "\n"
          ]
        },
        {
          "output_type": "stream",
          "name": "stdout",
          "text": [
            "Closing dataloader mosaic\n",
            "\u001b[34m\u001b[1malbumentations: \u001b[0mBlur(p=0.01, blur_limit=(3, 7)), MedianBlur(p=0.01, blur_limit=(3, 7)), ToGray(p=0.01, method='weighted_average', num_output_channels=3), CLAHE(p=0.01, clip_limit=(1.0, 4.0), tile_grid_size=(8, 8))\n",
            "\n",
            "      Epoch    GPU_mem   box_loss   cls_loss   dfl_loss  Instances       Size\n"
          ]
        },
        {
          "output_type": "stream",
          "name": "stderr",
          "text": [
            "      21/30      12.2G      1.381      1.382      1.036         33        640: 100%|██████████| 125/125 [02:44<00:00,  1.32s/it]\n",
            "                 Class     Images  Instances      Box(P          R      mAP50  mAP50-95): 100%|██████████| 6/6 [00:06<00:00,  1.00s/it]"
          ]
        },
        {
          "output_type": "stream",
          "name": "stdout",
          "text": [
            "                   all        180        434      0.659      0.709      0.729      0.456\n"
          ]
        },
        {
          "output_type": "stream",
          "name": "stderr",
          "text": [
            "\n"
          ]
        },
        {
          "output_type": "stream",
          "name": "stdout",
          "text": [
            "\n",
            "      Epoch    GPU_mem   box_loss   cls_loss   dfl_loss  Instances       Size\n"
          ]
        },
        {
          "output_type": "stream",
          "name": "stderr",
          "text": [
            "      22/30        12G      1.394       1.53      1.034          3        640: 100%|██████████| 125/125 [02:43<00:00,  1.31s/it]\n",
            "                 Class     Images  Instances      Box(P          R      mAP50  mAP50-95): 100%|██████████| 6/6 [00:05<00:00,  1.01it/s]"
          ]
        },
        {
          "output_type": "stream",
          "name": "stdout",
          "text": [
            "                   all        180        434      0.659      0.673      0.727      0.467\n"
          ]
        },
        {
          "output_type": "stream",
          "name": "stderr",
          "text": [
            "\n"
          ]
        },
        {
          "output_type": "stream",
          "name": "stdout",
          "text": [
            "\n",
            "      Epoch    GPU_mem   box_loss   cls_loss   dfl_loss  Instances       Size\n"
          ]
        },
        {
          "output_type": "stream",
          "name": "stderr",
          "text": [
            "      23/30      12.2G      1.337      1.449      1.022          0        640: 100%|██████████| 125/125 [02:43<00:00,  1.31s/it]\n",
            "                 Class     Images  Instances      Box(P          R      mAP50  mAP50-95): 100%|██████████| 6/6 [00:05<00:00,  1.01it/s]"
          ]
        },
        {
          "output_type": "stream",
          "name": "stdout",
          "text": [
            "                   all        180        434      0.645      0.749      0.743      0.476\n"
          ]
        },
        {
          "output_type": "stream",
          "name": "stderr",
          "text": [
            "\n"
          ]
        },
        {
          "output_type": "stream",
          "name": "stdout",
          "text": [
            "\n",
            "      Epoch    GPU_mem   box_loss   cls_loss   dfl_loss  Instances       Size\n"
          ]
        },
        {
          "output_type": "stream",
          "name": "stderr",
          "text": [
            "      24/30      12.2G      1.392      1.418      1.051         23        640: 100%|██████████| 125/125 [02:43<00:00,  1.31s/it]\n",
            "                 Class     Images  Instances      Box(P          R      mAP50  mAP50-95): 100%|██████████| 6/6 [00:06<00:00,  1.00s/it]"
          ]
        },
        {
          "output_type": "stream",
          "name": "stdout",
          "text": [
            "                   all        180        434      0.643      0.781      0.765      0.487\n"
          ]
        },
        {
          "output_type": "stream",
          "name": "stderr",
          "text": [
            "\n"
          ]
        },
        {
          "output_type": "stream",
          "name": "stdout",
          "text": [
            "\n",
            "      Epoch    GPU_mem   box_loss   cls_loss   dfl_loss  Instances       Size\n"
          ]
        },
        {
          "output_type": "stream",
          "name": "stderr",
          "text": [
            "      25/30      12.2G      1.401      1.442       1.03         15        640: 100%|██████████| 125/125 [02:43<00:00,  1.31s/it]\n",
            "                 Class     Images  Instances      Box(P          R      mAP50  mAP50-95): 100%|██████████| 6/6 [00:05<00:00,  1.01it/s]"
          ]
        },
        {
          "output_type": "stream",
          "name": "stdout",
          "text": [
            "                   all        180        434      0.644      0.758      0.761      0.477\n"
          ]
        },
        {
          "output_type": "stream",
          "name": "stderr",
          "text": [
            "\n"
          ]
        },
        {
          "output_type": "stream",
          "name": "stdout",
          "text": [
            "\n",
            "      Epoch    GPU_mem   box_loss   cls_loss   dfl_loss  Instances       Size\n"
          ]
        },
        {
          "output_type": "stream",
          "name": "stderr",
          "text": [
            "      26/30        12G      1.348      1.337      1.021         20        640: 100%|██████████| 125/125 [02:43<00:00,  1.31s/it]\n",
            "                 Class     Images  Instances      Box(P          R      mAP50  mAP50-95): 100%|██████████| 6/6 [00:05<00:00,  1.01it/s]"
          ]
        },
        {
          "output_type": "stream",
          "name": "stdout",
          "text": [
            "                   all        180        434      0.714      0.684       0.76       0.48\n"
          ]
        },
        {
          "output_type": "stream",
          "name": "stderr",
          "text": [
            "\n"
          ]
        },
        {
          "output_type": "stream",
          "name": "stdout",
          "text": [
            "\n",
            "      Epoch    GPU_mem   box_loss   cls_loss   dfl_loss  Instances       Size\n"
          ]
        },
        {
          "output_type": "stream",
          "name": "stderr",
          "text": [
            "      27/30      12.1G      1.341      1.509       1.02         23        640: 100%|██████████| 125/125 [02:42<00:00,  1.30s/it]\n",
            "                 Class     Images  Instances      Box(P          R      mAP50  mAP50-95): 100%|██████████| 6/6 [00:05<00:00,  1.00it/s]"
          ]
        },
        {
          "output_type": "stream",
          "name": "stdout",
          "text": [
            "                   all        180        434      0.664      0.749      0.755      0.475\n"
          ]
        },
        {
          "output_type": "stream",
          "name": "stderr",
          "text": [
            "\n"
          ]
        },
        {
          "output_type": "stream",
          "name": "stdout",
          "text": [
            "\n",
            "      Epoch    GPU_mem   box_loss   cls_loss   dfl_loss  Instances       Size\n"
          ]
        },
        {
          "output_type": "stream",
          "name": "stderr",
          "text": [
            "      28/30      12.2G      1.284      1.206     0.9978          8        640: 100%|██████████| 125/125 [02:42<00:00,  1.30s/it]\n",
            "                 Class     Images  Instances      Box(P          R      mAP50  mAP50-95): 100%|██████████| 6/6 [00:05<00:00,  1.01it/s]"
          ]
        },
        {
          "output_type": "stream",
          "name": "stdout",
          "text": [
            "                   all        180        434      0.652      0.742      0.748      0.478\n"
          ]
        },
        {
          "output_type": "stream",
          "name": "stderr",
          "text": [
            "\n"
          ]
        },
        {
          "output_type": "stream",
          "name": "stdout",
          "text": [
            "\n",
            "      Epoch    GPU_mem   box_loss   cls_loss   dfl_loss  Instances       Size\n"
          ]
        },
        {
          "output_type": "stream",
          "name": "stderr",
          "text": [
            "      29/30      12.2G      1.326      1.292      1.035         67        640: 100%|██████████| 125/125 [02:43<00:00,  1.30s/it]\n",
            "                 Class     Images  Instances      Box(P          R      mAP50  mAP50-95): 100%|██████████| 6/6 [00:05<00:00,  1.03it/s]"
          ]
        },
        {
          "output_type": "stream",
          "name": "stdout",
          "text": [
            "                   all        180        434      0.654      0.731      0.751      0.481\n"
          ]
        },
        {
          "output_type": "stream",
          "name": "stderr",
          "text": [
            "\n"
          ]
        },
        {
          "output_type": "stream",
          "name": "stdout",
          "text": [
            "\n",
            "      Epoch    GPU_mem   box_loss   cls_loss   dfl_loss  Instances       Size\n"
          ]
        },
        {
          "output_type": "stream",
          "name": "stderr",
          "text": [
            "      30/30        12G       1.29      1.239       1.02         31        640: 100%|██████████| 125/125 [02:42<00:00,  1.30s/it]\n",
            "                 Class     Images  Instances      Box(P          R      mAP50  mAP50-95): 100%|██████████| 6/6 [00:05<00:00,  1.01it/s]"
          ]
        },
        {
          "output_type": "stream",
          "name": "stdout",
          "text": [
            "                   all        180        434      0.672      0.726      0.752      0.471\n"
          ]
        },
        {
          "output_type": "stream",
          "name": "stderr",
          "text": [
            "\n"
          ]
        },
        {
          "output_type": "stream",
          "name": "stdout",
          "text": [
            "\n",
            "30 epochs completed in 1.477 hours.\n",
            "Optimizer stripped from runs/detect/train/weights/last.pt, 136.7MB\n",
            "Optimizer stripped from runs/detect/train/weights/best.pt, 136.7MB\n",
            "\n",
            "Validating runs/detect/train/weights/best.pt...\n",
            "Ultralytics 8.3.140 🚀 Python-3.11.12 torch-2.6.0+cu124 CUDA:0 (Tesla T4, 15095MiB)\n",
            "Model summary (fused): 112 layers, 68,125,494 parameters, 0 gradients, 257.4 GFLOPs\n"
          ]
        },
        {
          "output_type": "stream",
          "name": "stderr",
          "text": [
            "                 Class     Images  Instances      Box(P          R      mAP50  mAP50-95): 100%|██████████| 6/6 [00:07<00:00,  1.19s/it]\n"
          ]
        },
        {
          "output_type": "stream",
          "name": "stdout",
          "text": [
            "                   all        180        434      0.642      0.781      0.765      0.487\n",
            "                 olive         72        434      0.642      0.781      0.765      0.487\n",
            "Speed: 0.3ms preprocess, 29.1ms inference, 0.0ms loss, 3.2ms postprocess per image\n",
            "Results saved to \u001b[1mruns/detect/train\u001b[0m\n"
          ]
        },
        {
          "output_type": "execute_result",
          "data": {
            "text/plain": [
              "ultralytics.utils.metrics.DetMetrics object with attributes:\n",
              "\n",
              "ap_class_index: array([0])\n",
              "box: ultralytics.utils.metrics.Metric object\n",
              "confusion_matrix: <ultralytics.utils.metrics.ConfusionMatrix object at 0x78b704193a10>\n",
              "curves: ['Precision-Recall(B)', 'F1-Confidence(B)', 'Precision-Confidence(B)', 'Recall-Confidence(B)']\n",
              "curves_results: [[array([          0,    0.001001,    0.002002,    0.003003,    0.004004,    0.005005,    0.006006,    0.007007,    0.008008,    0.009009,     0.01001,    0.011011,    0.012012,    0.013013,    0.014014,    0.015015,    0.016016,    0.017017,    0.018018,    0.019019,     0.02002,    0.021021,    0.022022,    0.023023,\n",
              "          0.024024,    0.025025,    0.026026,    0.027027,    0.028028,    0.029029,     0.03003,    0.031031,    0.032032,    0.033033,    0.034034,    0.035035,    0.036036,    0.037037,    0.038038,    0.039039,     0.04004,    0.041041,    0.042042,    0.043043,    0.044044,    0.045045,    0.046046,    0.047047,\n",
              "          0.048048,    0.049049,     0.05005,    0.051051,    0.052052,    0.053053,    0.054054,    0.055055,    0.056056,    0.057057,    0.058058,    0.059059,     0.06006,    0.061061,    0.062062,    0.063063,    0.064064,    0.065065,    0.066066,    0.067067,    0.068068,    0.069069,     0.07007,    0.071071,\n",
              "          0.072072,    0.073073,    0.074074,    0.075075,    0.076076,    0.077077,    0.078078,    0.079079,     0.08008,    0.081081,    0.082082,    0.083083,    0.084084,    0.085085,    0.086086,    0.087087,    0.088088,    0.089089,     0.09009,    0.091091,    0.092092,    0.093093,    0.094094,    0.095095,\n",
              "          0.096096,    0.097097,    0.098098,    0.099099,      0.1001,      0.1011,      0.1021,      0.1031,      0.1041,     0.10511,     0.10611,     0.10711,     0.10811,     0.10911,     0.11011,     0.11111,     0.11211,     0.11311,     0.11411,     0.11512,     0.11612,     0.11712,     0.11812,     0.11912,\n",
              "           0.12012,     0.12112,     0.12212,     0.12312,     0.12412,     0.12513,     0.12613,     0.12713,     0.12813,     0.12913,     0.13013,     0.13113,     0.13213,     0.13313,     0.13413,     0.13514,     0.13614,     0.13714,     0.13814,     0.13914,     0.14014,     0.14114,     0.14214,     0.14314,\n",
              "           0.14414,     0.14515,     0.14615,     0.14715,     0.14815,     0.14915,     0.15015,     0.15115,     0.15215,     0.15315,     0.15415,     0.15516,     0.15616,     0.15716,     0.15816,     0.15916,     0.16016,     0.16116,     0.16216,     0.16316,     0.16416,     0.16517,     0.16617,     0.16717,\n",
              "           0.16817,     0.16917,     0.17017,     0.17117,     0.17217,     0.17317,     0.17417,     0.17518,     0.17618,     0.17718,     0.17818,     0.17918,     0.18018,     0.18118,     0.18218,     0.18318,     0.18418,     0.18519,     0.18619,     0.18719,     0.18819,     0.18919,     0.19019,     0.19119,\n",
              "           0.19219,     0.19319,     0.19419,      0.1952,      0.1962,      0.1972,      0.1982,      0.1992,      0.2002,      0.2012,      0.2022,      0.2032,      0.2042,     0.20521,     0.20621,     0.20721,     0.20821,     0.20921,     0.21021,     0.21121,     0.21221,     0.21321,     0.21421,     0.21522,\n",
              "           0.21622,     0.21722,     0.21822,     0.21922,     0.22022,     0.22122,     0.22222,     0.22322,     0.22422,     0.22523,     0.22623,     0.22723,     0.22823,     0.22923,     0.23023,     0.23123,     0.23223,     0.23323,     0.23423,     0.23524,     0.23624,     0.23724,     0.23824,     0.23924,\n",
              "           0.24024,     0.24124,     0.24224,     0.24324,     0.24424,     0.24525,     0.24625,     0.24725,     0.24825,     0.24925,     0.25025,     0.25125,     0.25225,     0.25325,     0.25425,     0.25526,     0.25626,     0.25726,     0.25826,     0.25926,     0.26026,     0.26126,     0.26226,     0.26326,\n",
              "           0.26426,     0.26527,     0.26627,     0.26727,     0.26827,     0.26927,     0.27027,     0.27127,     0.27227,     0.27327,     0.27427,     0.27528,     0.27628,     0.27728,     0.27828,     0.27928,     0.28028,     0.28128,     0.28228,     0.28328,     0.28428,     0.28529,     0.28629,     0.28729,\n",
              "           0.28829,     0.28929,     0.29029,     0.29129,     0.29229,     0.29329,     0.29429,      0.2953,      0.2963,      0.2973,      0.2983,      0.2993,      0.3003,      0.3013,      0.3023,      0.3033,      0.3043,     0.30531,     0.30631,     0.30731,     0.30831,     0.30931,     0.31031,     0.31131,\n",
              "           0.31231,     0.31331,     0.31431,     0.31532,     0.31632,     0.31732,     0.31832,     0.31932,     0.32032,     0.32132,     0.32232,     0.32332,     0.32432,     0.32533,     0.32633,     0.32733,     0.32833,     0.32933,     0.33033,     0.33133,     0.33233,     0.33333,     0.33433,     0.33534,\n",
              "           0.33634,     0.33734,     0.33834,     0.33934,     0.34034,     0.34134,     0.34234,     0.34334,     0.34434,     0.34535,     0.34635,     0.34735,     0.34835,     0.34935,     0.35035,     0.35135,     0.35235,     0.35335,     0.35435,     0.35536,     0.35636,     0.35736,     0.35836,     0.35936,\n",
              "           0.36036,     0.36136,     0.36236,     0.36336,     0.36436,     0.36537,     0.36637,     0.36737,     0.36837,     0.36937,     0.37037,     0.37137,     0.37237,     0.37337,     0.37437,     0.37538,     0.37638,     0.37738,     0.37838,     0.37938,     0.38038,     0.38138,     0.38238,     0.38338,\n",
              "           0.38438,     0.38539,     0.38639,     0.38739,     0.38839,     0.38939,     0.39039,     0.39139,     0.39239,     0.39339,     0.39439,      0.3954,      0.3964,      0.3974,      0.3984,      0.3994,      0.4004,      0.4014,      0.4024,      0.4034,      0.4044,     0.40541,     0.40641,     0.40741,\n",
              "           0.40841,     0.40941,     0.41041,     0.41141,     0.41241,     0.41341,     0.41441,     0.41542,     0.41642,     0.41742,     0.41842,     0.41942,     0.42042,     0.42142,     0.42242,     0.42342,     0.42442,     0.42543,     0.42643,     0.42743,     0.42843,     0.42943,     0.43043,     0.43143,\n",
              "           0.43243,     0.43343,     0.43443,     0.43544,     0.43644,     0.43744,     0.43844,     0.43944,     0.44044,     0.44144,     0.44244,     0.44344,     0.44444,     0.44545,     0.44645,     0.44745,     0.44845,     0.44945,     0.45045,     0.45145,     0.45245,     0.45345,     0.45445,     0.45546,\n",
              "           0.45646,     0.45746,     0.45846,     0.45946,     0.46046,     0.46146,     0.46246,     0.46346,     0.46446,     0.46547,     0.46647,     0.46747,     0.46847,     0.46947,     0.47047,     0.47147,     0.47247,     0.47347,     0.47447,     0.47548,     0.47648,     0.47748,     0.47848,     0.47948,\n",
              "           0.48048,     0.48148,     0.48248,     0.48348,     0.48448,     0.48549,     0.48649,     0.48749,     0.48849,     0.48949,     0.49049,     0.49149,     0.49249,     0.49349,     0.49449,      0.4955,      0.4965,      0.4975,      0.4985,      0.4995,      0.5005,      0.5015,      0.5025,      0.5035,\n",
              "            0.5045,     0.50551,     0.50651,     0.50751,     0.50851,     0.50951,     0.51051,     0.51151,     0.51251,     0.51351,     0.51451,     0.51552,     0.51652,     0.51752,     0.51852,     0.51952,     0.52052,     0.52152,     0.52252,     0.52352,     0.52452,     0.52553,     0.52653,     0.52753,\n",
              "           0.52853,     0.52953,     0.53053,     0.53153,     0.53253,     0.53353,     0.53453,     0.53554,     0.53654,     0.53754,     0.53854,     0.53954,     0.54054,     0.54154,     0.54254,     0.54354,     0.54454,     0.54555,     0.54655,     0.54755,     0.54855,     0.54955,     0.55055,     0.55155,\n",
              "           0.55255,     0.55355,     0.55455,     0.55556,     0.55656,     0.55756,     0.55856,     0.55956,     0.56056,     0.56156,     0.56256,     0.56356,     0.56456,     0.56557,     0.56657,     0.56757,     0.56857,     0.56957,     0.57057,     0.57157,     0.57257,     0.57357,     0.57457,     0.57558,\n",
              "           0.57658,     0.57758,     0.57858,     0.57958,     0.58058,     0.58158,     0.58258,     0.58358,     0.58458,     0.58559,     0.58659,     0.58759,     0.58859,     0.58959,     0.59059,     0.59159,     0.59259,     0.59359,     0.59459,      0.5956,      0.5966,      0.5976,      0.5986,      0.5996,\n",
              "            0.6006,      0.6016,      0.6026,      0.6036,      0.6046,     0.60561,     0.60661,     0.60761,     0.60861,     0.60961,     0.61061,     0.61161,     0.61261,     0.61361,     0.61461,     0.61562,     0.61662,     0.61762,     0.61862,     0.61962,     0.62062,     0.62162,     0.62262,     0.62362,\n",
              "           0.62462,     0.62563,     0.62663,     0.62763,     0.62863,     0.62963,     0.63063,     0.63163,     0.63263,     0.63363,     0.63463,     0.63564,     0.63664,     0.63764,     0.63864,     0.63964,     0.64064,     0.64164,     0.64264,     0.64364,     0.64464,     0.64565,     0.64665,     0.64765,\n",
              "           0.64865,     0.64965,     0.65065,     0.65165,     0.65265,     0.65365,     0.65465,     0.65566,     0.65666,     0.65766,     0.65866,     0.65966,     0.66066,     0.66166,     0.66266,     0.66366,     0.66466,     0.66567,     0.66667,     0.66767,     0.66867,     0.66967,     0.67067,     0.67167,\n",
              "           0.67267,     0.67367,     0.67467,     0.67568,     0.67668,     0.67768,     0.67868,     0.67968,     0.68068,     0.68168,     0.68268,     0.68368,     0.68468,     0.68569,     0.68669,     0.68769,     0.68869,     0.68969,     0.69069,     0.69169,     0.69269,     0.69369,     0.69469,      0.6957,\n",
              "            0.6967,      0.6977,      0.6987,      0.6997,      0.7007,      0.7017,      0.7027,      0.7037,      0.7047,     0.70571,     0.70671,     0.70771,     0.70871,     0.70971,     0.71071,     0.71171,     0.71271,     0.71371,     0.71471,     0.71572,     0.71672,     0.71772,     0.71872,     0.71972,\n",
              "           0.72072,     0.72172,     0.72272,     0.72372,     0.72472,     0.72573,     0.72673,     0.72773,     0.72873,     0.72973,     0.73073,     0.73173,     0.73273,     0.73373,     0.73473,     0.73574,     0.73674,     0.73774,     0.73874,     0.73974,     0.74074,     0.74174,     0.74274,     0.74374,\n",
              "           0.74474,     0.74575,     0.74675,     0.74775,     0.74875,     0.74975,     0.75075,     0.75175,     0.75275,     0.75375,     0.75475,     0.75576,     0.75676,     0.75776,     0.75876,     0.75976,     0.76076,     0.76176,     0.76276,     0.76376,     0.76476,     0.76577,     0.76677,     0.76777,\n",
              "           0.76877,     0.76977,     0.77077,     0.77177,     0.77277,     0.77377,     0.77477,     0.77578,     0.77678,     0.77778,     0.77878,     0.77978,     0.78078,     0.78178,     0.78278,     0.78378,     0.78478,     0.78579,     0.78679,     0.78779,     0.78879,     0.78979,     0.79079,     0.79179,\n",
              "           0.79279,     0.79379,     0.79479,      0.7958,      0.7968,      0.7978,      0.7988,      0.7998,      0.8008,      0.8018,      0.8028,      0.8038,      0.8048,     0.80581,     0.80681,     0.80781,     0.80881,     0.80981,     0.81081,     0.81181,     0.81281,     0.81381,     0.81481,     0.81582,\n",
              "           0.81682,     0.81782,     0.81882,     0.81982,     0.82082,     0.82182,     0.82282,     0.82382,     0.82482,     0.82583,     0.82683,     0.82783,     0.82883,     0.82983,     0.83083,     0.83183,     0.83283,     0.83383,     0.83483,     0.83584,     0.83684,     0.83784,     0.83884,     0.83984,\n",
              "           0.84084,     0.84184,     0.84284,     0.84384,     0.84484,     0.84585,     0.84685,     0.84785,     0.84885,     0.84985,     0.85085,     0.85185,     0.85285,     0.85385,     0.85485,     0.85586,     0.85686,     0.85786,     0.85886,     0.85986,     0.86086,     0.86186,     0.86286,     0.86386,\n",
              "           0.86486,     0.86587,     0.86687,     0.86787,     0.86887,     0.86987,     0.87087,     0.87187,     0.87287,     0.87387,     0.87487,     0.87588,     0.87688,     0.87788,     0.87888,     0.87988,     0.88088,     0.88188,     0.88288,     0.88388,     0.88488,     0.88589,     0.88689,     0.88789,\n",
              "           0.88889,     0.88989,     0.89089,     0.89189,     0.89289,     0.89389,     0.89489,      0.8959,      0.8969,      0.8979,      0.8989,      0.8999,      0.9009,      0.9019,      0.9029,      0.9039,      0.9049,     0.90591,     0.90691,     0.90791,     0.90891,     0.90991,     0.91091,     0.91191,\n",
              "           0.91291,     0.91391,     0.91491,     0.91592,     0.91692,     0.91792,     0.91892,     0.91992,     0.92092,     0.92192,     0.92292,     0.92392,     0.92492,     0.92593,     0.92693,     0.92793,     0.92893,     0.92993,     0.93093,     0.93193,     0.93293,     0.93393,     0.93493,     0.93594,\n",
              "           0.93694,     0.93794,     0.93894,     0.93994,     0.94094,     0.94194,     0.94294,     0.94394,     0.94494,     0.94595,     0.94695,     0.94795,     0.94895,     0.94995,     0.95095,     0.95195,     0.95295,     0.95395,     0.95495,     0.95596,     0.95696,     0.95796,     0.95896,     0.95996,\n",
              "           0.96096,     0.96196,     0.96296,     0.96396,     0.96496,     0.96597,     0.96697,     0.96797,     0.96897,     0.96997,     0.97097,     0.97197,     0.97297,     0.97397,     0.97497,     0.97598,     0.97698,     0.97798,     0.97898,     0.97998,     0.98098,     0.98198,     0.98298,     0.98398,\n",
              "           0.98498,     0.98599,     0.98699,     0.98799,     0.98899,     0.98999,     0.99099,     0.99199,     0.99299,     0.99399,     0.99499,       0.996,       0.997,       0.998,       0.999,           1]), array([[          1,           1,           1,           1,           1,           1,           1,           1,           1,           1,           1,           1,           1,           1,           1,           1,           1,           1,           1,           1,           1,           1,           1,\n",
              "                  1,           1,           1,           1,           1,           1,           1,           1,           1,           1,           1,           1,           1,           1,           1,           1,           1,           1,           1,           1,           1,           1,           1,\n",
              "                  1,           1,           1,           1,           1,           1,           1,           1,           1,           1,           1,           1,           1,           1,           1,           1,           1,           1,           1,           1,           1,           1,           1,\n",
              "                  1,           1,           1,           1,           1,           1,           1,           1,           1,           1,           1,           1,           1,           1,           1,           1,           1,           1,           1,           1,           1,           1,           1,\n",
              "                  1,           1,           1,           1,           1,           1,           1,           1,           1,           1,           1,           1,           1,           1,           1,           1,           1,     0.98438,     0.98438,     0.98438,     0.98438,     0.98438,     0.98438,\n",
              "            0.98438,     0.98438,     0.98438,     0.98438,     0.98438,     0.98438,     0.98438,     0.98438,     0.98438,     0.98438,     0.98438,     0.98438,     0.98438,     0.98438,     0.98438,     0.98438,     0.98438,     0.98438,     0.98438,     0.98438,     0.98438,     0.98438,     0.98438,\n",
              "            0.98438,     0.98438,     0.98438,     0.98438,     0.98438,     0.98438,     0.98438,     0.98438,     0.97297,     0.97297,     0.97297,     0.97297,     0.97297,     0.97297,     0.97297,     0.97297,     0.97297,     0.97297,     0.97297,     0.97297,     0.97297,     0.97297,     0.97297,\n",
              "            0.97297,     0.97297,     0.97297,     0.97297,     0.97297,     0.96512,     0.96512,     0.96512,     0.96512,     0.96512,     0.96512,     0.96512,     0.96512,     0.96512,     0.96512,     0.96512,     0.96512,     0.96512,     0.96512,     0.96512,     0.96512,     0.96512,     0.96512,\n",
              "            0.96512,     0.96512,     0.96512,     0.96512,     0.96512,     0.96512,     0.96512,     0.96512,     0.95833,     0.95833,     0.95833,     0.95833,     0.95833,     0.95833,     0.95833,     0.95833,     0.95833,     0.95833,     0.95833,     0.95833,     0.95833,     0.95833,     0.95833,\n",
              "            0.95833,     0.95833,     0.95833,     0.95833,     0.95833,     0.95192,     0.95192,     0.95192,     0.95192,     0.95192,     0.95192,     0.95192,     0.95192,     0.95192,     0.95192,     0.95192,     0.95192,     0.95192,     0.95192,     0.95192,     0.95192,     0.94393,     0.94393,\n",
              "            0.94393,     0.94393,     0.94393,     0.94017,     0.94017,     0.94017,     0.94017,     0.94017,     0.94017,     0.94017,     0.94017,     0.94017,     0.94017,     0.94017,     0.94017,     0.94017,     0.94017,     0.94017,     0.94017,     0.94017,     0.94017,     0.94017,     0.94017,\n",
              "            0.94017,     0.93525,     0.93525,     0.93525,     0.93525,     0.93525,     0.93525,     0.93525,     0.93525,     0.93525,     0.93525,     0.93525,     0.93525,     0.93525,     0.93525,     0.93525,     0.93525,     0.93525,     0.93525,     0.93525,     0.93525,     0.93525,     0.93525,\n",
              "            0.93525,     0.93525,     0.93525,     0.93525,     0.93525,     0.93525,     0.93525,     0.93525,     0.93525,     0.93525,     0.93525,     0.93525,     0.93525,     0.93525,     0.93525,     0.93525,     0.93525,     0.93525,     0.93525,     0.93525,     0.93525,     0.93525,     0.93525,\n",
              "            0.93525,     0.93103,     0.93103,     0.93103,     0.93103,     0.93103,     0.93103,     0.93103,     0.93103,     0.93103,     0.93103,     0.93103,     0.92763,     0.92763,     0.92763,     0.92763,     0.92763,     0.92763,     0.92763,     0.92763,     0.92763,     0.92763,     0.92763,\n",
              "            0.92763,     0.92763,     0.92763,     0.91875,     0.91875,     0.91875,     0.91875,     0.91875,     0.91875,     0.91875,     0.91875,     0.91875,     0.91875,     0.91875,     0.91875,     0.91875,     0.91875,      0.9162,      0.9162,      0.9162,      0.9162,      0.9162,      0.9162,\n",
              "             0.9162,      0.9162,      0.9162,      0.9162,      0.9162,      0.9162,      0.9162,      0.9162,      0.9162,      0.9162,      0.9162,      0.9162,      0.9162,      0.9162,      0.9162,      0.9162,      0.9162,      0.9162,      0.9162,      0.9162,      0.9162,      0.9162,      0.9162,\n",
              "             0.9162,      0.9162,      0.9162,      0.9162,      0.9162,      0.9162,      0.9162,      0.9162,      0.9162,      0.9162,     0.91257,     0.91257,     0.91257,     0.91257,     0.91257,     0.91257,     0.91257,     0.90811,     0.90811,     0.90374,     0.90374,     0.90374,     0.89947,\n",
              "            0.89947,     0.89062,     0.89062,     0.87437,     0.87437,     0.87437,     0.87437,     0.87437,     0.87437,     0.87437,     0.86765,     0.86765,     0.86765,     0.86765,     0.86765,     0.86765,     0.86765,     0.86408,     0.86408,     0.86058,     0.86058,     0.86058,     0.85714,\n",
              "            0.85714,     0.85047,     0.85047,     0.85047,     0.85047,     0.84793,     0.84793,     0.84793,     0.84793,     0.84793,     0.84475,     0.84475,     0.84444,     0.84444,     0.84444,     0.84444,     0.84444,     0.84444,     0.84444,     0.84444,     0.84444,     0.84444,     0.84444,\n",
              "            0.84444,     0.84211,     0.84211,     0.84211,     0.84211,     0.83401,     0.83401,     0.83401,     0.83401,     0.83401,     0.83401,     0.83401,     0.83401,     0.83401,     0.83401,     0.83401,     0.83401,     0.83401,     0.83401,     0.83401,     0.83401,     0.83401,     0.83401,\n",
              "            0.83401,     0.83401,     0.83401,     0.83401,     0.83401,     0.83401,     0.83401,     0.83401,     0.83401,     0.83401,     0.83401,     0.83401,     0.83401,     0.83401,     0.83401,     0.82937,     0.82937,     0.82937,     0.82937,     0.82937,     0.82937,     0.82937,     0.82422,\n",
              "            0.82422,     0.82422,     0.82422,     0.82308,     0.82308,     0.82308,     0.82308,     0.82308,     0.82308,     0.82308,     0.81749,     0.81749,     0.81625,     0.81625,     0.81625,     0.81625,     0.81625,     0.81625,     0.81625,     0.81625,     0.81625,     0.81625,     0.81625,\n",
              "            0.81625,     0.81625,     0.81625,     0.81625,     0.81625,     0.81625,     0.81625,     0.81625,     0.81625,     0.81625,     0.81625,     0.81625,     0.81625,     0.81625,     0.81625,     0.81625,     0.81625,     0.81625,     0.81625,     0.81625,     0.81625,     0.81625,     0.81625,\n",
              "            0.81625,     0.81625,     0.81625,     0.81544,     0.81544,     0.81544,     0.81544,     0.81544,     0.81544,     0.81544,     0.81544,     0.81544,     0.81544,     0.81544,     0.81544,     0.81544,     0.81544,     0.81544,     0.81544,     0.81544,     0.81544,     0.81544,     0.81544,\n",
              "            0.81544,     0.81544,     0.81544,     0.81544,     0.81544,     0.81544,     0.81544,     0.81544,     0.81126,     0.81126,     0.81126,     0.81126,     0.80921,     0.80921,     0.80921,     0.80769,     0.80769,     0.80769,     0.80769,     0.80769,     0.80769,     0.80769,     0.80769,\n",
              "            0.80769,     0.80769,     0.80769,     0.80769,     0.80769,     0.80769,     0.80573,     0.80573,     0.80189,     0.80189,     0.80189,     0.80189,     0.79876,     0.79876,     0.79876,     0.79876,     0.79876,     0.79876,     0.79876,     0.78963,     0.78963,     0.78963,     0.78788,\n",
              "            0.78788,     0.78443,     0.78443,     0.78443,     0.78443,     0.78443,     0.78274,     0.78274,     0.77522,     0.77522,     0.77522,     0.77522,     0.77522,     0.77522,     0.77522,     0.77522,     0.77522,     0.77522,     0.77522,     0.77522,     0.77522,     0.77522,     0.77364,\n",
              "            0.77364,     0.76771,     0.76771,     0.76257,     0.76257,     0.76257,     0.76257,     0.76257,     0.75342,     0.75342,     0.75342,     0.75342,     0.75342,     0.75135,     0.75135,     0.75135,     0.75135,     0.75135,     0.75135,     0.75134,     0.75134,     0.75134,     0.75134,\n",
              "            0.75134,     0.75134,     0.75134,     0.74406,     0.74406,     0.74406,     0.74278,     0.74278,     0.74151,     0.74151,     0.73902,     0.73902,     0.73902,     0.73902,     0.73902,     0.73028,     0.73028,     0.72932,     0.72932,     0.72932,     0.72932,     0.72932,     0.72932,\n",
              "            0.72932,     0.72932,     0.72932,     0.72818,     0.72818,     0.72818,     0.72372,     0.72372,     0.72372,     0.72372,     0.72372,     0.72372,     0.72372,     0.72372,     0.72372,     0.72263,     0.72263,     0.71635,     0.71635,     0.70519,     0.70519,     0.70519,      0.6993,\n",
              "             0.6993,     0.69838,     0.69838,     0.69746,     0.69746,     0.69746,     0.69476,     0.69476,     0.69476,     0.69476,     0.69476,     0.69476,     0.69476,     0.69144,     0.69144,     0.69144,     0.69144,     0.68597,     0.68597,     0.68062,     0.68062,     0.68062,     0.67387,\n",
              "            0.67387,     0.67387,     0.67387,     0.67387,     0.67387,     0.67387,     0.67024,     0.67024,     0.66809,     0.66809,     0.66667,     0.66667,     0.66667,     0.66667,     0.66667,     0.66597,     0.66597,     0.66116,     0.66116,     0.66116,     0.66116,     0.66116,     0.66116,\n",
              "            0.66116,     0.66057,     0.66057,     0.66057,     0.66057,     0.66057,     0.66057,     0.66057,     0.66057,     0.66057,     0.66057,     0.66057,     0.66057,     0.65859,     0.65859,     0.65731,     0.65731,     0.65731,     0.65731,     0.65731,     0.65669,     0.65669,     0.65476,\n",
              "            0.65476,     0.65415,     0.65415,     0.65354,     0.65354,     0.65354,     0.65107,     0.65107,     0.65107,     0.65107,     0.64922,     0.64922,     0.64922,     0.64865,     0.64865,     0.64326,     0.64326,     0.64326,     0.64326,     0.64326,     0.64326,     0.64326,     0.63687,\n",
              "            0.63687,     0.63687,     0.63687,     0.63687,     0.63687,     0.63687,     0.63586,     0.63586,     0.63586,     0.63586,     0.63419,     0.63419,     0.63419,     0.63024,     0.63024,     0.62976,     0.62976,     0.62703,     0.62703,     0.62703,     0.62612,     0.62612,     0.62612,\n",
              "            0.62612,     0.61257,     0.61257,     0.60585,     0.60585,     0.60585,     0.59729,     0.59729,     0.57282,     0.57282,     0.56982,     0.56982,     0.56982,     0.56869,     0.56869,     0.55956,     0.55956,     0.55832,     0.55832,     0.55832,     0.55832,     0.55832,     0.55814,\n",
              "            0.55814,     0.55453,     0.55453,     0.55436,     0.55436,     0.55436,     0.55335,     0.55335,     0.55136,     0.55136,     0.55136,     0.55136,     0.55136,     0.54776,     0.54776,     0.54776,     0.54776,     0.54748,     0.54748,     0.54748,     0.54748,     0.54748,     0.54094,\n",
              "            0.54094,     0.54003,     0.54003,     0.53525,     0.53525,     0.53525,     0.53286,     0.53286,     0.53276,     0.53276,     0.52448,     0.52448,     0.52448,     0.51366,     0.51366,     0.51153,     0.51153,     0.50199,     0.50199,     0.50199,     0.50199,     0.50199,     0.50132,\n",
              "            0.50132,     0.49481,     0.49481,     0.49481,      0.4769,      0.4769,     0.47525,     0.47525,     0.47525,     0.47525,     0.47066,     0.47066,     0.47066,     0.46675,     0.46675,     0.45476,     0.45476,      0.4538,      0.4538,      0.4538,     0.45338,     0.45338,     0.44584,\n",
              "            0.44584,     0.44584,     0.44584,     0.44584,     0.43701,     0.43701,     0.43667,     0.43667,     0.43584,     0.43584,     0.41888,     0.41888,     0.41888,     0.41772,     0.41772,     0.41702,     0.41702,     0.41031,     0.41031,     0.41031,     0.39349,     0.39349,     0.38046,\n",
              "            0.38046,     0.38046,     0.38046,     0.38046,     0.35925,     0.35925,     0.34983,     0.34983,     0.31886,     0.31886,     0.31202,     0.31202,     0.31202,     0.30572,     0.30572,     0.29686,     0.29686,     0.29458,     0.29458,     0.29458,      0.2937,      0.2937,      0.2937,\n",
              "             0.2937,     0.28306,     0.28306,     0.28306,     0.28104,     0.28104,      0.2639,      0.2639,     0.24282,     0.24282,     0.22916,     0.22916,     0.22916,     0.20116,     0.20116,     0.18946,     0.18946,     0.15499,     0.15499,     0.15499,      0.1395,     0.13562,     0.13175,\n",
              "            0.12787,       0.124,     0.12012,     0.11625,     0.11237,      0.1085,     0.10462,     0.10075,    0.096873,    0.092998,    0.089123,    0.085248,    0.081373,    0.077498,    0.073623,    0.069748,    0.065873,    0.061998,    0.058124,    0.054249,    0.050374,    0.046499,    0.042624,\n",
              "           0.038749,    0.034874,    0.030999,    0.027124,    0.023249,    0.019375,      0.0155,    0.011625,   0.0077498,   0.0038749,           0]]), 'Recall', 'Precision'], [array([          0,    0.001001,    0.002002,    0.003003,    0.004004,    0.005005,    0.006006,    0.007007,    0.008008,    0.009009,     0.01001,    0.011011,    0.012012,    0.013013,    0.014014,    0.015015,    0.016016,    0.017017,    0.018018,    0.019019,     0.02002,    0.021021,    0.022022,    0.023023,\n",
              "          0.024024,    0.025025,    0.026026,    0.027027,    0.028028,    0.029029,     0.03003,    0.031031,    0.032032,    0.033033,    0.034034,    0.035035,    0.036036,    0.037037,    0.038038,    0.039039,     0.04004,    0.041041,    0.042042,    0.043043,    0.044044,    0.045045,    0.046046,    0.047047,\n",
              "          0.048048,    0.049049,     0.05005,    0.051051,    0.052052,    0.053053,    0.054054,    0.055055,    0.056056,    0.057057,    0.058058,    0.059059,     0.06006,    0.061061,    0.062062,    0.063063,    0.064064,    0.065065,    0.066066,    0.067067,    0.068068,    0.069069,     0.07007,    0.071071,\n",
              "          0.072072,    0.073073,    0.074074,    0.075075,    0.076076,    0.077077,    0.078078,    0.079079,     0.08008,    0.081081,    0.082082,    0.083083,    0.084084,    0.085085,    0.086086,    0.087087,    0.088088,    0.089089,     0.09009,    0.091091,    0.092092,    0.093093,    0.094094,    0.095095,\n",
              "          0.096096,    0.097097,    0.098098,    0.099099,      0.1001,      0.1011,      0.1021,      0.1031,      0.1041,     0.10511,     0.10611,     0.10711,     0.10811,     0.10911,     0.11011,     0.11111,     0.11211,     0.11311,     0.11411,     0.11512,     0.11612,     0.11712,     0.11812,     0.11912,\n",
              "           0.12012,     0.12112,     0.12212,     0.12312,     0.12412,     0.12513,     0.12613,     0.12713,     0.12813,     0.12913,     0.13013,     0.13113,     0.13213,     0.13313,     0.13413,     0.13514,     0.13614,     0.13714,     0.13814,     0.13914,     0.14014,     0.14114,     0.14214,     0.14314,\n",
              "           0.14414,     0.14515,     0.14615,     0.14715,     0.14815,     0.14915,     0.15015,     0.15115,     0.15215,     0.15315,     0.15415,     0.15516,     0.15616,     0.15716,     0.15816,     0.15916,     0.16016,     0.16116,     0.16216,     0.16316,     0.16416,     0.16517,     0.16617,     0.16717,\n",
              "           0.16817,     0.16917,     0.17017,     0.17117,     0.17217,     0.17317,     0.17417,     0.17518,     0.17618,     0.17718,     0.17818,     0.17918,     0.18018,     0.18118,     0.18218,     0.18318,     0.18418,     0.18519,     0.18619,     0.18719,     0.18819,     0.18919,     0.19019,     0.19119,\n",
              "           0.19219,     0.19319,     0.19419,      0.1952,      0.1962,      0.1972,      0.1982,      0.1992,      0.2002,      0.2012,      0.2022,      0.2032,      0.2042,     0.20521,     0.20621,     0.20721,     0.20821,     0.20921,     0.21021,     0.21121,     0.21221,     0.21321,     0.21421,     0.21522,\n",
              "           0.21622,     0.21722,     0.21822,     0.21922,     0.22022,     0.22122,     0.22222,     0.22322,     0.22422,     0.22523,     0.22623,     0.22723,     0.22823,     0.22923,     0.23023,     0.23123,     0.23223,     0.23323,     0.23423,     0.23524,     0.23624,     0.23724,     0.23824,     0.23924,\n",
              "           0.24024,     0.24124,     0.24224,     0.24324,     0.24424,     0.24525,     0.24625,     0.24725,     0.24825,     0.24925,     0.25025,     0.25125,     0.25225,     0.25325,     0.25425,     0.25526,     0.25626,     0.25726,     0.25826,     0.25926,     0.26026,     0.26126,     0.26226,     0.26326,\n",
              "           0.26426,     0.26527,     0.26627,     0.26727,     0.26827,     0.26927,     0.27027,     0.27127,     0.27227,     0.27327,     0.27427,     0.27528,     0.27628,     0.27728,     0.27828,     0.27928,     0.28028,     0.28128,     0.28228,     0.28328,     0.28428,     0.28529,     0.28629,     0.28729,\n",
              "           0.28829,     0.28929,     0.29029,     0.29129,     0.29229,     0.29329,     0.29429,      0.2953,      0.2963,      0.2973,      0.2983,      0.2993,      0.3003,      0.3013,      0.3023,      0.3033,      0.3043,     0.30531,     0.30631,     0.30731,     0.30831,     0.30931,     0.31031,     0.31131,\n",
              "           0.31231,     0.31331,     0.31431,     0.31532,     0.31632,     0.31732,     0.31832,     0.31932,     0.32032,     0.32132,     0.32232,     0.32332,     0.32432,     0.32533,     0.32633,     0.32733,     0.32833,     0.32933,     0.33033,     0.33133,     0.33233,     0.33333,     0.33433,     0.33534,\n",
              "           0.33634,     0.33734,     0.33834,     0.33934,     0.34034,     0.34134,     0.34234,     0.34334,     0.34434,     0.34535,     0.34635,     0.34735,     0.34835,     0.34935,     0.35035,     0.35135,     0.35235,     0.35335,     0.35435,     0.35536,     0.35636,     0.35736,     0.35836,     0.35936,\n",
              "           0.36036,     0.36136,     0.36236,     0.36336,     0.36436,     0.36537,     0.36637,     0.36737,     0.36837,     0.36937,     0.37037,     0.37137,     0.37237,     0.37337,     0.37437,     0.37538,     0.37638,     0.37738,     0.37838,     0.37938,     0.38038,     0.38138,     0.38238,     0.38338,\n",
              "           0.38438,     0.38539,     0.38639,     0.38739,     0.38839,     0.38939,     0.39039,     0.39139,     0.39239,     0.39339,     0.39439,      0.3954,      0.3964,      0.3974,      0.3984,      0.3994,      0.4004,      0.4014,      0.4024,      0.4034,      0.4044,     0.40541,     0.40641,     0.40741,\n",
              "           0.40841,     0.40941,     0.41041,     0.41141,     0.41241,     0.41341,     0.41441,     0.41542,     0.41642,     0.41742,     0.41842,     0.41942,     0.42042,     0.42142,     0.42242,     0.42342,     0.42442,     0.42543,     0.42643,     0.42743,     0.42843,     0.42943,     0.43043,     0.43143,\n",
              "           0.43243,     0.43343,     0.43443,     0.43544,     0.43644,     0.43744,     0.43844,     0.43944,     0.44044,     0.44144,     0.44244,     0.44344,     0.44444,     0.44545,     0.44645,     0.44745,     0.44845,     0.44945,     0.45045,     0.45145,     0.45245,     0.45345,     0.45445,     0.45546,\n",
              "           0.45646,     0.45746,     0.45846,     0.45946,     0.46046,     0.46146,     0.46246,     0.46346,     0.46446,     0.46547,     0.46647,     0.46747,     0.46847,     0.46947,     0.47047,     0.47147,     0.47247,     0.47347,     0.47447,     0.47548,     0.47648,     0.47748,     0.47848,     0.47948,\n",
              "           0.48048,     0.48148,     0.48248,     0.48348,     0.48448,     0.48549,     0.48649,     0.48749,     0.48849,     0.48949,     0.49049,     0.49149,     0.49249,     0.49349,     0.49449,      0.4955,      0.4965,      0.4975,      0.4985,      0.4995,      0.5005,      0.5015,      0.5025,      0.5035,\n",
              "            0.5045,     0.50551,     0.50651,     0.50751,     0.50851,     0.50951,     0.51051,     0.51151,     0.51251,     0.51351,     0.51451,     0.51552,     0.51652,     0.51752,     0.51852,     0.51952,     0.52052,     0.52152,     0.52252,     0.52352,     0.52452,     0.52553,     0.52653,     0.52753,\n",
              "           0.52853,     0.52953,     0.53053,     0.53153,     0.53253,     0.53353,     0.53453,     0.53554,     0.53654,     0.53754,     0.53854,     0.53954,     0.54054,     0.54154,     0.54254,     0.54354,     0.54454,     0.54555,     0.54655,     0.54755,     0.54855,     0.54955,     0.55055,     0.55155,\n",
              "           0.55255,     0.55355,     0.55455,     0.55556,     0.55656,     0.55756,     0.55856,     0.55956,     0.56056,     0.56156,     0.56256,     0.56356,     0.56456,     0.56557,     0.56657,     0.56757,     0.56857,     0.56957,     0.57057,     0.57157,     0.57257,     0.57357,     0.57457,     0.57558,\n",
              "           0.57658,     0.57758,     0.57858,     0.57958,     0.58058,     0.58158,     0.58258,     0.58358,     0.58458,     0.58559,     0.58659,     0.58759,     0.58859,     0.58959,     0.59059,     0.59159,     0.59259,     0.59359,     0.59459,      0.5956,      0.5966,      0.5976,      0.5986,      0.5996,\n",
              "            0.6006,      0.6016,      0.6026,      0.6036,      0.6046,     0.60561,     0.60661,     0.60761,     0.60861,     0.60961,     0.61061,     0.61161,     0.61261,     0.61361,     0.61461,     0.61562,     0.61662,     0.61762,     0.61862,     0.61962,     0.62062,     0.62162,     0.62262,     0.62362,\n",
              "           0.62462,     0.62563,     0.62663,     0.62763,     0.62863,     0.62963,     0.63063,     0.63163,     0.63263,     0.63363,     0.63463,     0.63564,     0.63664,     0.63764,     0.63864,     0.63964,     0.64064,     0.64164,     0.64264,     0.64364,     0.64464,     0.64565,     0.64665,     0.64765,\n",
              "           0.64865,     0.64965,     0.65065,     0.65165,     0.65265,     0.65365,     0.65465,     0.65566,     0.65666,     0.65766,     0.65866,     0.65966,     0.66066,     0.66166,     0.66266,     0.66366,     0.66466,     0.66567,     0.66667,     0.66767,     0.66867,     0.66967,     0.67067,     0.67167,\n",
              "           0.67267,     0.67367,     0.67467,     0.67568,     0.67668,     0.67768,     0.67868,     0.67968,     0.68068,     0.68168,     0.68268,     0.68368,     0.68468,     0.68569,     0.68669,     0.68769,     0.68869,     0.68969,     0.69069,     0.69169,     0.69269,     0.69369,     0.69469,      0.6957,\n",
              "            0.6967,      0.6977,      0.6987,      0.6997,      0.7007,      0.7017,      0.7027,      0.7037,      0.7047,     0.70571,     0.70671,     0.70771,     0.70871,     0.70971,     0.71071,     0.71171,     0.71271,     0.71371,     0.71471,     0.71572,     0.71672,     0.71772,     0.71872,     0.71972,\n",
              "           0.72072,     0.72172,     0.72272,     0.72372,     0.72472,     0.72573,     0.72673,     0.72773,     0.72873,     0.72973,     0.73073,     0.73173,     0.73273,     0.73373,     0.73473,     0.73574,     0.73674,     0.73774,     0.73874,     0.73974,     0.74074,     0.74174,     0.74274,     0.74374,\n",
              "           0.74474,     0.74575,     0.74675,     0.74775,     0.74875,     0.74975,     0.75075,     0.75175,     0.75275,     0.75375,     0.75475,     0.75576,     0.75676,     0.75776,     0.75876,     0.75976,     0.76076,     0.76176,     0.76276,     0.76376,     0.76476,     0.76577,     0.76677,     0.76777,\n",
              "           0.76877,     0.76977,     0.77077,     0.77177,     0.77277,     0.77377,     0.77477,     0.77578,     0.77678,     0.77778,     0.77878,     0.77978,     0.78078,     0.78178,     0.78278,     0.78378,     0.78478,     0.78579,     0.78679,     0.78779,     0.78879,     0.78979,     0.79079,     0.79179,\n",
              "           0.79279,     0.79379,     0.79479,      0.7958,      0.7968,      0.7978,      0.7988,      0.7998,      0.8008,      0.8018,      0.8028,      0.8038,      0.8048,     0.80581,     0.80681,     0.80781,     0.80881,     0.80981,     0.81081,     0.81181,     0.81281,     0.81381,     0.81481,     0.81582,\n",
              "           0.81682,     0.81782,     0.81882,     0.81982,     0.82082,     0.82182,     0.82282,     0.82382,     0.82482,     0.82583,     0.82683,     0.82783,     0.82883,     0.82983,     0.83083,     0.83183,     0.83283,     0.83383,     0.83483,     0.83584,     0.83684,     0.83784,     0.83884,     0.83984,\n",
              "           0.84084,     0.84184,     0.84284,     0.84384,     0.84484,     0.84585,     0.84685,     0.84785,     0.84885,     0.84985,     0.85085,     0.85185,     0.85285,     0.85385,     0.85485,     0.85586,     0.85686,     0.85786,     0.85886,     0.85986,     0.86086,     0.86186,     0.86286,     0.86386,\n",
              "           0.86486,     0.86587,     0.86687,     0.86787,     0.86887,     0.86987,     0.87087,     0.87187,     0.87287,     0.87387,     0.87487,     0.87588,     0.87688,     0.87788,     0.87888,     0.87988,     0.88088,     0.88188,     0.88288,     0.88388,     0.88488,     0.88589,     0.88689,     0.88789,\n",
              "           0.88889,     0.88989,     0.89089,     0.89189,     0.89289,     0.89389,     0.89489,      0.8959,      0.8969,      0.8979,      0.8989,      0.8999,      0.9009,      0.9019,      0.9029,      0.9039,      0.9049,     0.90591,     0.90691,     0.90791,     0.90891,     0.90991,     0.91091,     0.91191,\n",
              "           0.91291,     0.91391,     0.91491,     0.91592,     0.91692,     0.91792,     0.91892,     0.91992,     0.92092,     0.92192,     0.92292,     0.92392,     0.92492,     0.92593,     0.92693,     0.92793,     0.92893,     0.92993,     0.93093,     0.93193,     0.93293,     0.93393,     0.93493,     0.93594,\n",
              "           0.93694,     0.93794,     0.93894,     0.93994,     0.94094,     0.94194,     0.94294,     0.94394,     0.94494,     0.94595,     0.94695,     0.94795,     0.94895,     0.94995,     0.95095,     0.95195,     0.95295,     0.95395,     0.95495,     0.95596,     0.95696,     0.95796,     0.95896,     0.95996,\n",
              "           0.96096,     0.96196,     0.96296,     0.96396,     0.96496,     0.96597,     0.96697,     0.96797,     0.96897,     0.96997,     0.97097,     0.97197,     0.97297,     0.97397,     0.97497,     0.97598,     0.97698,     0.97798,     0.97898,     0.97998,     0.98098,     0.98198,     0.98298,     0.98398,\n",
              "           0.98498,     0.98599,     0.98699,     0.98799,     0.98899,     0.98999,     0.99099,     0.99199,     0.99299,     0.99399,     0.99499,       0.996,       0.997,       0.998,       0.999,           1]), array([[    0.24859,     0.24859,     0.33643,     0.38296,     0.41175,     0.43382,     0.44999,      0.4627,     0.47469,     0.48458,     0.49448,     0.50074,     0.50741,     0.51598,     0.52369,     0.53166,     0.53752,     0.53878,     0.54468,     0.54856,     0.55178,     0.55615,     0.55894,\n",
              "             0.5632,     0.56665,     0.57086,     0.57294,     0.57609,     0.58247,     0.58728,     0.58868,     0.58975,     0.59043,      0.5945,     0.59505,      0.5974,     0.60111,     0.60196,     0.60176,       0.604,     0.60625,     0.60794,     0.60974,     0.61129,     0.61159,     0.61168,\n",
              "            0.61358,     0.61398,     0.61454,     0.61639,     0.61692,     0.61803,     0.61844,     0.61788,     0.61917,     0.62042,     0.62261,     0.62407,     0.62646,     0.62709,     0.62812,     0.62965,     0.63083,     0.63185,      0.6323,     0.63269,     0.63184,     0.63262,     0.63387,\n",
              "            0.63453,     0.63546,     0.63686,     0.63702,     0.63629,     0.63589,     0.63624,     0.63774,     0.63835,     0.63955,     0.64199,     0.64329,     0.64482,     0.64403,     0.64409,      0.6448,     0.64544,     0.64669,     0.64704,     0.64748,     0.64821,     0.64897,     0.64927,\n",
              "            0.65117,     0.65153,     0.65203,     0.65235,      0.6526,     0.65251,     0.65194,     0.65267,     0.65354,      0.6538,     0.65431,     0.65649,     0.65709,     0.65778,     0.65768,     0.65787,     0.65864,     0.65864,     0.66014,     0.66093,     0.66168,     0.66127,     0.66144,\n",
              "            0.66097,     0.66153,     0.66297,     0.66506,     0.66573,     0.66598,     0.66527,     0.66422,     0.66439,     0.66333,     0.66304,     0.66353,     0.66473,     0.66587,     0.66522,      0.6638,     0.66533,     0.66577,     0.66524,      0.6652,     0.66598,     0.66517,      0.6645,\n",
              "            0.66461,     0.66527,      0.6659,     0.66722,     0.66651,     0.66615,     0.66579,     0.66542,      0.6647,     0.66444,     0.66498,      0.6653,     0.66572,     0.66548,     0.66587,     0.66703,     0.66767,     0.66882,     0.66928,     0.66949,     0.66969,     0.66991,     0.67015,\n",
              "            0.67038,     0.67075,     0.67114,     0.67154,     0.67057,     0.67049,     0.67229,     0.67286,     0.67254,     0.67221,     0.67189,     0.67185,     0.67204,     0.67223,     0.67251,     0.67303,     0.67319,     0.67336,     0.67352,      0.6738,     0.67435,     0.67445,     0.67454,\n",
              "            0.67463,     0.67472,     0.67481,      0.6749,     0.67542,      0.6757,     0.67582,     0.67594,     0.67606,     0.67618,     0.67629,      0.6764,      0.6765,     0.67661,     0.67671,     0.67682,     0.67696,     0.67723,     0.67749,     0.67775,       0.678,     0.67846,     0.67942,\n",
              "            0.68022,     0.68042,     0.68063,     0.68092,     0.68189,     0.68552,     0.68602,     0.68688,     0.68738,     0.68828,     0.68777,     0.68824,     0.68859,     0.68897,     0.68947,     0.69039,     0.69116,     0.69158,     0.69172,     0.69186,       0.692,     0.69214,     0.69235,\n",
              "            0.69267,     0.69302,      0.6933,     0.69386,     0.69489,     0.69655,     0.69687,     0.69625,     0.69598,     0.69645,     0.69666,     0.69682,     0.69698,     0.69714,     0.69749,     0.69797,     0.69844,     0.69873,     0.69892,     0.69911,     0.69931,     0.70079,     0.70111,\n",
              "            0.70143,     0.70175,     0.70207,     0.70427,      0.7046,     0.70492,     0.70325,     0.70286,     0.70316,     0.70391,     0.70336,     0.70368,     0.70389,     0.70329,     0.70269,     0.70351,      0.7043,     0.70522,     0.70462,     0.70449,     0.70534,     0.70528,     0.70468,\n",
              "            0.70337,      0.7042,     0.70419,     0.70385,     0.70351,     0.70317,     0.70293,     0.70272,      0.7025,     0.70229,     0.70208,     0.70187,     0.70094,     0.70072,     0.70114,     0.70132,     0.70151,      0.7017,     0.70197,     0.70275,     0.70318,     0.70398,     0.70417,\n",
              "            0.70429,     0.70442,     0.70454,     0.70467,     0.70482,     0.70525,     0.70522,     0.70443,     0.70403,     0.70382,     0.70362,     0.70341,     0.70321,       0.703,     0.70267,     0.70161,     0.70204,     0.70233,     0.70255,     0.70276,     0.70384,     0.70466,     0.70547,\n",
              "            0.70467,     0.70466,     0.70483,       0.705,     0.70517,     0.70493,     0.70413,     0.70421,     0.70465,     0.70516,     0.70436,     0.70373,     0.70321,      0.7027,     0.70332,     0.70427,     0.70472,     0.70391,     0.70362,     0.70383,     0.70405,     0.70414,     0.70354,\n",
              "            0.70273,     0.70255,     0.70306,     0.70324,     0.70341,     0.70358,      0.7037,     0.70241,     0.70155,     0.70103,     0.70051,     0.70082,     0.70166,      0.7014,     0.70113,     0.70087,     0.70061,     0.70066,     0.70152,     0.70109,     0.70022,     0.69969,     0.69917,\n",
              "            0.69986,      0.6985,     0.69572,     0.69598,     0.69623,     0.69648,     0.69668,     0.69689,      0.6971,     0.69681,     0.69628,     0.69576,     0.69522,     0.69469,     0.69389,     0.69448,     0.69469,      0.6949,     0.69511,      0.6957,     0.69614,     0.69642,     0.69669,\n",
              "            0.69528,     0.69549,      0.6957,      0.6959,     0.69548,      0.6932,     0.69332,     0.69344,     0.69355,     0.69367,     0.69378,      0.6939,     0.69414,      0.6944,     0.69466,     0.69337,     0.69408,     0.69448,     0.69467,     0.69417,     0.69368,     0.69434,     0.69495,\n",
              "            0.69516,     0.69537,     0.69558,     0.69465,     0.69239,     0.69189,     0.69139,     0.69158,     0.69198,     0.69364,     0.69404,     0.69444,     0.69484,      0.6952,      0.6954,      0.6956,      0.6958,     0.69581,      0.6953,      0.6948,     0.69536,     0.69566,     0.69595,\n",
              "            0.69632,     0.69672,     0.69712,     0.69753,     0.69635,     0.69662,     0.69689,     0.69716,     0.69743,      0.6977,     0.69865,     0.69878,     0.69892,     0.69905,     0.69919,      0.6978,     0.69725,     0.69669,     0.69665,     0.69859,      0.6982,     0.69782,     0.69744,\n",
              "            0.69648,     0.69495,      0.6944,     0.69468,     0.69495,     0.69511,      0.6952,     0.69529,     0.69538,     0.69547,     0.69556,     0.69566,     0.69575,     0.69584,     0.69654,     0.69621,      0.6957,     0.69518,     0.69554,     0.69595,     0.69375,     0.69456,     0.69497,\n",
              "            0.69619,     0.69661,     0.69556,     0.69793,     0.69814,     0.69835,     0.69855,     0.69893,     0.70059,     0.70106,     0.70067,     0.70027,     0.69988,     0.70081,     0.70249,     0.70225,     0.70213,     0.70187,      0.7016,     0.70134,     0.70108,     0.70081,     0.70022,\n",
              "            0.69943,      0.6981,     0.69821,     0.69705,     0.69726,     0.69748,     0.69769,     0.69796,     0.69825,     0.69853,     0.69876,     0.69897,     0.69918,      0.6994,     0.69784,     0.69806,     0.69827,     0.69849,     0.69864,     0.69823,     0.69783,     0.69743,     0.69695,\n",
              "            0.69614,     0.69377,     0.69296,     0.69253,     0.69296,      0.6935,     0.69282,     0.69351,     0.69394,     0.69512,     0.69533,     0.69555,     0.69577,     0.69649,     0.69608,     0.69567,     0.69527,     0.69486,     0.69445,     0.69404,     0.69363,     0.69462,      0.6938,\n",
              "             0.6938,     0.69402,     0.69424,     0.69445,      0.6935,     0.69337,     0.69255,     0.69318,     0.69362,     0.69525,      0.6947,     0.69415,     0.69293,     0.69179,     0.69096,     0.68963,     0.68921,     0.68879,     0.68838,     0.68698,     0.68742,     0.68768,      0.6879,\n",
              "            0.68812,     0.68834,     0.68588,     0.68676,      0.6879,     0.68816,     0.68841,     0.68877,     0.68922,     0.68889,     0.68804,     0.68753,     0.68842,     0.68718,      0.6874,     0.68763,     0.68785,     0.68941,     0.68909,     0.68878,     0.68847,     0.68816,     0.68817,\n",
              "            0.68863,     0.68845,     0.68759,     0.68672,     0.68586,     0.68237,     0.68282,     0.68245,     0.68158,     0.68087,     0.68233,     0.68278,     0.68289,     0.68201,      0.6803,     0.67942,        0.68,     0.67925,     0.67966,     0.67934,     0.67901,     0.67869,     0.67837,\n",
              "            0.67807,     0.67853,       0.679,     0.67961,     0.68103,     0.68149,     0.68104,     0.68014,     0.67952,     0.67901,      0.6785,     0.67646,     0.67669,     0.67692,     0.67715,      0.6774,     0.67766,     0.67793,     0.67819,      0.6773,      0.6764,     0.67549,     0.67472,\n",
              "            0.67534,     0.67632,     0.67608,     0.67584,     0.67559,     0.67535,     0.67511,     0.67487,     0.67489,     0.67551,     0.67483,     0.67392,     0.66799,     0.66747,     0.66694,     0.66599,     0.66645,     0.66518,      0.6657,     0.66477,     0.66216,     0.66242,     0.66268,\n",
              "            0.66295,     0.66335,     0.66382,       0.663,     0.65828,     0.65774,      0.6572,     0.65666,     0.65392,     0.65297,     0.65346,     0.64963,     0.64867,     0.64882,     0.64827,     0.64772,     0.64499,     0.64401,     0.64374,     0.64277,     0.63777,     0.63647,     0.63516,\n",
              "            0.63217,     0.63119,     0.62993,     0.62872,     0.62773,     0.62555,     0.62422,     0.62093,     0.61777,     0.61676,     0.61635,     0.61653,     0.61672,      0.6169,     0.61708,      0.6176,     0.61693,     0.61625,     0.61668,     0.61545,     0.61628,     0.61633,     0.61496,\n",
              "            0.61108,     0.61154,      0.6104,     0.60902,     0.60764,     0.60802,     0.60344,     0.60389,     0.60443,     0.60471,     0.60172,     0.60003,     0.59655,     0.59513,     0.59163,     0.59037,     0.58976,     0.58915,     0.58853,     0.58593,     0.58545,     0.58497,     0.58449,\n",
              "            0.58445,     0.58504,     0.58352,     0.57773,      0.5792,     0.57979,     0.57945,     0.57835,     0.57612,     0.57642,     0.57495,     0.56911,      0.5663,     0.56479,     0.56415,     0.56264,     0.56113,     0.55863,     0.55698,     0.55757,     0.55556,     0.55593,     0.55426,\n",
              "            0.55486,     0.55435,     0.55383,     0.55331,      0.5528,     0.54984,     0.54906,     0.54828,     0.54843,     0.54909,     0.54958,     0.54879,     0.54801,     0.54391,      0.5445,     0.54509,     0.54571,     0.54413,     0.54486,     0.54391,      0.5437,     0.54425,     0.54265,\n",
              "            0.54095,     0.53802,      0.5364,     0.53477,     0.53479,     0.52675,     0.52281,     0.52182,     0.52082,     0.51685,     0.51551,     0.51488,     0.51425,     0.51362,     0.50974,     0.50509,     0.50338,     0.49666,     0.49625,     0.48931,     0.48826,     0.48465,     0.48359,\n",
              "            0.48254,     0.48174,     0.48108,     0.48042,     0.47976,     0.48022,      0.4804,     0.47934,     0.46988,     0.46572,     0.46627,     0.46535,     0.46426,     0.46242,     0.45701,     0.45472,     0.45093,      0.4372,      0.4289,     0.42699,     0.42167,     0.41879,     0.41655,\n",
              "             0.4144,     0.41223,      0.4093,     0.40376,     0.40179,     0.39681,     0.39382,     0.38625,     0.38473,     0.37679,     0.37286,     0.37321,      0.3688,     0.36772,      0.3663,     0.36103,     0.35946,     0.35139,     0.34909,     0.34656,     0.33706,     0.33382,     0.32796,\n",
              "            0.32686,     0.32577,     0.32449,     0.32285,     0.32056,     0.31462,     0.30144,      0.2914,      0.2846,     0.27666,     0.27549,     0.27432,     0.27294,     0.26598,     0.26244,     0.25256,     0.25291,     0.25048,     0.24332,     0.23968,     0.23244,     0.21521,      0.2086,\n",
              "            0.20481,     0.19579,      0.1954,     0.19365,     0.19172,     0.18284,     0.18154,     0.18011,      0.1685,     0.16415,     0.15859,     0.15458,     0.14064,     0.13576,     0.12381,     0.12173,     0.11964,     0.11755,     0.11489,     0.11162,    0.097556,    0.089796,    0.086325,\n",
              "           0.079012,    0.077558,    0.076103,    0.071047,    0.068113,    0.066322,    0.065438,    0.064554,    0.063669,    0.062783,    0.059478,    0.056594,    0.054362,    0.051561,    0.048132,    0.044334,    0.042073,    0.039972,    0.038156,    0.036336,    0.034091,    0.031806,    0.030632,\n",
              "           0.029486,    0.028339,    0.027109,    0.024808,    0.022409,    0.019326,    0.016232,    0.013601,    0.012935,    0.012269,    0.011602,    0.010935,    0.010267,   0.0095993,   0.0091165,   0.0089578,   0.0087991,   0.0086404,   0.0084817,   0.0083229,   0.0081641,   0.0080052,   0.0078464,\n",
              "          0.0076875,   0.0075286,   0.0073697,   0.0072107,   0.0070517,   0.0068927,   0.0067337,   0.0065746,   0.0064155,   0.0062564,   0.0060973,   0.0059381,   0.0057789,   0.0056197,   0.0054605,   0.0053012,   0.0051419,   0.0049826,   0.0048233,   0.0046639,           0,           0,           0,\n",
              "                  0,           0,           0,           0,           0,           0,           0,           0,           0,           0,           0,           0,           0,           0,           0,           0,           0,           0,           0,           0,           0,           0,           0,\n",
              "                  0,           0,           0,           0,           0,           0,           0,           0,           0,           0,           0]]), 'Confidence', 'F1'], [array([          0,    0.001001,    0.002002,    0.003003,    0.004004,    0.005005,    0.006006,    0.007007,    0.008008,    0.009009,     0.01001,    0.011011,    0.012012,    0.013013,    0.014014,    0.015015,    0.016016,    0.017017,    0.018018,    0.019019,     0.02002,    0.021021,    0.022022,    0.023023,\n",
              "          0.024024,    0.025025,    0.026026,    0.027027,    0.028028,    0.029029,     0.03003,    0.031031,    0.032032,    0.033033,    0.034034,    0.035035,    0.036036,    0.037037,    0.038038,    0.039039,     0.04004,    0.041041,    0.042042,    0.043043,    0.044044,    0.045045,    0.046046,    0.047047,\n",
              "          0.048048,    0.049049,     0.05005,    0.051051,    0.052052,    0.053053,    0.054054,    0.055055,    0.056056,    0.057057,    0.058058,    0.059059,     0.06006,    0.061061,    0.062062,    0.063063,    0.064064,    0.065065,    0.066066,    0.067067,    0.068068,    0.069069,     0.07007,    0.071071,\n",
              "          0.072072,    0.073073,    0.074074,    0.075075,    0.076076,    0.077077,    0.078078,    0.079079,     0.08008,    0.081081,    0.082082,    0.083083,    0.084084,    0.085085,    0.086086,    0.087087,    0.088088,    0.089089,     0.09009,    0.091091,    0.092092,    0.093093,    0.094094,    0.095095,\n",
              "          0.096096,    0.097097,    0.098098,    0.099099,      0.1001,      0.1011,      0.1021,      0.1031,      0.1041,     0.10511,     0.10611,     0.10711,     0.10811,     0.10911,     0.11011,     0.11111,     0.11211,     0.11311,     0.11411,     0.11512,     0.11612,     0.11712,     0.11812,     0.11912,\n",
              "           0.12012,     0.12112,     0.12212,     0.12312,     0.12412,     0.12513,     0.12613,     0.12713,     0.12813,     0.12913,     0.13013,     0.13113,     0.13213,     0.13313,     0.13413,     0.13514,     0.13614,     0.13714,     0.13814,     0.13914,     0.14014,     0.14114,     0.14214,     0.14314,\n",
              "           0.14414,     0.14515,     0.14615,     0.14715,     0.14815,     0.14915,     0.15015,     0.15115,     0.15215,     0.15315,     0.15415,     0.15516,     0.15616,     0.15716,     0.15816,     0.15916,     0.16016,     0.16116,     0.16216,     0.16316,     0.16416,     0.16517,     0.16617,     0.16717,\n",
              "           0.16817,     0.16917,     0.17017,     0.17117,     0.17217,     0.17317,     0.17417,     0.17518,     0.17618,     0.17718,     0.17818,     0.17918,     0.18018,     0.18118,     0.18218,     0.18318,     0.18418,     0.18519,     0.18619,     0.18719,     0.18819,     0.18919,     0.19019,     0.19119,\n",
              "           0.19219,     0.19319,     0.19419,      0.1952,      0.1962,      0.1972,      0.1982,      0.1992,      0.2002,      0.2012,      0.2022,      0.2032,      0.2042,     0.20521,     0.20621,     0.20721,     0.20821,     0.20921,     0.21021,     0.21121,     0.21221,     0.21321,     0.21421,     0.21522,\n",
              "           0.21622,     0.21722,     0.21822,     0.21922,     0.22022,     0.22122,     0.22222,     0.22322,     0.22422,     0.22523,     0.22623,     0.22723,     0.22823,     0.22923,     0.23023,     0.23123,     0.23223,     0.23323,     0.23423,     0.23524,     0.23624,     0.23724,     0.23824,     0.23924,\n",
              "           0.24024,     0.24124,     0.24224,     0.24324,     0.24424,     0.24525,     0.24625,     0.24725,     0.24825,     0.24925,     0.25025,     0.25125,     0.25225,     0.25325,     0.25425,     0.25526,     0.25626,     0.25726,     0.25826,     0.25926,     0.26026,     0.26126,     0.26226,     0.26326,\n",
              "           0.26426,     0.26527,     0.26627,     0.26727,     0.26827,     0.26927,     0.27027,     0.27127,     0.27227,     0.27327,     0.27427,     0.27528,     0.27628,     0.27728,     0.27828,     0.27928,     0.28028,     0.28128,     0.28228,     0.28328,     0.28428,     0.28529,     0.28629,     0.28729,\n",
              "           0.28829,     0.28929,     0.29029,     0.29129,     0.29229,     0.29329,     0.29429,      0.2953,      0.2963,      0.2973,      0.2983,      0.2993,      0.3003,      0.3013,      0.3023,      0.3033,      0.3043,     0.30531,     0.30631,     0.30731,     0.30831,     0.30931,     0.31031,     0.31131,\n",
              "           0.31231,     0.31331,     0.31431,     0.31532,     0.31632,     0.31732,     0.31832,     0.31932,     0.32032,     0.32132,     0.32232,     0.32332,     0.32432,     0.32533,     0.32633,     0.32733,     0.32833,     0.32933,     0.33033,     0.33133,     0.33233,     0.33333,     0.33433,     0.33534,\n",
              "           0.33634,     0.33734,     0.33834,     0.33934,     0.34034,     0.34134,     0.34234,     0.34334,     0.34434,     0.34535,     0.34635,     0.34735,     0.34835,     0.34935,     0.35035,     0.35135,     0.35235,     0.35335,     0.35435,     0.35536,     0.35636,     0.35736,     0.35836,     0.35936,\n",
              "           0.36036,     0.36136,     0.36236,     0.36336,     0.36436,     0.36537,     0.36637,     0.36737,     0.36837,     0.36937,     0.37037,     0.37137,     0.37237,     0.37337,     0.37437,     0.37538,     0.37638,     0.37738,     0.37838,     0.37938,     0.38038,     0.38138,     0.38238,     0.38338,\n",
              "           0.38438,     0.38539,     0.38639,     0.38739,     0.38839,     0.38939,     0.39039,     0.39139,     0.39239,     0.39339,     0.39439,      0.3954,      0.3964,      0.3974,      0.3984,      0.3994,      0.4004,      0.4014,      0.4024,      0.4034,      0.4044,     0.40541,     0.40641,     0.40741,\n",
              "           0.40841,     0.40941,     0.41041,     0.41141,     0.41241,     0.41341,     0.41441,     0.41542,     0.41642,     0.41742,     0.41842,     0.41942,     0.42042,     0.42142,     0.42242,     0.42342,     0.42442,     0.42543,     0.42643,     0.42743,     0.42843,     0.42943,     0.43043,     0.43143,\n",
              "           0.43243,     0.43343,     0.43443,     0.43544,     0.43644,     0.43744,     0.43844,     0.43944,     0.44044,     0.44144,     0.44244,     0.44344,     0.44444,     0.44545,     0.44645,     0.44745,     0.44845,     0.44945,     0.45045,     0.45145,     0.45245,     0.45345,     0.45445,     0.45546,\n",
              "           0.45646,     0.45746,     0.45846,     0.45946,     0.46046,     0.46146,     0.46246,     0.46346,     0.46446,     0.46547,     0.46647,     0.46747,     0.46847,     0.46947,     0.47047,     0.47147,     0.47247,     0.47347,     0.47447,     0.47548,     0.47648,     0.47748,     0.47848,     0.47948,\n",
              "           0.48048,     0.48148,     0.48248,     0.48348,     0.48448,     0.48549,     0.48649,     0.48749,     0.48849,     0.48949,     0.49049,     0.49149,     0.49249,     0.49349,     0.49449,      0.4955,      0.4965,      0.4975,      0.4985,      0.4995,      0.5005,      0.5015,      0.5025,      0.5035,\n",
              "            0.5045,     0.50551,     0.50651,     0.50751,     0.50851,     0.50951,     0.51051,     0.51151,     0.51251,     0.51351,     0.51451,     0.51552,     0.51652,     0.51752,     0.51852,     0.51952,     0.52052,     0.52152,     0.52252,     0.52352,     0.52452,     0.52553,     0.52653,     0.52753,\n",
              "           0.52853,     0.52953,     0.53053,     0.53153,     0.53253,     0.53353,     0.53453,     0.53554,     0.53654,     0.53754,     0.53854,     0.53954,     0.54054,     0.54154,     0.54254,     0.54354,     0.54454,     0.54555,     0.54655,     0.54755,     0.54855,     0.54955,     0.55055,     0.55155,\n",
              "           0.55255,     0.55355,     0.55455,     0.55556,     0.55656,     0.55756,     0.55856,     0.55956,     0.56056,     0.56156,     0.56256,     0.56356,     0.56456,     0.56557,     0.56657,     0.56757,     0.56857,     0.56957,     0.57057,     0.57157,     0.57257,     0.57357,     0.57457,     0.57558,\n",
              "           0.57658,     0.57758,     0.57858,     0.57958,     0.58058,     0.58158,     0.58258,     0.58358,     0.58458,     0.58559,     0.58659,     0.58759,     0.58859,     0.58959,     0.59059,     0.59159,     0.59259,     0.59359,     0.59459,      0.5956,      0.5966,      0.5976,      0.5986,      0.5996,\n",
              "            0.6006,      0.6016,      0.6026,      0.6036,      0.6046,     0.60561,     0.60661,     0.60761,     0.60861,     0.60961,     0.61061,     0.61161,     0.61261,     0.61361,     0.61461,     0.61562,     0.61662,     0.61762,     0.61862,     0.61962,     0.62062,     0.62162,     0.62262,     0.62362,\n",
              "           0.62462,     0.62563,     0.62663,     0.62763,     0.62863,     0.62963,     0.63063,     0.63163,     0.63263,     0.63363,     0.63463,     0.63564,     0.63664,     0.63764,     0.63864,     0.63964,     0.64064,     0.64164,     0.64264,     0.64364,     0.64464,     0.64565,     0.64665,     0.64765,\n",
              "           0.64865,     0.64965,     0.65065,     0.65165,     0.65265,     0.65365,     0.65465,     0.65566,     0.65666,     0.65766,     0.65866,     0.65966,     0.66066,     0.66166,     0.66266,     0.66366,     0.66466,     0.66567,     0.66667,     0.66767,     0.66867,     0.66967,     0.67067,     0.67167,\n",
              "           0.67267,     0.67367,     0.67467,     0.67568,     0.67668,     0.67768,     0.67868,     0.67968,     0.68068,     0.68168,     0.68268,     0.68368,     0.68468,     0.68569,     0.68669,     0.68769,     0.68869,     0.68969,     0.69069,     0.69169,     0.69269,     0.69369,     0.69469,      0.6957,\n",
              "            0.6967,      0.6977,      0.6987,      0.6997,      0.7007,      0.7017,      0.7027,      0.7037,      0.7047,     0.70571,     0.70671,     0.70771,     0.70871,     0.70971,     0.71071,     0.71171,     0.71271,     0.71371,     0.71471,     0.71572,     0.71672,     0.71772,     0.71872,     0.71972,\n",
              "           0.72072,     0.72172,     0.72272,     0.72372,     0.72472,     0.72573,     0.72673,     0.72773,     0.72873,     0.72973,     0.73073,     0.73173,     0.73273,     0.73373,     0.73473,     0.73574,     0.73674,     0.73774,     0.73874,     0.73974,     0.74074,     0.74174,     0.74274,     0.74374,\n",
              "           0.74474,     0.74575,     0.74675,     0.74775,     0.74875,     0.74975,     0.75075,     0.75175,     0.75275,     0.75375,     0.75475,     0.75576,     0.75676,     0.75776,     0.75876,     0.75976,     0.76076,     0.76176,     0.76276,     0.76376,     0.76476,     0.76577,     0.76677,     0.76777,\n",
              "           0.76877,     0.76977,     0.77077,     0.77177,     0.77277,     0.77377,     0.77477,     0.77578,     0.77678,     0.77778,     0.77878,     0.77978,     0.78078,     0.78178,     0.78278,     0.78378,     0.78478,     0.78579,     0.78679,     0.78779,     0.78879,     0.78979,     0.79079,     0.79179,\n",
              "           0.79279,     0.79379,     0.79479,      0.7958,      0.7968,      0.7978,      0.7988,      0.7998,      0.8008,      0.8018,      0.8028,      0.8038,      0.8048,     0.80581,     0.80681,     0.80781,     0.80881,     0.80981,     0.81081,     0.81181,     0.81281,     0.81381,     0.81481,     0.81582,\n",
              "           0.81682,     0.81782,     0.81882,     0.81982,     0.82082,     0.82182,     0.82282,     0.82382,     0.82482,     0.82583,     0.82683,     0.82783,     0.82883,     0.82983,     0.83083,     0.83183,     0.83283,     0.83383,     0.83483,     0.83584,     0.83684,     0.83784,     0.83884,     0.83984,\n",
              "           0.84084,     0.84184,     0.84284,     0.84384,     0.84484,     0.84585,     0.84685,     0.84785,     0.84885,     0.84985,     0.85085,     0.85185,     0.85285,     0.85385,     0.85485,     0.85586,     0.85686,     0.85786,     0.85886,     0.85986,     0.86086,     0.86186,     0.86286,     0.86386,\n",
              "           0.86486,     0.86587,     0.86687,     0.86787,     0.86887,     0.86987,     0.87087,     0.87187,     0.87287,     0.87387,     0.87487,     0.87588,     0.87688,     0.87788,     0.87888,     0.87988,     0.88088,     0.88188,     0.88288,     0.88388,     0.88488,     0.88589,     0.88689,     0.88789,\n",
              "           0.88889,     0.88989,     0.89089,     0.89189,     0.89289,     0.89389,     0.89489,      0.8959,      0.8969,      0.8979,      0.8989,      0.8999,      0.9009,      0.9019,      0.9029,      0.9039,      0.9049,     0.90591,     0.90691,     0.90791,     0.90891,     0.90991,     0.91091,     0.91191,\n",
              "           0.91291,     0.91391,     0.91491,     0.91592,     0.91692,     0.91792,     0.91892,     0.91992,     0.92092,     0.92192,     0.92292,     0.92392,     0.92492,     0.92593,     0.92693,     0.92793,     0.92893,     0.92993,     0.93093,     0.93193,     0.93293,     0.93393,     0.93493,     0.93594,\n",
              "           0.93694,     0.93794,     0.93894,     0.93994,     0.94094,     0.94194,     0.94294,     0.94394,     0.94494,     0.94595,     0.94695,     0.94795,     0.94895,     0.94995,     0.95095,     0.95195,     0.95295,     0.95395,     0.95495,     0.95596,     0.95696,     0.95796,     0.95896,     0.95996,\n",
              "           0.96096,     0.96196,     0.96296,     0.96396,     0.96496,     0.96597,     0.96697,     0.96797,     0.96897,     0.96997,     0.97097,     0.97197,     0.97297,     0.97397,     0.97497,     0.97598,     0.97698,     0.97798,     0.97898,     0.97998,     0.98098,     0.98198,     0.98298,     0.98398,\n",
              "           0.98498,     0.98599,     0.98699,     0.98799,     0.98899,     0.98999,     0.99099,     0.99199,     0.99299,     0.99399,     0.99499,       0.996,       0.997,       0.998,       0.999,           1]), array([[    0.14271,     0.14271,     0.20412,     0.23957,     0.26271,     0.28135,     0.29602,     0.30761,     0.31884,     0.32783,     0.33696,      0.3428,     0.34908,     0.35759,      0.3654,      0.3732,     0.37901,     0.38104,     0.38697,      0.3909,     0.39461,     0.39909,     0.40197,\n",
              "            0.40639,     0.40999,     0.41489,     0.41757,     0.42191,     0.42879,     0.43403,     0.43662,     0.43835,      0.4391,     0.44362,     0.44536,       0.448,     0.45218,     0.45314,      0.4547,     0.45726,     0.45986,      0.4618,     0.46388,     0.46568,     0.46602,     0.46676,\n",
              "            0.46898,     0.47009,     0.47075,     0.47293,     0.47441,     0.47619,     0.47669,      0.4767,     0.47824,     0.47973,     0.48235,     0.48411,     0.48699,     0.48775,       0.489,     0.49086,      0.4923,     0.49353,     0.49408,     0.49455,      0.4942,     0.49521,     0.49674,\n",
              "            0.49756,     0.49869,     0.50043,     0.50171,     0.50164,     0.50151,     0.50194,      0.5038,     0.50457,     0.50607,     0.50913,     0.51157,     0.51359,     0.51314,     0.51339,      0.5143,     0.51511,     0.51671,     0.51715,     0.51771,     0.51865,     0.51962,        0.52,\n",
              "            0.52245,     0.52291,     0.52356,     0.52398,     0.52429,     0.52434,     0.52402,     0.52524,     0.52636,     0.52671,     0.52737,      0.5302,     0.53098,     0.53188,     0.53263,     0.53377,     0.53479,     0.53569,     0.53768,     0.53873,     0.53972,      0.5401,     0.54068,\n",
              "            0.54063,     0.54138,     0.54331,     0.54612,     0.54703,     0.54743,     0.54703,     0.54645,     0.54713,     0.54691,     0.54723,      0.5479,     0.54954,      0.5511,     0.55089,     0.55024,     0.55235,     0.55319,      0.5529,     0.55319,     0.55426,     0.55438,     0.55401,\n",
              "            0.55441,     0.55532,      0.5562,     0.55804,     0.55824,     0.55803,     0.55783,     0.55763,     0.55723,     0.55729,     0.55807,     0.55851,     0.55938,     0.55983,     0.56039,     0.56203,     0.56294,     0.56457,     0.56523,     0.56553,     0.56582,     0.56613,     0.56647,\n",
              "            0.56681,     0.56733,      0.5679,     0.56847,     0.56819,     0.56919,     0.57179,     0.57274,     0.57256,     0.57238,      0.5722,     0.57228,     0.57256,     0.57284,     0.57324,     0.57399,     0.57423,     0.57447,     0.57471,     0.57511,     0.57593,     0.57606,     0.57619,\n",
              "            0.57632,     0.57646,     0.57659,     0.57672,     0.57748,     0.57789,     0.57807,     0.57824,     0.57842,     0.57859,     0.57876,     0.57891,     0.57907,     0.57922,     0.57937,     0.57952,     0.57974,     0.58013,     0.58052,     0.58089,     0.58127,     0.58194,     0.58335,\n",
              "            0.58453,     0.58483,     0.58514,     0.58558,     0.58701,     0.59241,     0.59315,     0.59444,     0.59519,     0.59653,     0.59702,     0.59773,     0.59825,     0.59883,     0.59959,     0.60098,     0.60214,     0.60279,       0.603,     0.60321,     0.60342,     0.60364,     0.60395,\n",
              "            0.60445,     0.60555,     0.60669,     0.60756,     0.60913,     0.61168,     0.61244,     0.61211,     0.61212,     0.61286,     0.61318,     0.61343,     0.61368,     0.61393,     0.61447,     0.61521,     0.61595,     0.61639,     0.61669,     0.61699,     0.61729,     0.61961,     0.62011,\n",
              "            0.62061,     0.62111,     0.62161,     0.62508,     0.62559,      0.6261,     0.62625,     0.62657,     0.62752,     0.62871,     0.62926,     0.62978,      0.6302,     0.62989,     0.62958,     0.63095,     0.63223,     0.63404,     0.63373,       0.634,     0.63537,     0.63568,     0.63537,\n",
              "            0.63515,     0.63649,     0.63675,     0.63658,      0.6364,     0.63623,     0.63611,       0.636,      0.6359,     0.63579,     0.63568,     0.63557,      0.6351,     0.63533,     0.63602,     0.63633,     0.63664,     0.63694,     0.63739,     0.63868,     0.63939,     0.64072,     0.64103,\n",
              "            0.64123,     0.64144,     0.64165,     0.64185,      0.6421,     0.64282,     0.64312,     0.64272,     0.64252,     0.64241,     0.64231,     0.64221,      0.6421,       0.642,     0.64183,     0.64147,     0.64219,     0.64268,     0.64304,      0.6434,      0.6452,     0.64658,     0.64844,\n",
              "            0.64804,      0.6482,     0.64849,     0.64877,     0.64906,     0.64906,     0.64866,     0.64907,     0.64982,     0.65096,     0.65056,     0.65025,     0.64999,     0.64974,     0.65086,     0.65249,     0.65346,     0.65306,     0.65305,     0.65343,      0.6538,     0.65409,     0.65472,\n",
              "            0.65432,     0.65461,      0.6555,      0.6558,      0.6561,      0.6564,     0.65666,      0.6561,     0.65654,     0.65629,     0.65603,     0.65681,      0.6585,     0.65837,     0.65824,     0.65811,     0.65798,     0.65831,     0.65983,     0.66015,     0.65972,     0.65946,      0.6592,\n",
              "            0.66048,     0.65985,     0.65855,     0.65902,     0.65948,     0.65992,     0.66029,     0.66066,     0.66103,     0.66098,     0.66072,     0.66046,      0.6602,     0.65993,     0.66084,     0.66192,      0.6623,     0.66268,     0.66305,     0.66413,     0.66493,     0.66545,     0.66596,\n",
              "            0.66528,     0.66566,     0.66604,     0.66643,      0.6664,     0.66534,     0.66555,     0.66577,     0.66598,      0.6662,     0.66641,     0.66663,     0.66706,     0.66755,     0.66803,     0.66744,     0.66894,     0.66967,     0.67018,     0.66994,      0.6697,     0.67142,     0.67254,\n",
              "            0.67294,     0.67334,     0.67373,     0.67338,     0.67228,     0.67204,      0.6718,     0.67231,     0.67306,     0.67621,     0.67697,     0.67773,      0.6785,     0.67919,     0.67957,     0.67996,     0.68034,     0.68055,     0.68031,     0.68007,     0.68161,     0.68218,     0.68274,\n",
              "            0.68345,     0.68423,     0.68501,     0.68579,     0.68567,     0.68619,     0.68672,     0.68724,     0.68777,      0.6883,     0.69013,      0.6904,     0.69066,     0.69093,     0.69119,     0.69073,     0.69047,     0.69021,     0.69065,     0.69469,     0.69451,     0.69433,     0.69415,\n",
              "            0.69371,     0.69299,     0.69296,      0.6935,     0.69405,     0.69437,     0.69455,     0.69473,     0.69491,     0.69509,     0.69528,     0.69546,     0.69564,     0.69582,     0.69724,     0.69725,     0.69701,     0.69677,     0.69754,     0.69837,     0.69862,     0.70026,     0.70111,\n",
              "             0.7036,     0.70445,     0.70472,     0.70959,     0.71003,     0.71046,     0.71089,     0.71166,     0.71512,     0.71629,     0.71612,     0.71594,     0.71577,     0.71811,     0.72164,     0.72231,     0.72366,     0.72355,     0.72343,     0.72331,      0.7232,     0.72308,     0.72282,\n",
              "            0.72247,     0.72189,     0.72294,      0.7231,     0.72356,     0.72402,     0.72448,     0.72507,     0.72568,      0.7263,     0.72678,     0.72725,     0.72771,     0.72817,     0.72751,     0.72797,     0.72844,     0.72891,      0.7293,     0.72913,     0.72896,     0.72878,     0.72857,\n",
              "            0.72822,     0.72718,     0.72683,     0.72687,     0.72782,     0.73003,     0.73032,     0.73185,     0.73281,     0.73544,     0.73592,     0.73641,     0.73689,     0.73892,     0.73875,     0.73858,      0.7384,     0.73823,     0.73806,     0.73788,     0.73771,     0.74126,     0.74091,\n",
              "            0.74123,     0.74173,     0.74223,     0.74273,     0.74237,     0.74391,     0.74357,     0.74584,     0.74686,     0.75122,     0.75099,     0.75076,     0.75026,     0.74978,     0.74944,     0.75056,     0.75039,     0.75021,     0.75004,     0.75013,     0.75118,      0.7518,     0.75233,\n",
              "            0.75285,     0.75338,     0.75402,     0.75616,     0.75893,     0.75955,     0.76017,     0.76105,     0.76213,     0.76237,     0.76202,     0.76481,     0.76703,     0.76744,       0.768,     0.76856,     0.76912,     0.77354,     0.77342,      0.7733,     0.77318,     0.77306,     0.77348,\n",
              "            0.77462,     0.77506,     0.77472,     0.77439,     0.77406,     0.77326,     0.77442,     0.77464,      0.7743,     0.77687,     0.78067,     0.78186,     0.78265,     0.78232,     0.78368,     0.78335,     0.78764,     0.78817,     0.78959,     0.78947,     0.78935,     0.78923,     0.78911,\n",
              "            0.78904,     0.79028,     0.79156,     0.79322,     0.79709,     0.79835,     0.79855,     0.79823,       0.798,     0.79782,     0.79764,     0.79707,     0.79771,     0.79835,     0.79899,     0.79967,     0.80041,     0.80114,     0.80188,     0.80157,     0.80125,     0.80093,     0.80079,\n",
              "            0.80252,     0.80568,     0.80559,     0.80551,     0.80542,     0.80534,     0.80526,     0.80517,     0.80566,     0.80742,     0.80742,     0.80711,     0.80503,     0.80484,     0.80466,     0.80721,     0.80857,     0.80955,     0.81124,     0.81092,     0.81009,     0.81088,     0.81168,\n",
              "            0.81247,     0.81369,     0.81508,     0.81512,     0.81351,     0.81332,     0.81314,     0.81295,       0.812,     0.81167,      0.8134,       0.813,     0.81266,     0.81524,     0.81505,     0.81486,     0.81391,     0.81515,     0.81605,     0.81571,     0.81398,     0.81352,     0.81306,\n",
              "            0.81201,     0.81166,     0.81122,     0.81079,     0.81044,     0.81232,     0.81185,     0.81067,     0.80953,     0.80917,      0.8093,     0.80993,     0.81055,     0.81117,      0.8118,     0.81494,      0.8147,     0.81447,     0.81662,     0.81697,     0.82154,     0.82294,     0.82248,\n",
              "            0.82236,     0.82401,     0.82381,     0.82334,     0.82286,     0.82893,     0.82813,     0.82984,     0.83186,     0.83392,     0.83293,     0.83237,     0.83121,     0.83073,     0.82955,     0.82912,     0.82891,      0.8287,     0.82849,      0.8276,     0.82743,     0.82727,      0.8271,\n",
              "            0.82798,     0.83038,     0.83208,     0.83236,     0.83847,     0.84099,     0.84191,     0.84155,     0.84225,     0.84438,      0.8439,     0.84201,     0.84465,     0.84416,     0.84757,     0.84708,      0.8466,     0.85537,     0.85747,     0.86029,     0.85996,     0.86253,     0.86474,\n",
              "            0.86763,      0.8675,     0.86735,      0.8672,     0.86705,      0.8662,     0.86597,     0.86574,     0.86767,     0.87096,     0.87432,      0.8741,     0.87389,     0.87789,     0.88097,     0.88409,     0.89047,     0.89008,     0.89927,     0.89905,     0.90052,     0.90374,     0.90338,\n",
              "            0.91043,      0.9119,     0.91156,     0.91123,     0.91452,     0.91455,     0.91375,     0.91354,     0.91334,     0.91252,     0.91224,     0.91211,     0.91197,     0.91184,     0.91102,     0.91002,     0.90965,     0.90816,     0.91089,     0.91761,     0.91739,     0.91665,     0.91643,\n",
              "            0.91621,     0.91604,      0.9159,     0.91576,     0.91562,     0.92019,     0.92748,     0.92728,      0.9255,     0.92623,     0.93059,     0.93086,     0.93066,     0.93033,     0.92933,      0.9289,     0.93476,     0.93229,     0.93074,     0.93037,     0.92933,     0.92876,     0.92831,\n",
              "            0.92787,     0.93483,     0.93428,     0.93322,     0.93284,     0.93973,      0.9392,     0.93781,     0.93752,       0.936,     0.93724,     0.94172,     0.94312,     0.94781,     0.95166,     0.95084,     0.95059,     0.94927,     0.94889,     0.95825,     0.95689,      0.9564,     0.95551,\n",
              "            0.95534,     0.95517,     0.95497,     0.95471,     0.95434,     0.96453,     0.96276,      0.9613,     0.96027,     0.97222,     0.97209,     0.97195,     0.97179,     0.97096,     0.97052,     0.97096,     0.98131,      0.9842,     0.98367,      0.9834,     0.98282,     0.98129,     0.98064,\n",
              "            0.98025,     0.97925,     0.99837,           1,           1,           1,           1,           1,           1,           1,           1,           1,           1,           1,           1,           1,           1,           1,           1,           1,           1,           1,           1,\n",
              "                  1,           1,           1,           1,           1,           1,           1,           1,           1,           1,           1,           1,           1,           1,           1,           1,           1,           1,           1,           1,           1,           1,           1,\n",
              "                  1,           1,           1,           1,           1,           1,           1,           1,           1,           1,           1,           1,           1,           1,           1,           1,           1,           1,           1,           1,           1,           1,           1,\n",
              "                  1,           1,           1,           1,           1,           1,           1,           1,           1,           1,           1,           1,           1,           1,           1,           1,           1,           1,           1,           1,           1,           1,           1,\n",
              "                  1,           1,           1,           1,           1,           1,           1,           1,           1,           1,           1,           1,           1,           1,           1,           1,           1,           1,           1,           1,           1,           1,           1,\n",
              "                  1,           1,           1,           1,           1,           1,           1,           1,           1,           1,           1]]), 'Confidence', 'Precision'], [array([          0,    0.001001,    0.002002,    0.003003,    0.004004,    0.005005,    0.006006,    0.007007,    0.008008,    0.009009,     0.01001,    0.011011,    0.012012,    0.013013,    0.014014,    0.015015,    0.016016,    0.017017,    0.018018,    0.019019,     0.02002,    0.021021,    0.022022,    0.023023,\n",
              "          0.024024,    0.025025,    0.026026,    0.027027,    0.028028,    0.029029,     0.03003,    0.031031,    0.032032,    0.033033,    0.034034,    0.035035,    0.036036,    0.037037,    0.038038,    0.039039,     0.04004,    0.041041,    0.042042,    0.043043,    0.044044,    0.045045,    0.046046,    0.047047,\n",
              "          0.048048,    0.049049,     0.05005,    0.051051,    0.052052,    0.053053,    0.054054,    0.055055,    0.056056,    0.057057,    0.058058,    0.059059,     0.06006,    0.061061,    0.062062,    0.063063,    0.064064,    0.065065,    0.066066,    0.067067,    0.068068,    0.069069,     0.07007,    0.071071,\n",
              "          0.072072,    0.073073,    0.074074,    0.075075,    0.076076,    0.077077,    0.078078,    0.079079,     0.08008,    0.081081,    0.082082,    0.083083,    0.084084,    0.085085,    0.086086,    0.087087,    0.088088,    0.089089,     0.09009,    0.091091,    0.092092,    0.093093,    0.094094,    0.095095,\n",
              "          0.096096,    0.097097,    0.098098,    0.099099,      0.1001,      0.1011,      0.1021,      0.1031,      0.1041,     0.10511,     0.10611,     0.10711,     0.10811,     0.10911,     0.11011,     0.11111,     0.11211,     0.11311,     0.11411,     0.11512,     0.11612,     0.11712,     0.11812,     0.11912,\n",
              "           0.12012,     0.12112,     0.12212,     0.12312,     0.12412,     0.12513,     0.12613,     0.12713,     0.12813,     0.12913,     0.13013,     0.13113,     0.13213,     0.13313,     0.13413,     0.13514,     0.13614,     0.13714,     0.13814,     0.13914,     0.14014,     0.14114,     0.14214,     0.14314,\n",
              "           0.14414,     0.14515,     0.14615,     0.14715,     0.14815,     0.14915,     0.15015,     0.15115,     0.15215,     0.15315,     0.15415,     0.15516,     0.15616,     0.15716,     0.15816,     0.15916,     0.16016,     0.16116,     0.16216,     0.16316,     0.16416,     0.16517,     0.16617,     0.16717,\n",
              "           0.16817,     0.16917,     0.17017,     0.17117,     0.17217,     0.17317,     0.17417,     0.17518,     0.17618,     0.17718,     0.17818,     0.17918,     0.18018,     0.18118,     0.18218,     0.18318,     0.18418,     0.18519,     0.18619,     0.18719,     0.18819,     0.18919,     0.19019,     0.19119,\n",
              "           0.19219,     0.19319,     0.19419,      0.1952,      0.1962,      0.1972,      0.1982,      0.1992,      0.2002,      0.2012,      0.2022,      0.2032,      0.2042,     0.20521,     0.20621,     0.20721,     0.20821,     0.20921,     0.21021,     0.21121,     0.21221,     0.21321,     0.21421,     0.21522,\n",
              "           0.21622,     0.21722,     0.21822,     0.21922,     0.22022,     0.22122,     0.22222,     0.22322,     0.22422,     0.22523,     0.22623,     0.22723,     0.22823,     0.22923,     0.23023,     0.23123,     0.23223,     0.23323,     0.23423,     0.23524,     0.23624,     0.23724,     0.23824,     0.23924,\n",
              "           0.24024,     0.24124,     0.24224,     0.24324,     0.24424,     0.24525,     0.24625,     0.24725,     0.24825,     0.24925,     0.25025,     0.25125,     0.25225,     0.25325,     0.25425,     0.25526,     0.25626,     0.25726,     0.25826,     0.25926,     0.26026,     0.26126,     0.26226,     0.26326,\n",
              "           0.26426,     0.26527,     0.26627,     0.26727,     0.26827,     0.26927,     0.27027,     0.27127,     0.27227,     0.27327,     0.27427,     0.27528,     0.27628,     0.27728,     0.27828,     0.27928,     0.28028,     0.28128,     0.28228,     0.28328,     0.28428,     0.28529,     0.28629,     0.28729,\n",
              "           0.28829,     0.28929,     0.29029,     0.29129,     0.29229,     0.29329,     0.29429,      0.2953,      0.2963,      0.2973,      0.2983,      0.2993,      0.3003,      0.3013,      0.3023,      0.3033,      0.3043,     0.30531,     0.30631,     0.30731,     0.30831,     0.30931,     0.31031,     0.31131,\n",
              "           0.31231,     0.31331,     0.31431,     0.31532,     0.31632,     0.31732,     0.31832,     0.31932,     0.32032,     0.32132,     0.32232,     0.32332,     0.32432,     0.32533,     0.32633,     0.32733,     0.32833,     0.32933,     0.33033,     0.33133,     0.33233,     0.33333,     0.33433,     0.33534,\n",
              "           0.33634,     0.33734,     0.33834,     0.33934,     0.34034,     0.34134,     0.34234,     0.34334,     0.34434,     0.34535,     0.34635,     0.34735,     0.34835,     0.34935,     0.35035,     0.35135,     0.35235,     0.35335,     0.35435,     0.35536,     0.35636,     0.35736,     0.35836,     0.35936,\n",
              "           0.36036,     0.36136,     0.36236,     0.36336,     0.36436,     0.36537,     0.36637,     0.36737,     0.36837,     0.36937,     0.37037,     0.37137,     0.37237,     0.37337,     0.37437,     0.37538,     0.37638,     0.37738,     0.37838,     0.37938,     0.38038,     0.38138,     0.38238,     0.38338,\n",
              "           0.38438,     0.38539,     0.38639,     0.38739,     0.38839,     0.38939,     0.39039,     0.39139,     0.39239,     0.39339,     0.39439,      0.3954,      0.3964,      0.3974,      0.3984,      0.3994,      0.4004,      0.4014,      0.4024,      0.4034,      0.4044,     0.40541,     0.40641,     0.40741,\n",
              "           0.40841,     0.40941,     0.41041,     0.41141,     0.41241,     0.41341,     0.41441,     0.41542,     0.41642,     0.41742,     0.41842,     0.41942,     0.42042,     0.42142,     0.42242,     0.42342,     0.42442,     0.42543,     0.42643,     0.42743,     0.42843,     0.42943,     0.43043,     0.43143,\n",
              "           0.43243,     0.43343,     0.43443,     0.43544,     0.43644,     0.43744,     0.43844,     0.43944,     0.44044,     0.44144,     0.44244,     0.44344,     0.44444,     0.44545,     0.44645,     0.44745,     0.44845,     0.44945,     0.45045,     0.45145,     0.45245,     0.45345,     0.45445,     0.45546,\n",
              "           0.45646,     0.45746,     0.45846,     0.45946,     0.46046,     0.46146,     0.46246,     0.46346,     0.46446,     0.46547,     0.46647,     0.46747,     0.46847,     0.46947,     0.47047,     0.47147,     0.47247,     0.47347,     0.47447,     0.47548,     0.47648,     0.47748,     0.47848,     0.47948,\n",
              "           0.48048,     0.48148,     0.48248,     0.48348,     0.48448,     0.48549,     0.48649,     0.48749,     0.48849,     0.48949,     0.49049,     0.49149,     0.49249,     0.49349,     0.49449,      0.4955,      0.4965,      0.4975,      0.4985,      0.4995,      0.5005,      0.5015,      0.5025,      0.5035,\n",
              "            0.5045,     0.50551,     0.50651,     0.50751,     0.50851,     0.50951,     0.51051,     0.51151,     0.51251,     0.51351,     0.51451,     0.51552,     0.51652,     0.51752,     0.51852,     0.51952,     0.52052,     0.52152,     0.52252,     0.52352,     0.52452,     0.52553,     0.52653,     0.52753,\n",
              "           0.52853,     0.52953,     0.53053,     0.53153,     0.53253,     0.53353,     0.53453,     0.53554,     0.53654,     0.53754,     0.53854,     0.53954,     0.54054,     0.54154,     0.54254,     0.54354,     0.54454,     0.54555,     0.54655,     0.54755,     0.54855,     0.54955,     0.55055,     0.55155,\n",
              "           0.55255,     0.55355,     0.55455,     0.55556,     0.55656,     0.55756,     0.55856,     0.55956,     0.56056,     0.56156,     0.56256,     0.56356,     0.56456,     0.56557,     0.56657,     0.56757,     0.56857,     0.56957,     0.57057,     0.57157,     0.57257,     0.57357,     0.57457,     0.57558,\n",
              "           0.57658,     0.57758,     0.57858,     0.57958,     0.58058,     0.58158,     0.58258,     0.58358,     0.58458,     0.58559,     0.58659,     0.58759,     0.58859,     0.58959,     0.59059,     0.59159,     0.59259,     0.59359,     0.59459,      0.5956,      0.5966,      0.5976,      0.5986,      0.5996,\n",
              "            0.6006,      0.6016,      0.6026,      0.6036,      0.6046,     0.60561,     0.60661,     0.60761,     0.60861,     0.60961,     0.61061,     0.61161,     0.61261,     0.61361,     0.61461,     0.61562,     0.61662,     0.61762,     0.61862,     0.61962,     0.62062,     0.62162,     0.62262,     0.62362,\n",
              "           0.62462,     0.62563,     0.62663,     0.62763,     0.62863,     0.62963,     0.63063,     0.63163,     0.63263,     0.63363,     0.63463,     0.63564,     0.63664,     0.63764,     0.63864,     0.63964,     0.64064,     0.64164,     0.64264,     0.64364,     0.64464,     0.64565,     0.64665,     0.64765,\n",
              "           0.64865,     0.64965,     0.65065,     0.65165,     0.65265,     0.65365,     0.65465,     0.65566,     0.65666,     0.65766,     0.65866,     0.65966,     0.66066,     0.66166,     0.66266,     0.66366,     0.66466,     0.66567,     0.66667,     0.66767,     0.66867,     0.66967,     0.67067,     0.67167,\n",
              "           0.67267,     0.67367,     0.67467,     0.67568,     0.67668,     0.67768,     0.67868,     0.67968,     0.68068,     0.68168,     0.68268,     0.68368,     0.68468,     0.68569,     0.68669,     0.68769,     0.68869,     0.68969,     0.69069,     0.69169,     0.69269,     0.69369,     0.69469,      0.6957,\n",
              "            0.6967,      0.6977,      0.6987,      0.6997,      0.7007,      0.7017,      0.7027,      0.7037,      0.7047,     0.70571,     0.70671,     0.70771,     0.70871,     0.70971,     0.71071,     0.71171,     0.71271,     0.71371,     0.71471,     0.71572,     0.71672,     0.71772,     0.71872,     0.71972,\n",
              "           0.72072,     0.72172,     0.72272,     0.72372,     0.72472,     0.72573,     0.72673,     0.72773,     0.72873,     0.72973,     0.73073,     0.73173,     0.73273,     0.73373,     0.73473,     0.73574,     0.73674,     0.73774,     0.73874,     0.73974,     0.74074,     0.74174,     0.74274,     0.74374,\n",
              "           0.74474,     0.74575,     0.74675,     0.74775,     0.74875,     0.74975,     0.75075,     0.75175,     0.75275,     0.75375,     0.75475,     0.75576,     0.75676,     0.75776,     0.75876,     0.75976,     0.76076,     0.76176,     0.76276,     0.76376,     0.76476,     0.76577,     0.76677,     0.76777,\n",
              "           0.76877,     0.76977,     0.77077,     0.77177,     0.77277,     0.77377,     0.77477,     0.77578,     0.77678,     0.77778,     0.77878,     0.77978,     0.78078,     0.78178,     0.78278,     0.78378,     0.78478,     0.78579,     0.78679,     0.78779,     0.78879,     0.78979,     0.79079,     0.79179,\n",
              "           0.79279,     0.79379,     0.79479,      0.7958,      0.7968,      0.7978,      0.7988,      0.7998,      0.8008,      0.8018,      0.8028,      0.8038,      0.8048,     0.80581,     0.80681,     0.80781,     0.80881,     0.80981,     0.81081,     0.81181,     0.81281,     0.81381,     0.81481,     0.81582,\n",
              "           0.81682,     0.81782,     0.81882,     0.81982,     0.82082,     0.82182,     0.82282,     0.82382,     0.82482,     0.82583,     0.82683,     0.82783,     0.82883,     0.82983,     0.83083,     0.83183,     0.83283,     0.83383,     0.83483,     0.83584,     0.83684,     0.83784,     0.83884,     0.83984,\n",
              "           0.84084,     0.84184,     0.84284,     0.84384,     0.84484,     0.84585,     0.84685,     0.84785,     0.84885,     0.84985,     0.85085,     0.85185,     0.85285,     0.85385,     0.85485,     0.85586,     0.85686,     0.85786,     0.85886,     0.85986,     0.86086,     0.86186,     0.86286,     0.86386,\n",
              "           0.86486,     0.86587,     0.86687,     0.86787,     0.86887,     0.86987,     0.87087,     0.87187,     0.87287,     0.87387,     0.87487,     0.87588,     0.87688,     0.87788,     0.87888,     0.87988,     0.88088,     0.88188,     0.88288,     0.88388,     0.88488,     0.88589,     0.88689,     0.88789,\n",
              "           0.88889,     0.88989,     0.89089,     0.89189,     0.89289,     0.89389,     0.89489,      0.8959,      0.8969,      0.8979,      0.8989,      0.8999,      0.9009,      0.9019,      0.9029,      0.9039,      0.9049,     0.90591,     0.90691,     0.90791,     0.90891,     0.90991,     0.91091,     0.91191,\n",
              "           0.91291,     0.91391,     0.91491,     0.91592,     0.91692,     0.91792,     0.91892,     0.91992,     0.92092,     0.92192,     0.92292,     0.92392,     0.92492,     0.92593,     0.92693,     0.92793,     0.92893,     0.92993,     0.93093,     0.93193,     0.93293,     0.93393,     0.93493,     0.93594,\n",
              "           0.93694,     0.93794,     0.93894,     0.93994,     0.94094,     0.94194,     0.94294,     0.94394,     0.94494,     0.94595,     0.94695,     0.94795,     0.94895,     0.94995,     0.95095,     0.95195,     0.95295,     0.95395,     0.95495,     0.95596,     0.95696,     0.95796,     0.95896,     0.95996,\n",
              "           0.96096,     0.96196,     0.96296,     0.96396,     0.96496,     0.96597,     0.96697,     0.96797,     0.96897,     0.96997,     0.97097,     0.97197,     0.97297,     0.97397,     0.97497,     0.97598,     0.97698,     0.97798,     0.97898,     0.97998,     0.98098,     0.98198,     0.98298,     0.98398,\n",
              "           0.98498,     0.98599,     0.98699,     0.98799,     0.98899,     0.98999,     0.99099,     0.99199,     0.99299,     0.99399,     0.99499,       0.996,       0.997,       0.998,       0.999,           1]), array([[    0.96313,     0.96313,     0.95622,     0.95392,     0.95161,       0.947,     0.93779,     0.93318,     0.92857,     0.92857,     0.92857,     0.92857,     0.92857,     0.92627,     0.92396,     0.92396,     0.92396,     0.91935,     0.91935,     0.91935,     0.91705,     0.91705,     0.91705,\n",
              "            0.91705,     0.91705,     0.91475,     0.91244,     0.90783,     0.90783,     0.90783,     0.90323,     0.90092,     0.90092,     0.90092,     0.89631,     0.89631,     0.89631,     0.89631,      0.8894,      0.8894,      0.8894,      0.8894,      0.8894,      0.8894,      0.8894,      0.8871,\n",
              "             0.8871,     0.88479,     0.88479,     0.88479,     0.88182,     0.88018,     0.88018,     0.87788,     0.87788,     0.87788,     0.87788,     0.87788,     0.87788,     0.87788,     0.87788,     0.87788,     0.87788,     0.87788,     0.87788,     0.87788,     0.87574,     0.87558,     0.87558,\n",
              "            0.87558,     0.87558,     0.87558,     0.87229,     0.86974,     0.86866,     0.86866,     0.86866,     0.86866,     0.86866,     0.86866,     0.86636,     0.86613,     0.86455,     0.86406,     0.86406,     0.86406,     0.86406,     0.86406,     0.86406,     0.86406,     0.86406,     0.86406,\n",
              "            0.86406,     0.86406,     0.86406,     0.86406,     0.86406,     0.86359,     0.86248,     0.86175,     0.86175,     0.86175,     0.86175,     0.86175,     0.86175,     0.86175,     0.85945,     0.85714,     0.85714,     0.85484,     0.85484,     0.85484,     0.85484,     0.85253,     0.85166,\n",
              "            0.85023,     0.85023,     0.85023,     0.85023,     0.85023,     0.85006,     0.84871,     0.84671,     0.84562,     0.84273,     0.84101,     0.84101,     0.84101,     0.84101,     0.83943,     0.83641,     0.83641,     0.83587,     0.83487,      0.8341,      0.8341,      0.8313,     0.83004,\n",
              "            0.82949,     0.82949,     0.82949,     0.82949,     0.82691,     0.82623,     0.82556,     0.82488,     0.82353,     0.82258,     0.82258,     0.82258,     0.82199,     0.82028,     0.82028,     0.82028,     0.82028,     0.82028,     0.82028,     0.82028,     0.82028,     0.82028,     0.82028,\n",
              "            0.82028,     0.82028,     0.82028,     0.82028,     0.81797,     0.81567,     0.81567,     0.81541,     0.81482,     0.81423,     0.81364,     0.81336,     0.81336,     0.81336,     0.81336,     0.81336,     0.81336,     0.81336,     0.81336,     0.81336,     0.81336,     0.81336,     0.81336,\n",
              "            0.81336,     0.81336,     0.81336,     0.81336,     0.81336,     0.81336,     0.81336,     0.81336,     0.81336,     0.81336,     0.81336,     0.81336,     0.81336,     0.81336,     0.81336,     0.81336,     0.81336,     0.81336,     0.81336,     0.81336,     0.81336,     0.81336,     0.81336,\n",
              "            0.81336,     0.81336,     0.81336,     0.81336,     0.81336,     0.81336,     0.81336,     0.81336,     0.81336,     0.81336,     0.81106,     0.81106,     0.81106,     0.81106,     0.81106,     0.81106,     0.81106,     0.81106,     0.81106,     0.81106,     0.81106,     0.81106,     0.81106,\n",
              "            0.81106,     0.81002,     0.80876,     0.80876,     0.80876,     0.80876,     0.80832,      0.8072,     0.80645,     0.80645,     0.80645,     0.80645,     0.80645,     0.80645,     0.80645,     0.80645,     0.80645,     0.80645,     0.80645,     0.80645,     0.80645,     0.80645,     0.80645,\n",
              "            0.80645,     0.80645,     0.80645,     0.80645,     0.80645,     0.80645,     0.80184,     0.80029,     0.79954,     0.79954,     0.79724,     0.79724,      0.7971,     0.79605,       0.795,     0.79493,     0.79493,     0.79441,     0.79336,     0.79263,     0.79263,     0.79201,     0.79096,\n",
              "            0.78802,     0.78802,     0.78761,     0.78702,     0.78643,     0.78584,     0.78543,     0.78506,      0.7847,     0.78434,     0.78397,     0.78361,     0.78201,     0.78111,     0.78111,     0.78111,     0.78111,     0.78111,     0.78111,     0.78111,     0.78111,     0.78111,     0.78111,\n",
              "            0.78111,     0.78111,     0.78111,     0.78111,     0.78111,     0.78111,      0.7806,     0.77925,     0.77857,     0.77822,     0.77787,     0.77752,     0.77717,     0.77682,     0.77624,     0.77419,     0.77419,     0.77419,     0.77419,     0.77419,     0.77419,     0.77419,     0.77349,\n",
              "            0.77214,     0.77189,     0.77189,     0.77189,     0.77189,     0.77132,     0.76997,     0.76959,     0.76959,     0.76921,     0.76786,     0.76679,     0.76593,     0.76507,     0.76498,     0.76498,      0.7647,     0.76335,     0.76267,     0.76267,     0.76267,     0.76248,     0.76023,\n",
              "            0.75888,     0.75806,     0.75806,     0.75806,     0.75806,     0.75806,     0.75799,     0.75576,     0.75318,     0.75232,     0.75146,     0.75115,     0.75087,     0.75044,     0.75001,     0.74958,     0.74915,     0.74885,     0.74885,     0.74744,     0.74601,     0.74515,     0.74429,\n",
              "            0.74424,     0.74197,     0.73733,     0.73733,     0.73733,     0.73733,     0.73733,     0.73733,     0.73733,     0.73675,     0.73589,     0.73504,     0.73418,     0.73332,     0.73041,     0.73041,     0.73041,     0.73041,     0.73041,     0.73041,     0.73041,     0.73041,     0.73039,\n",
              "            0.72811,     0.72811,     0.72811,     0.72811,     0.72722,      0.7235,      0.7235,      0.7235,      0.7235,      0.7235,      0.7235,      0.7235,      0.7235,      0.7235,      0.7235,     0.72141,      0.7212,      0.7212,     0.72102,     0.72023,     0.71944,     0.71889,     0.71889,\n",
              "            0.71889,     0.71889,     0.71889,     0.71731,     0.71374,     0.71295,     0.71217,     0.71198,     0.71198,     0.71198,     0.71198,     0.71198,     0.71198,     0.71198,     0.71198,     0.71198,     0.71198,     0.71176,     0.71097,     0.71019,     0.70968,     0.70968,     0.70968,\n",
              "            0.70968,     0.70968,     0.70968,     0.70968,     0.70737,     0.70737,     0.70737,     0.70737,     0.70737,     0.70737,     0.70737,     0.70737,     0.70737,     0.70737,     0.70737,     0.70502,     0.70416,      0.7033,     0.70276,     0.70253,     0.70194,     0.70135,     0.70076,\n",
              "            0.69928,     0.69692,     0.69585,     0.69585,     0.69585,     0.69585,     0.69585,     0.69585,     0.69585,     0.69585,     0.69585,     0.69585,     0.69585,     0.69585,     0.69585,     0.69517,     0.69438,      0.6936,     0.69355,     0.69355,     0.68894,     0.68894,     0.68894,\n",
              "            0.68894,     0.68894,     0.68664,     0.68664,     0.68664,     0.68664,     0.68664,     0.68664,     0.68664,     0.68646,     0.68587,     0.68528,     0.68468,     0.68433,     0.68433,     0.68327,     0.68184,     0.68145,     0.68105,     0.68066,     0.68027,     0.67987,     0.67899,\n",
              "            0.67781,     0.67583,     0.67512,     0.67281,     0.67281,     0.67281,     0.67281,     0.67281,     0.67281,     0.67281,     0.67281,     0.67281,     0.67281,     0.67281,     0.67051,     0.67051,     0.67051,     0.67051,     0.67044,     0.66985,     0.66926,     0.66867,     0.66796,\n",
              "            0.66678,     0.66329,     0.66211,     0.66129,     0.66129,     0.66045,     0.65899,     0.65899,     0.65899,     0.65899,     0.65899,     0.65899,     0.65899,     0.65866,     0.65807,     0.65748,     0.65689,      0.6563,     0.65571,     0.65512,     0.65453,      0.6535,     0.65232,\n",
              "            0.65207,     0.65207,     0.65207,     0.65207,     0.65067,     0.64926,     0.64808,     0.64747,     0.64747,     0.64705,     0.64626,     0.64548,     0.64375,     0.64212,     0.64094,     0.63785,     0.63726,     0.63667,     0.63608,     0.63364,     0.63364,     0.63364,     0.63364,\n",
              "            0.63364,     0.63364,     0.62903,     0.62903,     0.62903,     0.62903,     0.62903,     0.62903,     0.62903,     0.62832,     0.62714,     0.62442,     0.62442,     0.62212,     0.62212,     0.62212,     0.62212,     0.62178,     0.62135,     0.62092,     0.62049,     0.62006,     0.61982,\n",
              "            0.61982,     0.61925,     0.61807,     0.61689,     0.61571,      0.6106,      0.6106,     0.60986,     0.60868,     0.60599,     0.60599,     0.60599,     0.60569,      0.6045,     0.60102,     0.59984,     0.59824,     0.59677,      0.5966,     0.59617,     0.59574,     0.59531,     0.59488,\n",
              "            0.59447,     0.59447,     0.59447,     0.59447,     0.59447,     0.59447,     0.59367,     0.59249,     0.59168,       0.591,     0.59033,     0.58756,     0.58756,     0.58756,     0.58756,     0.58756,     0.58756,     0.58756,     0.58756,     0.58639,     0.58521,     0.58403,     0.58295,\n",
              "            0.58295,     0.58275,     0.58244,     0.58212,     0.58181,     0.58149,     0.58118,     0.58086,     0.58065,     0.58065,     0.57965,     0.57847,     0.57083,     0.57015,     0.56948,     0.56682,     0.56682,     0.56452,     0.56444,     0.56326,     0.55991,     0.55991,     0.55991,\n",
              "            0.55991,     0.55991,     0.55991,     0.55873,      0.5528,     0.55213,     0.55145,     0.55078,     0.54736,     0.54618,     0.54608,     0.54094,     0.53976,     0.53883,     0.53816,     0.53748,     0.53414,     0.53226,     0.53152,     0.53034,     0.52428,     0.52271,     0.52113,\n",
              "            0.51755,     0.51637,     0.51487,     0.51343,     0.51225,     0.50861,     0.50704,     0.50316,     0.49946,     0.49828,      0.4977,      0.4977,      0.4977,      0.4977,      0.4977,      0.4972,     0.49642,     0.49563,     0.49539,     0.49368,     0.49309,     0.49264,     0.49106,\n",
              "            0.48618,     0.48618,      0.4848,     0.48323,     0.48165,     0.48008,     0.47465,     0.47465,     0.47465,     0.47434,     0.47098,      0.4691,     0.46522,     0.46364,     0.45976,     0.45838,     0.45771,     0.45703,     0.45636,      0.4535,     0.45297,     0.45245,     0.45192,\n",
              "            0.45161,     0.45161,     0.44931,      0.4424,      0.4424,      0.4424,     0.44174,     0.44056,     0.43779,     0.43757,     0.43599,     0.42981,     0.42593,     0.42436,     0.42278,     0.42121,     0.41963,     0.41475,     0.41244,     0.41244,     0.41033,     0.41014,     0.40783,\n",
              "            0.40783,     0.40731,     0.40679,     0.40626,     0.40574,     0.40275,     0.40196,     0.40118,     0.40092,     0.40092,     0.40073,     0.39995,     0.39916,     0.39401,     0.39401,     0.39401,      0.3934,     0.39183,     0.39083,     0.38989,      0.3894,     0.38937,      0.3878,\n",
              "            0.38479,     0.38158,        0.38,     0.37843,     0.37788,      0.3699,     0.36616,     0.36521,     0.36427,     0.36053,     0.35926,     0.35867,     0.35808,     0.35749,     0.35387,     0.34955,     0.34797,     0.34179,     0.34101,      0.3336,     0.33265,     0.32941,     0.32846,\n",
              "            0.32752,      0.3268,     0.32621,     0.32562,     0.32503,     0.32488,     0.32415,     0.32321,     0.31487,     0.31106,     0.31106,     0.31021,     0.30927,     0.30767,     0.30301,     0.30104,     0.29713,     0.28555,     0.27865,     0.27708,     0.27271,     0.27034,     0.26852,\n",
              "            0.26677,     0.26441,     0.26205,     0.25761,     0.25604,     0.25151,     0.24915,     0.24321,     0.24203,     0.23587,     0.23272,     0.23272,     0.22921,     0.22811,     0.22679,     0.22282,     0.22163,      0.2156,     0.21389,     0.21153,     0.20456,      0.2022,     0.19795,\n",
              "            0.19716,     0.19637,     0.19545,     0.19427,     0.19264,     0.18797,     0.17869,     0.17172,     0.16706,     0.16127,     0.16049,      0.1597,     0.15876,      0.1541,     0.15174,     0.14516,     0.14516,      0.1435,     0.13883,     0.13647,      0.1318,     0.12086,     0.11671,\n",
              "            0.11435,     0.10877,     0.10829,      0.1072,     0.10602,     0.10062,    0.099829,     0.09897,       0.092,    0.089414,    0.086124,    0.083762,     0.07564,    0.072824,    0.065988,    0.064807,    0.063626,    0.062446,    0.060949,    0.059107,    0.051279,    0.047009,     0.04511,\n",
              "           0.041131,    0.040344,    0.039556,    0.036832,    0.035257,    0.034298,    0.033826,    0.033354,    0.032881,    0.032409,     0.03065,    0.029121,     0.02794,    0.026463,    0.024659,     0.02267,    0.021489,    0.020394,    0.019449,    0.018504,    0.017341,     0.01616,    0.015554,\n",
              "           0.014964,    0.014373,    0.013741,     0.01256,    0.011332,   0.0097571,   0.0081825,   0.0068472,   0.0065098,   0.0061724,    0.005835,   0.0054976,   0.0051602,   0.0048228,   0.0045791,   0.0044991,    0.004419,   0.0043389,   0.0042589,   0.0041788,   0.0040988,   0.0040187,   0.0039386,\n",
              "          0.0038586,   0.0037785,   0.0036985,   0.0036184,   0.0035383,   0.0034583,   0.0033782,   0.0032982,   0.0032181,    0.003138,    0.003058,   0.0029779,   0.0028978,   0.0028178,   0.0027377,   0.0026577,   0.0025776,   0.0024975,   0.0024175,   0.0023374,           0,           0,           0,\n",
              "                  0,           0,           0,           0,           0,           0,           0,           0,           0,           0,           0,           0,           0,           0,           0,           0,           0,           0,           0,           0,           0,           0,           0,\n",
              "                  0,           0,           0,           0,           0,           0,           0,           0,           0,           0,           0]]), 'Confidence', 'Recall']]\n",
              "fitness: np.float64(0.5151625722185846)\n",
              "keys: ['metrics/precision(B)', 'metrics/recall(B)', 'metrics/mAP50(B)', 'metrics/mAP50-95(B)']\n",
              "maps: array([    0.48741,     0.48741])\n",
              "names: {0: 'olive', 1: 'potential_olive'}\n",
              "plot: True\n",
              "results_dict: {'metrics/precision(B)': np.float64(0.6421029463012385), 'metrics/recall(B)': np.float64(0.7811059907834101), 'metrics/mAP50(B)': np.float64(0.7648954171859228), 'metrics/mAP50-95(B)': np.float64(0.48741447833332485), 'fitness': np.float64(0.5151625722185846)}\n",
              "save_dir: PosixPath('runs/detect/train')\n",
              "speed: {'preprocess': 0.31982890000108455, 'inference': 29.085980349994617, 'loss': 0.0008714388867600873, 'postprocess': 3.1638305166678844}\n",
              "task: 'detect'"
            ]
          },
          "metadata": {},
          "execution_count": 16
        }
      ]
    },
    {
      "cell_type": "code",
      "source": [
        "model.save(\"last_rgb_model.pt\")"
      ],
      "metadata": {
        "id": "vawmuLc7wQsq"
      },
      "execution_count": 17,
      "outputs": []
    },
    {
      "cell_type": "markdown",
      "source": [
        "# Train COCO HSV\n"
      ],
      "metadata": {
        "id": "mxV2tZ2EPh9X"
      }
    },
    {
      "cell_type": "code",
      "source": [
        "model = YOLO(\"/content/last_rgb_model.pt\") # Load your RGB-finetuned model\n",
        "model.train(\n",
        "data=\"/content/split_custom_data_hsv/data.yaml\", # split_data_hsv\n",
        "epochs=50,\n",
        "imgsz=640,\n",
        "lr0=1e-4, # Smaller LR for stable adaptation\n",
        "hsv_h=0.0, # Disable built-in HSV augmentation (use true HSV images)\n",
        "pretrained=False # Avoid resetting weights to COCO defaults\n",
        ")"
      ],
      "metadata": {
        "id": "6FbDi4RUPkvO",
        "outputId": "b6a569b2-03df-41c9-a9a6-aa7b08096a2d",
        "colab": {
          "base_uri": "https://localhost:8080/"
        }
      },
      "execution_count": 18,
      "outputs": [
        {
          "output_type": "stream",
          "name": "stdout",
          "text": [
            "Ultralytics 8.3.140 🚀 Python-3.11.12 torch-2.6.0+cu124 CUDA:0 (Tesla T4, 15095MiB)\n",
            "\u001b[34m\u001b[1mengine/trainer: \u001b[0magnostic_nms=False, amp=True, augment=False, auto_augment=randaugment, batch=16, bgr=0.0, box=7.5, cache=False, cfg=None, classes=None, close_mosaic=10, cls=0.5, conf=None, copy_paste=0.0, copy_paste_mode=flip, cos_lr=False, cutmix=0.0, data=/content/split_custom_data_hsv/data.yaml, degrees=0.0, deterministic=True, device=0, dfl=1.5, dnn=False, dropout=0.0, dynamic=False, embed=None, epochs=50, erasing=0.4, exist_ok=False, fliplr=0.5, flipud=0.0, format=torchscript, fraction=1.0, freeze=None, half=False, hsv_h=0.0, hsv_s=0.7, hsv_v=0.4, imgsz=640, int8=False, iou=0.7, keras=False, kobj=1.0, line_width=None, lr0=0.0001, lrf=0.01, mask_ratio=4, max_det=300, mixup=0.0, mode=train, model=/content/last_rgb_model.pt, momentum=0.937, mosaic=1.0, multi_scale=False, name=train2, nbs=64, nms=False, opset=None, optimize=False, optimizer=auto, overlap_mask=True, patience=100, perspective=0.0, plots=True, pose=12.0, pretrained=False, profile=False, project=None, rect=False, resume=False, retina_masks=False, save=True, save_conf=False, save_crop=False, save_dir=runs/detect/train2, save_frames=False, save_json=False, save_period=-1, save_txt=False, scale=0.5, seed=0, shear=0.0, show=False, show_boxes=True, show_conf=True, show_labels=True, simplify=True, single_cls=False, source=None, split=val, stream_buffer=False, task=detect, time=None, tracker=botsort.yaml, translate=0.1, val=True, verbose=True, vid_stride=1, visualize=False, warmup_bias_lr=0.1, warmup_epochs=3.0, warmup_momentum=0.8, weight_decay=0.0005, workers=8, workspace=None\n",
            "\n",
            "                   from  n    params  module                                       arguments                     \n",
            "  0                  -1  1      2320  ultralytics.nn.modules.conv.Conv             [3, 80, 3, 2]                 \n",
            "  1                  -1  1    115520  ultralytics.nn.modules.conv.Conv             [80, 160, 3, 2]               \n",
            "  2                  -1  3    436800  ultralytics.nn.modules.block.C2f             [160, 160, 3, True]           \n",
            "  3                  -1  1    461440  ultralytics.nn.modules.conv.Conv             [160, 320, 3, 2]              \n",
            "  4                  -1  6   3281920  ultralytics.nn.modules.block.C2f             [320, 320, 6, True]           \n",
            "  5                  -1  1   1844480  ultralytics.nn.modules.conv.Conv             [320, 640, 3, 2]              \n",
            "  6                  -1  6  13117440  ultralytics.nn.modules.block.C2f             [640, 640, 6, True]           \n",
            "  7                  -1  1   3687680  ultralytics.nn.modules.conv.Conv             [640, 640, 3, 2]              \n",
            "  8                  -1  3   6969600  ultralytics.nn.modules.block.C2f             [640, 640, 3, True]           \n",
            "  9                  -1  1   1025920  ultralytics.nn.modules.block.SPPF            [640, 640, 5]                 \n",
            " 10                  -1  1         0  torch.nn.modules.upsampling.Upsample         [None, 2, 'nearest']          \n",
            " 11             [-1, 6]  1         0  ultralytics.nn.modules.conv.Concat           [1]                           \n",
            " 12                  -1  3   7379200  ultralytics.nn.modules.block.C2f             [1280, 640, 3]                \n",
            " 13                  -1  1         0  torch.nn.modules.upsampling.Upsample         [None, 2, 'nearest']          \n",
            " 14             [-1, 4]  1         0  ultralytics.nn.modules.conv.Concat           [1]                           \n",
            " 15                  -1  3   1948800  ultralytics.nn.modules.block.C2f             [960, 320, 3]                 \n",
            " 16                  -1  1    922240  ultralytics.nn.modules.conv.Conv             [320, 320, 3, 2]              \n",
            " 17            [-1, 12]  1         0  ultralytics.nn.modules.conv.Concat           [1]                           \n",
            " 18                  -1  3   7174400  ultralytics.nn.modules.block.C2f             [960, 640, 3]                 \n",
            " 19                  -1  1   3687680  ultralytics.nn.modules.conv.Conv             [640, 640, 3, 2]              \n",
            " 20             [-1, 9]  1         0  ultralytics.nn.modules.conv.Concat           [1]                           \n",
            " 21                  -1  3   7379200  ultralytics.nn.modules.block.C2f             [1280, 640, 3]                \n",
            " 22        [15, 18, 21]  1   8719894  ultralytics.nn.modules.head.Detect           [2, [320, 640, 640]]          \n",
            "Model summary: 209 layers, 68,154,534 parameters, 68,154,518 gradients, 258.1 GFLOPs\n",
            "\n",
            "Transferred 595/595 items from pretrained weights\n",
            "Freezing layer 'model.22.dfl.conv.weight'\n",
            "\u001b[34m\u001b[1mAMP: \u001b[0mrunning Automatic Mixed Precision (AMP) checks...\n",
            "\u001b[34m\u001b[1mAMP: \u001b[0mchecks passed ✅\n",
            "\u001b[34m\u001b[1mtrain: \u001b[0mFast image access ✅ (ping: 0.0±0.0 ms, read: 42.2±9.9 MB/s, size: 216.0 KB)\n"
          ]
        },
        {
          "output_type": "stream",
          "name": "stderr",
          "text": [
            "\u001b[34m\u001b[1mtrain: \u001b[0mScanning /content/split_custom_data_hsv/labels/train... 1992 images, 1223 backgrounds, 0 corrupt: 100%|██████████| 1992/1992 [00:04<00:00, 443.24it/s]\n"
          ]
        },
        {
          "output_type": "stream",
          "name": "stdout",
          "text": [
            "\u001b[34m\u001b[1mtrain: \u001b[0mNew cache created: /content/split_custom_data_hsv/labels/train.cache\n",
            "\u001b[34m\u001b[1malbumentations: \u001b[0mBlur(p=0.01, blur_limit=(3, 7)), MedianBlur(p=0.01, blur_limit=(3, 7)), ToGray(p=0.01, method='weighted_average', num_output_channels=3), CLAHE(p=0.01, clip_limit=(1.0, 4.0), tile_grid_size=(8, 8))\n",
            "\u001b[34m\u001b[1mval: \u001b[0mFast image access ✅ (ping: 0.0±0.0 ms, read: 46.5±10.6 MB/s, size: 233.9 KB)\n"
          ]
        },
        {
          "output_type": "stream",
          "name": "stderr",
          "text": [
            "\u001b[34m\u001b[1mval: \u001b[0mScanning /content/split_custom_data_hsv/labels/val... 180 images, 108 backgrounds, 0 corrupt: 100%|██████████| 180/180 [00:00<00:00, 444.67it/s]\n"
          ]
        },
        {
          "output_type": "stream",
          "name": "stdout",
          "text": [
            "\u001b[34m\u001b[1mval: \u001b[0mNew cache created: /content/split_custom_data_hsv/labels/val.cache\n",
            "Plotting labels to runs/detect/train2/labels.jpg... \n",
            "\u001b[34m\u001b[1moptimizer:\u001b[0m 'optimizer=auto' found, ignoring 'lr0=0.0001' and 'momentum=0.937' and determining best 'optimizer', 'lr0' and 'momentum' automatically... \n",
            "\u001b[34m\u001b[1moptimizer:\u001b[0m AdamW(lr=0.001667, momentum=0.9) with parameter groups 97 weight(decay=0.0), 104 weight(decay=0.0005), 103 bias(decay=0.0)\n",
            "Image sizes 640 train, 640 val\n",
            "Using 2 dataloader workers\n",
            "Logging results to \u001b[1mruns/detect/train2\u001b[0m\n",
            "Starting training for 50 epochs...\n",
            "\n",
            "      Epoch    GPU_mem   box_loss   cls_loss   dfl_loss  Instances       Size\n"
          ]
        },
        {
          "output_type": "stream",
          "name": "stderr",
          "text": [
            "       1/50      12.8G      1.991      2.398       1.22         22        640: 100%|██████████| 125/125 [02:46<00:00,  1.33s/it]\n",
            "                 Class     Images  Instances      Box(P          R      mAP50  mAP50-95): 100%|██████████| 6/6 [00:06<00:00,  1.03s/it]"
          ]
        },
        {
          "output_type": "stream",
          "name": "stdout",
          "text": [
            "                   all        180        434      0.325      0.247      0.178     0.0892\n"
          ]
        },
        {
          "output_type": "stream",
          "name": "stderr",
          "text": [
            "\n"
          ]
        },
        {
          "output_type": "stream",
          "name": "stdout",
          "text": [
            "\n",
            "      Epoch    GPU_mem   box_loss   cls_loss   dfl_loss  Instances       Size\n"
          ]
        },
        {
          "output_type": "stream",
          "name": "stderr",
          "text": [
            "       2/50      13.3G      2.194       2.61      1.302         43        640: 100%|██████████| 125/125 [02:41<00:00,  1.30s/it]\n",
            "                 Class     Images  Instances      Box(P          R      mAP50  mAP50-95): 100%|██████████| 6/6 [00:05<00:00,  1.00it/s]"
          ]
        },
        {
          "output_type": "stream",
          "name": "stdout",
          "text": [
            "                   all        180        434      0.428      0.329      0.243      0.107\n"
          ]
        },
        {
          "output_type": "stream",
          "name": "stderr",
          "text": [
            "\n"
          ]
        },
        {
          "output_type": "stream",
          "name": "stdout",
          "text": [
            "\n",
            "      Epoch    GPU_mem   box_loss   cls_loss   dfl_loss  Instances       Size\n"
          ]
        },
        {
          "output_type": "stream",
          "name": "stderr",
          "text": [
            "       3/50      12.3G       2.29        2.7      1.325         29        640: 100%|██████████| 125/125 [02:41<00:00,  1.29s/it]\n",
            "                 Class     Images  Instances      Box(P          R      mAP50  mAP50-95): 100%|██████████| 6/6 [00:05<00:00,  1.03it/s]"
          ]
        },
        {
          "output_type": "stream",
          "name": "stdout",
          "text": [
            "                   all        180        434      0.318       0.21      0.158     0.0807\n"
          ]
        },
        {
          "output_type": "stream",
          "name": "stderr",
          "text": [
            "\n"
          ]
        },
        {
          "output_type": "stream",
          "name": "stdout",
          "text": [
            "\n",
            "      Epoch    GPU_mem   box_loss   cls_loss   dfl_loss  Instances       Size\n"
          ]
        },
        {
          "output_type": "stream",
          "name": "stderr",
          "text": [
            "       4/50      12.5G      2.277      2.781      1.304          4        640: 100%|██████████| 125/125 [02:42<00:00,  1.30s/it]\n",
            "                 Class     Images  Instances      Box(P          R      mAP50  mAP50-95): 100%|██████████| 6/6 [00:05<00:00,  1.01it/s]"
          ]
        },
        {
          "output_type": "stream",
          "name": "stdout",
          "text": [
            "                   all        180        434      0.319      0.237      0.187     0.0784\n"
          ]
        },
        {
          "output_type": "stream",
          "name": "stderr",
          "text": [
            "\n"
          ]
        },
        {
          "output_type": "stream",
          "name": "stdout",
          "text": [
            "\n",
            "      Epoch    GPU_mem   box_loss   cls_loss   dfl_loss  Instances       Size\n"
          ]
        },
        {
          "output_type": "stream",
          "name": "stderr",
          "text": [
            "       5/50      12.5G       2.13      2.582      1.222         26        640: 100%|██████████| 125/125 [02:39<00:00,  1.28s/it]\n",
            "                 Class     Images  Instances      Box(P          R      mAP50  mAP50-95): 100%|██████████| 6/6 [00:05<00:00,  1.03it/s]"
          ]
        },
        {
          "output_type": "stream",
          "name": "stdout",
          "text": [
            "                   all        180        434      0.535      0.433      0.422      0.235\n"
          ]
        },
        {
          "output_type": "stream",
          "name": "stderr",
          "text": [
            "\n"
          ]
        },
        {
          "output_type": "stream",
          "name": "stdout",
          "text": [
            "\n",
            "      Epoch    GPU_mem   box_loss   cls_loss   dfl_loss  Instances       Size\n"
          ]
        },
        {
          "output_type": "stream",
          "name": "stderr",
          "text": [
            "       6/50      12.2G      2.041      2.355      1.207         44        640: 100%|██████████| 125/125 [02:40<00:00,  1.28s/it]\n",
            "                 Class     Images  Instances      Box(P          R      mAP50  mAP50-95): 100%|██████████| 6/6 [00:06<00:00,  1.02s/it]"
          ]
        },
        {
          "output_type": "stream",
          "name": "stdout",
          "text": [
            "                   all        180        434      0.565      0.507      0.527      0.309\n"
          ]
        },
        {
          "output_type": "stream",
          "name": "stderr",
          "text": [
            "\n"
          ]
        },
        {
          "output_type": "stream",
          "name": "stdout",
          "text": [
            "\n",
            "      Epoch    GPU_mem   box_loss   cls_loss   dfl_loss  Instances       Size\n"
          ]
        },
        {
          "output_type": "stream",
          "name": "stderr",
          "text": [
            "       7/50      12.5G      2.079      2.477      1.234         54        640: 100%|██████████| 125/125 [02:39<00:00,  1.28s/it]\n",
            "                 Class     Images  Instances      Box(P          R      mAP50  mAP50-95): 100%|██████████| 6/6 [00:05<00:00,  1.02it/s]"
          ]
        },
        {
          "output_type": "stream",
          "name": "stdout",
          "text": [
            "                   all        180        434     0.0552      0.249     0.0339     0.0197\n"
          ]
        },
        {
          "output_type": "stream",
          "name": "stderr",
          "text": [
            "\n"
          ]
        },
        {
          "output_type": "stream",
          "name": "stdout",
          "text": [
            "\n",
            "      Epoch    GPU_mem   box_loss   cls_loss   dfl_loss  Instances       Size\n"
          ]
        },
        {
          "output_type": "stream",
          "name": "stderr",
          "text": [
            "       8/50      12.5G      1.996      2.343      1.195          5        640: 100%|██████████| 125/125 [02:40<00:00,  1.28s/it]\n",
            "                 Class     Images  Instances      Box(P          R      mAP50  mAP50-95): 100%|██████████| 6/6 [00:06<00:00,  1.04s/it]"
          ]
        },
        {
          "output_type": "stream",
          "name": "stdout",
          "text": [
            "                   all        180        434      0.576      0.472      0.505      0.305\n"
          ]
        },
        {
          "output_type": "stream",
          "name": "stderr",
          "text": [
            "\n"
          ]
        },
        {
          "output_type": "stream",
          "name": "stdout",
          "text": [
            "\n",
            "      Epoch    GPU_mem   box_loss   cls_loss   dfl_loss  Instances       Size\n"
          ]
        },
        {
          "output_type": "stream",
          "name": "stderr",
          "text": [
            "       9/50      12.4G      1.982      2.289      1.175         27        640: 100%|██████████| 125/125 [02:40<00:00,  1.28s/it]\n",
            "                 Class     Images  Instances      Box(P          R      mAP50  mAP50-95): 100%|██████████| 6/6 [00:05<00:00,  1.01it/s]"
          ]
        },
        {
          "output_type": "stream",
          "name": "stdout",
          "text": [
            "                   all        180        434      0.609      0.544      0.579      0.348\n"
          ]
        },
        {
          "output_type": "stream",
          "name": "stderr",
          "text": [
            "\n"
          ]
        },
        {
          "output_type": "stream",
          "name": "stdout",
          "text": [
            "\n",
            "      Epoch    GPU_mem   box_loss   cls_loss   dfl_loss  Instances       Size\n"
          ]
        },
        {
          "output_type": "stream",
          "name": "stderr",
          "text": [
            "      10/50      12.3G      1.947      2.309      1.167          4        640: 100%|██████████| 125/125 [02:39<00:00,  1.28s/it]\n",
            "                 Class     Images  Instances      Box(P          R      mAP50  mAP50-95): 100%|██████████| 6/6 [00:05<00:00,  1.03it/s]"
          ]
        },
        {
          "output_type": "stream",
          "name": "stdout",
          "text": [
            "                   all        180        434      0.538      0.486      0.523      0.306\n"
          ]
        },
        {
          "output_type": "stream",
          "name": "stderr",
          "text": [
            "\n"
          ]
        },
        {
          "output_type": "stream",
          "name": "stdout",
          "text": [
            "\n",
            "      Epoch    GPU_mem   box_loss   cls_loss   dfl_loss  Instances       Size\n"
          ]
        },
        {
          "output_type": "stream",
          "name": "stderr",
          "text": [
            "      11/50      12.4G      1.929      2.176      1.162         32        640: 100%|██████████| 125/125 [02:39<00:00,  1.28s/it]\n",
            "                 Class     Images  Instances      Box(P          R      mAP50  mAP50-95): 100%|██████████| 6/6 [00:06<00:00,  1.00s/it]"
          ]
        },
        {
          "output_type": "stream",
          "name": "stdout",
          "text": [
            "                   all        180        434      0.525      0.468       0.48       0.27\n"
          ]
        },
        {
          "output_type": "stream",
          "name": "stderr",
          "text": [
            "\n"
          ]
        },
        {
          "output_type": "stream",
          "name": "stdout",
          "text": [
            "\n",
            "      Epoch    GPU_mem   box_loss   cls_loss   dfl_loss  Instances       Size\n"
          ]
        },
        {
          "output_type": "stream",
          "name": "stderr",
          "text": [
            "      12/50      12.5G      1.876      2.178      1.154         47        640: 100%|██████████| 125/125 [02:39<00:00,  1.28s/it]\n",
            "                 Class     Images  Instances      Box(P          R      mAP50  mAP50-95): 100%|██████████| 6/6 [00:06<00:00,  1.00s/it]"
          ]
        },
        {
          "output_type": "stream",
          "name": "stdout",
          "text": [
            "                   all        180        434      0.595      0.498      0.525      0.314\n"
          ]
        },
        {
          "output_type": "stream",
          "name": "stderr",
          "text": [
            "\n"
          ]
        },
        {
          "output_type": "stream",
          "name": "stdout",
          "text": [
            "\n",
            "      Epoch    GPU_mem   box_loss   cls_loss   dfl_loss  Instances       Size\n"
          ]
        },
        {
          "output_type": "stream",
          "name": "stderr",
          "text": [
            "      13/50      12.5G      1.851       2.12      1.132         32        640: 100%|██████████| 125/125 [02:39<00:00,  1.27s/it]\n",
            "                 Class     Images  Instances      Box(P          R      mAP50  mAP50-95): 100%|██████████| 6/6 [00:05<00:00,  1.02it/s]"
          ]
        },
        {
          "output_type": "stream",
          "name": "stdout",
          "text": [
            "                   all        180        434      0.614      0.513      0.543      0.328\n"
          ]
        },
        {
          "output_type": "stream",
          "name": "stderr",
          "text": [
            "\n"
          ]
        },
        {
          "output_type": "stream",
          "name": "stdout",
          "text": [
            "\n",
            "      Epoch    GPU_mem   box_loss   cls_loss   dfl_loss  Instances       Size\n"
          ]
        },
        {
          "output_type": "stream",
          "name": "stderr",
          "text": [
            "      14/50      12.3G      1.886      2.207      1.167         29        640: 100%|██████████| 125/125 [02:39<00:00,  1.27s/it]\n",
            "                 Class     Images  Instances      Box(P          R      mAP50  mAP50-95): 100%|██████████| 6/6 [00:06<00:00,  1.02s/it]"
          ]
        },
        {
          "output_type": "stream",
          "name": "stdout",
          "text": [
            "                   all        180        434      0.634      0.537      0.577      0.353\n"
          ]
        },
        {
          "output_type": "stream",
          "name": "stderr",
          "text": [
            "\n"
          ]
        },
        {
          "output_type": "stream",
          "name": "stdout",
          "text": [
            "\n",
            "      Epoch    GPU_mem   box_loss   cls_loss   dfl_loss  Instances       Size\n"
          ]
        },
        {
          "output_type": "stream",
          "name": "stderr",
          "text": [
            "      15/50      12.5G      1.959      2.225       1.18         24        640: 100%|██████████| 125/125 [02:39<00:00,  1.28s/it]\n",
            "                 Class     Images  Instances      Box(P          R      mAP50  mAP50-95): 100%|██████████| 6/6 [00:05<00:00,  1.03it/s]"
          ]
        },
        {
          "output_type": "stream",
          "name": "stdout",
          "text": [
            "                   all        180        434      0.596      0.486      0.539      0.328\n"
          ]
        },
        {
          "output_type": "stream",
          "name": "stderr",
          "text": [
            "\n"
          ]
        },
        {
          "output_type": "stream",
          "name": "stdout",
          "text": [
            "\n",
            "      Epoch    GPU_mem   box_loss   cls_loss   dfl_loss  Instances       Size\n"
          ]
        },
        {
          "output_type": "stream",
          "name": "stderr",
          "text": [
            "      16/50      12.4G      1.837      2.112       1.15         10        640: 100%|██████████| 125/125 [02:39<00:00,  1.28s/it]\n",
            "                 Class     Images  Instances      Box(P          R      mAP50  mAP50-95): 100%|██████████| 6/6 [00:06<00:00,  1.00s/it]"
          ]
        },
        {
          "output_type": "stream",
          "name": "stdout",
          "text": [
            "                   all        180        434      0.661      0.585      0.613      0.345\n"
          ]
        },
        {
          "output_type": "stream",
          "name": "stderr",
          "text": [
            "\n"
          ]
        },
        {
          "output_type": "stream",
          "name": "stdout",
          "text": [
            "\n",
            "      Epoch    GPU_mem   box_loss   cls_loss   dfl_loss  Instances       Size\n"
          ]
        },
        {
          "output_type": "stream",
          "name": "stderr",
          "text": [
            "      17/50      12.5G      1.868      2.105      1.151         20        640: 100%|██████████| 125/125 [02:39<00:00,  1.28s/it]\n",
            "                 Class     Images  Instances      Box(P          R      mAP50  mAP50-95): 100%|██████████| 6/6 [00:05<00:00,  1.01it/s]"
          ]
        },
        {
          "output_type": "stream",
          "name": "stdout",
          "text": [
            "                   all        180        434      0.633      0.498      0.562      0.348\n"
          ]
        },
        {
          "output_type": "stream",
          "name": "stderr",
          "text": [
            "\n"
          ]
        },
        {
          "output_type": "stream",
          "name": "stdout",
          "text": [
            "\n",
            "      Epoch    GPU_mem   box_loss   cls_loss   dfl_loss  Instances       Size\n"
          ]
        },
        {
          "output_type": "stream",
          "name": "stderr",
          "text": [
            "      18/50      12.2G      1.812       2.07      1.158         25        640: 100%|██████████| 125/125 [02:39<00:00,  1.27s/it]\n",
            "                 Class     Images  Instances      Box(P          R      mAP50  mAP50-95): 100%|██████████| 6/6 [00:05<00:00,  1.00it/s]"
          ]
        },
        {
          "output_type": "stream",
          "name": "stdout",
          "text": [
            "                   all        180        434      0.602      0.555      0.563      0.348\n"
          ]
        },
        {
          "output_type": "stream",
          "name": "stderr",
          "text": [
            "\n"
          ]
        },
        {
          "output_type": "stream",
          "name": "stdout",
          "text": [
            "\n",
            "      Epoch    GPU_mem   box_loss   cls_loss   dfl_loss  Instances       Size\n"
          ]
        },
        {
          "output_type": "stream",
          "name": "stderr",
          "text": [
            "      19/50      12.5G      1.754      1.991      1.131         62        640: 100%|██████████| 125/125 [02:39<00:00,  1.27s/it]\n",
            "                 Class     Images  Instances      Box(P          R      mAP50  mAP50-95): 100%|██████████| 6/6 [00:05<00:00,  1.02it/s]"
          ]
        },
        {
          "output_type": "stream",
          "name": "stdout",
          "text": [
            "                   all        180        434      0.638      0.539      0.585      0.368\n"
          ]
        },
        {
          "output_type": "stream",
          "name": "stderr",
          "text": [
            "\n"
          ]
        },
        {
          "output_type": "stream",
          "name": "stdout",
          "text": [
            "\n",
            "      Epoch    GPU_mem   box_loss   cls_loss   dfl_loss  Instances       Size\n"
          ]
        },
        {
          "output_type": "stream",
          "name": "stderr",
          "text": [
            "      20/50      12.5G      1.747      1.918      1.111         63        640: 100%|██████████| 125/125 [02:39<00:00,  1.28s/it]\n",
            "                 Class     Images  Instances      Box(P          R      mAP50  mAP50-95): 100%|██████████| 6/6 [00:06<00:00,  1.03s/it]"
          ]
        },
        {
          "output_type": "stream",
          "name": "stdout",
          "text": [
            "                   all        180        434      0.511      0.498      0.461      0.264\n"
          ]
        },
        {
          "output_type": "stream",
          "name": "stderr",
          "text": [
            "\n"
          ]
        },
        {
          "output_type": "stream",
          "name": "stdout",
          "text": [
            "\n",
            "      Epoch    GPU_mem   box_loss   cls_loss   dfl_loss  Instances       Size\n"
          ]
        },
        {
          "output_type": "stream",
          "name": "stderr",
          "text": [
            "      21/50      12.5G      1.755      1.943       1.12         12        640: 100%|██████████| 125/125 [02:40<00:00,  1.28s/it]\n",
            "                 Class     Images  Instances      Box(P          R      mAP50  mAP50-95): 100%|██████████| 6/6 [00:05<00:00,  1.01it/s]"
          ]
        },
        {
          "output_type": "stream",
          "name": "stdout",
          "text": [
            "                   all        180        434      0.588      0.493      0.492      0.299\n"
          ]
        },
        {
          "output_type": "stream",
          "name": "stderr",
          "text": [
            "\n"
          ]
        },
        {
          "output_type": "stream",
          "name": "stdout",
          "text": [
            "\n",
            "      Epoch    GPU_mem   box_loss   cls_loss   dfl_loss  Instances       Size\n"
          ]
        },
        {
          "output_type": "stream",
          "name": "stderr",
          "text": [
            "      22/50      12.2G      1.714      1.966      1.115         59        640: 100%|██████████| 125/125 [02:39<00:00,  1.28s/it]\n",
            "                 Class     Images  Instances      Box(P          R      mAP50  mAP50-95): 100%|██████████| 6/6 [00:05<00:00,  1.02it/s]"
          ]
        },
        {
          "output_type": "stream",
          "name": "stdout",
          "text": [
            "                   all        180        434      0.672      0.581      0.622      0.381\n"
          ]
        },
        {
          "output_type": "stream",
          "name": "stderr",
          "text": [
            "\n"
          ]
        },
        {
          "output_type": "stream",
          "name": "stdout",
          "text": [
            "\n",
            "      Epoch    GPU_mem   box_loss   cls_loss   dfl_loss  Instances       Size\n"
          ]
        },
        {
          "output_type": "stream",
          "name": "stderr",
          "text": [
            "      23/50      12.5G       1.74      2.037      1.113         65        640: 100%|██████████| 125/125 [02:39<00:00,  1.28s/it]\n",
            "                 Class     Images  Instances      Box(P          R      mAP50  mAP50-95): 100%|██████████| 6/6 [00:05<00:00,  1.03it/s]"
          ]
        },
        {
          "output_type": "stream",
          "name": "stdout",
          "text": [
            "                   all        180        434      0.651       0.65       0.63      0.364\n"
          ]
        },
        {
          "output_type": "stream",
          "name": "stderr",
          "text": [
            "\n"
          ]
        },
        {
          "output_type": "stream",
          "name": "stdout",
          "text": [
            "\n",
            "      Epoch    GPU_mem   box_loss   cls_loss   dfl_loss  Instances       Size\n"
          ]
        },
        {
          "output_type": "stream",
          "name": "stderr",
          "text": [
            "      24/50      12.5G      1.672      1.812      1.097         37        640: 100%|██████████| 125/125 [02:39<00:00,  1.27s/it]\n",
            "                 Class     Images  Instances      Box(P          R      mAP50  mAP50-95): 100%|██████████| 6/6 [00:05<00:00,  1.02it/s]"
          ]
        },
        {
          "output_type": "stream",
          "name": "stdout",
          "text": [
            "                   all        180        434      0.601      0.507      0.551      0.326\n"
          ]
        },
        {
          "output_type": "stream",
          "name": "stderr",
          "text": [
            "\n"
          ]
        },
        {
          "output_type": "stream",
          "name": "stdout",
          "text": [
            "\n",
            "      Epoch    GPU_mem   box_loss   cls_loss   dfl_loss  Instances       Size\n"
          ]
        },
        {
          "output_type": "stream",
          "name": "stderr",
          "text": [
            "      25/50      12.5G      1.723      1.877       1.11         22        640: 100%|██████████| 125/125 [02:38<00:00,  1.27s/it]\n",
            "                 Class     Images  Instances      Box(P          R      mAP50  mAP50-95): 100%|██████████| 6/6 [00:06<00:00,  1.02s/it]"
          ]
        },
        {
          "output_type": "stream",
          "name": "stdout",
          "text": [
            "                   all        180        434       0.59      0.594      0.583      0.341\n"
          ]
        },
        {
          "output_type": "stream",
          "name": "stderr",
          "text": [
            "\n"
          ]
        },
        {
          "output_type": "stream",
          "name": "stdout",
          "text": [
            "\n",
            "      Epoch    GPU_mem   box_loss   cls_loss   dfl_loss  Instances       Size\n"
          ]
        },
        {
          "output_type": "stream",
          "name": "stderr",
          "text": [
            "      26/50      12.2G      1.739      1.941      1.099         25        640: 100%|██████████| 125/125 [02:39<00:00,  1.28s/it]\n",
            "                 Class     Images  Instances      Box(P          R      mAP50  mAP50-95): 100%|██████████| 6/6 [00:05<00:00,  1.03it/s]"
          ]
        },
        {
          "output_type": "stream",
          "name": "stdout",
          "text": [
            "                   all        180        434      0.613      0.561      0.596      0.365\n"
          ]
        },
        {
          "output_type": "stream",
          "name": "stderr",
          "text": [
            "\n"
          ]
        },
        {
          "output_type": "stream",
          "name": "stdout",
          "text": [
            "\n",
            "      Epoch    GPU_mem   box_loss   cls_loss   dfl_loss  Instances       Size\n"
          ]
        },
        {
          "output_type": "stream",
          "name": "stderr",
          "text": [
            "      27/50      12.5G      1.651      1.774      1.087         40        640: 100%|██████████| 125/125 [02:39<00:00,  1.27s/it]\n",
            "                 Class     Images  Instances      Box(P          R      mAP50  mAP50-95): 100%|██████████| 6/6 [00:05<00:00,  1.02it/s]"
          ]
        },
        {
          "output_type": "stream",
          "name": "stdout",
          "text": [
            "                   all        180        434      0.683      0.615      0.659      0.402\n"
          ]
        },
        {
          "output_type": "stream",
          "name": "stderr",
          "text": [
            "\n"
          ]
        },
        {
          "output_type": "stream",
          "name": "stdout",
          "text": [
            "\n",
            "      Epoch    GPU_mem   box_loss   cls_loss   dfl_loss  Instances       Size\n"
          ]
        },
        {
          "output_type": "stream",
          "name": "stderr",
          "text": [
            "      28/50      12.5G      1.662      1.826      1.087         45        640: 100%|██████████| 125/125 [02:39<00:00,  1.28s/it]\n",
            "                 Class     Images  Instances      Box(P          R      mAP50  mAP50-95): 100%|██████████| 6/6 [00:06<00:00,  1.01s/it]"
          ]
        },
        {
          "output_type": "stream",
          "name": "stdout",
          "text": [
            "                   all        180        434      0.639      0.611       0.62      0.377\n"
          ]
        },
        {
          "output_type": "stream",
          "name": "stderr",
          "text": [
            "\n"
          ]
        },
        {
          "output_type": "stream",
          "name": "stdout",
          "text": [
            "\n",
            "      Epoch    GPU_mem   box_loss   cls_loss   dfl_loss  Instances       Size\n"
          ]
        },
        {
          "output_type": "stream",
          "name": "stderr",
          "text": [
            "      29/50      12.5G      1.597      1.786      1.075         24        640: 100%|██████████| 125/125 [02:39<00:00,  1.28s/it]\n",
            "                 Class     Images  Instances      Box(P          R      mAP50  mAP50-95): 100%|██████████| 6/6 [00:05<00:00,  1.03it/s]"
          ]
        },
        {
          "output_type": "stream",
          "name": "stdout",
          "text": [
            "                   all        180        434      0.663      0.555      0.624      0.386\n"
          ]
        },
        {
          "output_type": "stream",
          "name": "stderr",
          "text": [
            "\n"
          ]
        },
        {
          "output_type": "stream",
          "name": "stdout",
          "text": [
            "\n",
            "      Epoch    GPU_mem   box_loss   cls_loss   dfl_loss  Instances       Size\n"
          ]
        },
        {
          "output_type": "stream",
          "name": "stderr",
          "text": [
            "      30/50      12.2G      1.597      1.768       1.07         56        640: 100%|██████████| 125/125 [02:39<00:00,  1.28s/it]\n",
            "                 Class     Images  Instances      Box(P          R      mAP50  mAP50-95): 100%|██████████| 6/6 [00:05<00:00,  1.02it/s]"
          ]
        },
        {
          "output_type": "stream",
          "name": "stdout",
          "text": [
            "                   all        180        434      0.618      0.576      0.603      0.377\n"
          ]
        },
        {
          "output_type": "stream",
          "name": "stderr",
          "text": [
            "\n"
          ]
        },
        {
          "output_type": "stream",
          "name": "stdout",
          "text": [
            "\n",
            "      Epoch    GPU_mem   box_loss   cls_loss   dfl_loss  Instances       Size\n"
          ]
        },
        {
          "output_type": "stream",
          "name": "stderr",
          "text": [
            "      31/50      12.4G      1.593      1.694      1.069         49        640: 100%|██████████| 125/125 [02:40<00:00,  1.29s/it]\n",
            "                 Class     Images  Instances      Box(P          R      mAP50  mAP50-95): 100%|██████████| 6/6 [00:06<00:00,  1.00s/it]"
          ]
        },
        {
          "output_type": "stream",
          "name": "stdout",
          "text": [
            "                   all        180        434      0.614      0.567      0.601      0.355\n"
          ]
        },
        {
          "output_type": "stream",
          "name": "stderr",
          "text": [
            "\n"
          ]
        },
        {
          "output_type": "stream",
          "name": "stdout",
          "text": [
            "\n",
            "      Epoch    GPU_mem   box_loss   cls_loss   dfl_loss  Instances       Size\n"
          ]
        },
        {
          "output_type": "stream",
          "name": "stderr",
          "text": [
            "      32/50      12.5G      1.588      1.718      1.067         22        640: 100%|██████████| 125/125 [02:39<00:00,  1.28s/it]\n",
            "                 Class     Images  Instances      Box(P          R      mAP50  mAP50-95): 100%|██████████| 6/6 [00:06<00:00,  1.02s/it]"
          ]
        },
        {
          "output_type": "stream",
          "name": "stdout",
          "text": [
            "                   all        180        434      0.707      0.566      0.639      0.402\n"
          ]
        },
        {
          "output_type": "stream",
          "name": "stderr",
          "text": [
            "\n"
          ]
        },
        {
          "output_type": "stream",
          "name": "stdout",
          "text": [
            "\n",
            "      Epoch    GPU_mem   box_loss   cls_loss   dfl_loss  Instances       Size\n"
          ]
        },
        {
          "output_type": "stream",
          "name": "stderr",
          "text": [
            "      33/50      12.4G       1.66      1.842      1.087         33        640: 100%|██████████| 125/125 [02:39<00:00,  1.28s/it]\n",
            "                 Class     Images  Instances      Box(P          R      mAP50  mAP50-95): 100%|██████████| 6/6 [00:05<00:00,  1.03it/s]"
          ]
        },
        {
          "output_type": "stream",
          "name": "stdout",
          "text": [
            "                   all        180        434      0.649      0.525       0.57      0.356\n"
          ]
        },
        {
          "output_type": "stream",
          "name": "stderr",
          "text": [
            "\n"
          ]
        },
        {
          "output_type": "stream",
          "name": "stdout",
          "text": [
            "\n",
            "      Epoch    GPU_mem   box_loss   cls_loss   dfl_loss  Instances       Size\n"
          ]
        },
        {
          "output_type": "stream",
          "name": "stderr",
          "text": [
            "      34/50      12.2G      1.497      1.608      1.052         66        640: 100%|██████████| 125/125 [02:39<00:00,  1.28s/it]\n",
            "                 Class     Images  Instances      Box(P          R      mAP50  mAP50-95): 100%|██████████| 6/6 [00:05<00:00,  1.04it/s]"
          ]
        },
        {
          "output_type": "stream",
          "name": "stdout",
          "text": [
            "                   all        180        434      0.676      0.583      0.641      0.409\n"
          ]
        },
        {
          "output_type": "stream",
          "name": "stderr",
          "text": [
            "\n"
          ]
        },
        {
          "output_type": "stream",
          "name": "stdout",
          "text": [
            "\n",
            "      Epoch    GPU_mem   box_loss   cls_loss   dfl_loss  Instances       Size\n"
          ]
        },
        {
          "output_type": "stream",
          "name": "stderr",
          "text": [
            "      35/50      12.5G       1.59      1.719      1.073          8        640: 100%|██████████| 125/125 [02:39<00:00,  1.28s/it]\n",
            "                 Class     Images  Instances      Box(P          R      mAP50  mAP50-95): 100%|██████████| 6/6 [00:05<00:00,  1.01it/s]"
          ]
        },
        {
          "output_type": "stream",
          "name": "stdout",
          "text": [
            "                   all        180        434      0.699      0.572      0.668       0.43\n"
          ]
        },
        {
          "output_type": "stream",
          "name": "stderr",
          "text": [
            "\n"
          ]
        },
        {
          "output_type": "stream",
          "name": "stdout",
          "text": [
            "\n",
            "      Epoch    GPU_mem   box_loss   cls_loss   dfl_loss  Instances       Size\n"
          ]
        },
        {
          "output_type": "stream",
          "name": "stderr",
          "text": [
            "      36/50      12.4G      1.605      1.834      1.073         20        640: 100%|██████████| 125/125 [02:39<00:00,  1.28s/it]\n",
            "                 Class     Images  Instances      Box(P          R      mAP50  mAP50-95): 100%|██████████| 6/6 [00:06<00:00,  1.05s/it]"
          ]
        },
        {
          "output_type": "stream",
          "name": "stdout",
          "text": [
            "                   all        180        434      0.653      0.615      0.664      0.413\n"
          ]
        },
        {
          "output_type": "stream",
          "name": "stderr",
          "text": [
            "\n"
          ]
        },
        {
          "output_type": "stream",
          "name": "stdout",
          "text": [
            "\n",
            "      Epoch    GPU_mem   box_loss   cls_loss   dfl_loss  Instances       Size\n"
          ]
        },
        {
          "output_type": "stream",
          "name": "stderr",
          "text": [
            "      37/50      12.5G      1.576        1.7      1.076          9        640: 100%|██████████| 125/125 [02:39<00:00,  1.28s/it]\n",
            "                 Class     Images  Instances      Box(P          R      mAP50  mAP50-95): 100%|██████████| 6/6 [00:05<00:00,  1.02it/s]"
          ]
        },
        {
          "output_type": "stream",
          "name": "stdout",
          "text": [
            "                   all        180        434      0.701      0.595      0.677      0.426\n"
          ]
        },
        {
          "output_type": "stream",
          "name": "stderr",
          "text": [
            "\n"
          ]
        },
        {
          "output_type": "stream",
          "name": "stdout",
          "text": [
            "\n",
            "      Epoch    GPU_mem   box_loss   cls_loss   dfl_loss  Instances       Size\n"
          ]
        },
        {
          "output_type": "stream",
          "name": "stderr",
          "text": [
            "      38/50      12.3G      1.601      1.763      1.071         20        640: 100%|██████████| 125/125 [02:39<00:00,  1.28s/it]\n",
            "                 Class     Images  Instances      Box(P          R      mAP50  mAP50-95): 100%|██████████| 6/6 [00:05<00:00,  1.02it/s]"
          ]
        },
        {
          "output_type": "stream",
          "name": "stdout",
          "text": [
            "                   all        180        434      0.675      0.621      0.658      0.406\n"
          ]
        },
        {
          "output_type": "stream",
          "name": "stderr",
          "text": [
            "\n"
          ]
        },
        {
          "output_type": "stream",
          "name": "stdout",
          "text": [
            "\n",
            "      Epoch    GPU_mem   box_loss   cls_loss   dfl_loss  Instances       Size\n"
          ]
        },
        {
          "output_type": "stream",
          "name": "stderr",
          "text": [
            "      39/50      12.5G      1.517      1.649      1.047         18        640: 100%|██████████| 125/125 [02:39<00:00,  1.28s/it]\n",
            "                 Class     Images  Instances      Box(P          R      mAP50  mAP50-95): 100%|██████████| 6/6 [00:05<00:00,  1.02it/s]"
          ]
        },
        {
          "output_type": "stream",
          "name": "stdout",
          "text": [
            "                   all        180        434      0.633      0.608      0.643      0.401\n"
          ]
        },
        {
          "output_type": "stream",
          "name": "stderr",
          "text": [
            "\n"
          ]
        },
        {
          "output_type": "stream",
          "name": "stdout",
          "text": [
            "\n",
            "      Epoch    GPU_mem   box_loss   cls_loss   dfl_loss  Instances       Size\n"
          ]
        },
        {
          "output_type": "stream",
          "name": "stderr",
          "text": [
            "      40/50      12.5G       1.47      1.617      1.031         32        640: 100%|██████████| 125/125 [02:39<00:00,  1.28s/it]\n",
            "                 Class     Images  Instances      Box(P          R      mAP50  mAP50-95): 100%|██████████| 6/6 [00:06<00:00,  1.03s/it]"
          ]
        },
        {
          "output_type": "stream",
          "name": "stdout",
          "text": [
            "                   all        180        434      0.702      0.588      0.659      0.409\n"
          ]
        },
        {
          "output_type": "stream",
          "name": "stderr",
          "text": [
            "\n"
          ]
        },
        {
          "output_type": "stream",
          "name": "stdout",
          "text": [
            "Closing dataloader mosaic\n",
            "\u001b[34m\u001b[1malbumentations: \u001b[0mBlur(p=0.01, blur_limit=(3, 7)), MedianBlur(p=0.01, blur_limit=(3, 7)), ToGray(p=0.01, method='weighted_average', num_output_channels=3), CLAHE(p=0.01, clip_limit=(1.0, 4.0), tile_grid_size=(8, 8))\n",
            "\n",
            "      Epoch    GPU_mem   box_loss   cls_loss   dfl_loss  Instances       Size\n"
          ]
        },
        {
          "output_type": "stream",
          "name": "stderr",
          "text": [
            "      41/50      12.5G      1.563      1.962      1.092         22        640: 100%|██████████| 125/125 [02:38<00:00,  1.27s/it]\n",
            "                 Class     Images  Instances      Box(P          R      mAP50  mAP50-95): 100%|██████████| 6/6 [00:05<00:00,  1.01it/s]"
          ]
        },
        {
          "output_type": "stream",
          "name": "stdout",
          "text": [
            "                   all        180        434      0.684      0.578      0.647      0.396\n"
          ]
        },
        {
          "output_type": "stream",
          "name": "stderr",
          "text": [
            "\n"
          ]
        },
        {
          "output_type": "stream",
          "name": "stdout",
          "text": [
            "\n",
            "      Epoch    GPU_mem   box_loss   cls_loss   dfl_loss  Instances       Size\n"
          ]
        },
        {
          "output_type": "stream",
          "name": "stderr",
          "text": [
            "      42/50      12.3G      1.561      1.797      1.099          5        640: 100%|██████████| 125/125 [02:38<00:00,  1.27s/it]\n",
            "                 Class     Images  Instances      Box(P          R      mAP50  mAP50-95): 100%|██████████| 6/6 [00:05<00:00,  1.03it/s]"
          ]
        },
        {
          "output_type": "stream",
          "name": "stdout",
          "text": [
            "                   all        180        434      0.656      0.598      0.637      0.403\n"
          ]
        },
        {
          "output_type": "stream",
          "name": "stderr",
          "text": [
            "\n"
          ]
        },
        {
          "output_type": "stream",
          "name": "stdout",
          "text": [
            "\n",
            "      Epoch    GPU_mem   box_loss   cls_loss   dfl_loss  Instances       Size\n"
          ]
        },
        {
          "output_type": "stream",
          "name": "stderr",
          "text": [
            "      43/50      12.5G      1.528      1.782      1.073         50        640: 100%|██████████| 125/125 [02:38<00:00,  1.27s/it]\n",
            "                 Class     Images  Instances      Box(P          R      mAP50  mAP50-95): 100%|██████████| 6/6 [00:05<00:00,  1.03it/s]"
          ]
        },
        {
          "output_type": "stream",
          "name": "stdout",
          "text": [
            "                   all        180        434      0.699      0.576      0.634      0.402\n"
          ]
        },
        {
          "output_type": "stream",
          "name": "stderr",
          "text": [
            "\n"
          ]
        },
        {
          "output_type": "stream",
          "name": "stdout",
          "text": [
            "\n",
            "      Epoch    GPU_mem   box_loss   cls_loss   dfl_loss  Instances       Size\n"
          ]
        },
        {
          "output_type": "stream",
          "name": "stderr",
          "text": [
            "      44/50      12.4G      1.493      1.701      1.074         21        640: 100%|██████████| 125/125 [02:38<00:00,  1.27s/it]\n",
            "                 Class     Images  Instances      Box(P          R      mAP50  mAP50-95): 100%|██████████| 6/6 [00:05<00:00,  1.01it/s]"
          ]
        },
        {
          "output_type": "stream",
          "name": "stdout",
          "text": [
            "                   all        180        434      0.655      0.597      0.645      0.403\n"
          ]
        },
        {
          "output_type": "stream",
          "name": "stderr",
          "text": [
            "\n"
          ]
        },
        {
          "output_type": "stream",
          "name": "stdout",
          "text": [
            "\n",
            "      Epoch    GPU_mem   box_loss   cls_loss   dfl_loss  Instances       Size\n"
          ]
        },
        {
          "output_type": "stream",
          "name": "stderr",
          "text": [
            "      45/50      12.5G      1.539      1.832      1.075         20        640: 100%|██████████| 125/125 [02:39<00:00,  1.27s/it]\n",
            "                 Class     Images  Instances      Box(P          R      mAP50  mAP50-95): 100%|██████████| 6/6 [00:05<00:00,  1.01it/s]"
          ]
        },
        {
          "output_type": "stream",
          "name": "stdout",
          "text": [
            "                   all        180        434      0.719      0.578       0.67      0.418\n"
          ]
        },
        {
          "output_type": "stream",
          "name": "stderr",
          "text": [
            "\n"
          ]
        },
        {
          "output_type": "stream",
          "name": "stdout",
          "text": [
            "\n",
            "      Epoch    GPU_mem   box_loss   cls_loss   dfl_loss  Instances       Size\n"
          ]
        },
        {
          "output_type": "stream",
          "name": "stderr",
          "text": [
            "      46/50      12.2G      1.485      1.798      1.071         45        640: 100%|██████████| 125/125 [02:38<00:00,  1.27s/it]\n",
            "                 Class     Images  Instances      Box(P          R      mAP50  mAP50-95): 100%|██████████| 6/6 [00:06<00:00,  1.03s/it]"
          ]
        },
        {
          "output_type": "stream",
          "name": "stdout",
          "text": [
            "                   all        180        434      0.733      0.551      0.646      0.403\n"
          ]
        },
        {
          "output_type": "stream",
          "name": "stderr",
          "text": [
            "\n"
          ]
        },
        {
          "output_type": "stream",
          "name": "stdout",
          "text": [
            "\n",
            "      Epoch    GPU_mem   box_loss   cls_loss   dfl_loss  Instances       Size\n"
          ]
        },
        {
          "output_type": "stream",
          "name": "stderr",
          "text": [
            "      47/50      12.5G      1.451      1.759      1.054         13        640: 100%|██████████| 125/125 [02:38<00:00,  1.27s/it]\n",
            "                 Class     Images  Instances      Box(P          R      mAP50  mAP50-95): 100%|██████████| 6/6 [00:06<00:00,  1.01s/it]"
          ]
        },
        {
          "output_type": "stream",
          "name": "stdout",
          "text": [
            "                   all        180        434      0.642      0.583      0.648        0.4\n"
          ]
        },
        {
          "output_type": "stream",
          "name": "stderr",
          "text": [
            "\n"
          ]
        },
        {
          "output_type": "stream",
          "name": "stdout",
          "text": [
            "\n",
            "      Epoch    GPU_mem   box_loss   cls_loss   dfl_loss  Instances       Size\n"
          ]
        },
        {
          "output_type": "stream",
          "name": "stderr",
          "text": [
            "      48/50      12.5G      1.488      1.666      1.065         24        640: 100%|██████████| 125/125 [02:39<00:00,  1.27s/it]\n",
            "                 Class     Images  Instances      Box(P          R      mAP50  mAP50-95): 100%|██████████| 6/6 [00:06<00:00,  1.05s/it]"
          ]
        },
        {
          "output_type": "stream",
          "name": "stdout",
          "text": [
            "                   all        180        434      0.614      0.606      0.633      0.391\n"
          ]
        },
        {
          "output_type": "stream",
          "name": "stderr",
          "text": [
            "\n"
          ]
        },
        {
          "output_type": "stream",
          "name": "stdout",
          "text": [
            "\n",
            "      Epoch    GPU_mem   box_loss   cls_loss   dfl_loss  Instances       Size\n"
          ]
        },
        {
          "output_type": "stream",
          "name": "stderr",
          "text": [
            "      49/50      12.5G      1.442      1.658       1.06        111        640: 100%|██████████| 125/125 [02:38<00:00,  1.27s/it]\n",
            "                 Class     Images  Instances      Box(P          R      mAP50  mAP50-95): 100%|██████████| 6/6 [00:05<00:00,  1.03it/s]"
          ]
        },
        {
          "output_type": "stream",
          "name": "stdout",
          "text": [
            "                   all        180        434      0.657       0.56      0.639      0.404\n"
          ]
        },
        {
          "output_type": "stream",
          "name": "stderr",
          "text": [
            "\n"
          ]
        },
        {
          "output_type": "stream",
          "name": "stdout",
          "text": [
            "\n",
            "      Epoch    GPU_mem   box_loss   cls_loss   dfl_loss  Instances       Size\n"
          ]
        },
        {
          "output_type": "stream",
          "name": "stderr",
          "text": [
            "      50/50      12.2G       1.47      1.667      1.063         27        640: 100%|██████████| 125/125 [02:38<00:00,  1.27s/it]\n",
            "                 Class     Images  Instances      Box(P          R      mAP50  mAP50-95): 100%|██████████| 6/6 [00:06<00:00,  1.02s/it]"
          ]
        },
        {
          "output_type": "stream",
          "name": "stdout",
          "text": [
            "                   all        180        434       0.66      0.585      0.655      0.412\n"
          ]
        },
        {
          "output_type": "stream",
          "name": "stderr",
          "text": [
            "\n"
          ]
        },
        {
          "output_type": "stream",
          "name": "stdout",
          "text": [
            "\n",
            "50 epochs completed in 2.501 hours.\n",
            "Optimizer stripped from runs/detect/train2/weights/last.pt, 136.7MB\n",
            "Optimizer stripped from runs/detect/train2/weights/best.pt, 136.7MB\n",
            "\n",
            "Validating runs/detect/train2/weights/best.pt...\n",
            "Ultralytics 8.3.140 🚀 Python-3.11.12 torch-2.6.0+cu124 CUDA:0 (Tesla T4, 15095MiB)\n",
            "Model summary (fused): 112 layers, 68,125,494 parameters, 0 gradients, 257.4 GFLOPs\n"
          ]
        },
        {
          "output_type": "stream",
          "name": "stderr",
          "text": [
            "                 Class     Images  Instances      Box(P          R      mAP50  mAP50-95): 100%|██████████| 6/6 [00:06<00:00,  1.08s/it]\n"
          ]
        },
        {
          "output_type": "stream",
          "name": "stdout",
          "text": [
            "                   all        180        434      0.703      0.571      0.668      0.429\n",
            "                 olive         72        434      0.703      0.571      0.668      0.429\n",
            "Speed: 0.2ms preprocess, 28.2ms inference, 0.0ms loss, 2.6ms postprocess per image\n",
            "Results saved to \u001b[1mruns/detect/train2\u001b[0m\n"
          ]
        },
        {
          "output_type": "execute_result",
          "data": {
            "text/plain": [
              "ultralytics.utils.metrics.DetMetrics object with attributes:\n",
              "\n",
              "ap_class_index: array([0])\n",
              "box: ultralytics.utils.metrics.Metric object\n",
              "confusion_matrix: <ultralytics.utils.metrics.ConfusionMatrix object at 0x78b6fbf911d0>\n",
              "curves: ['Precision-Recall(B)', 'F1-Confidence(B)', 'Precision-Confidence(B)', 'Recall-Confidence(B)']\n",
              "curves_results: [[array([          0,    0.001001,    0.002002,    0.003003,    0.004004,    0.005005,    0.006006,    0.007007,    0.008008,    0.009009,     0.01001,    0.011011,    0.012012,    0.013013,    0.014014,    0.015015,    0.016016,    0.017017,    0.018018,    0.019019,     0.02002,    0.021021,    0.022022,    0.023023,\n",
              "          0.024024,    0.025025,    0.026026,    0.027027,    0.028028,    0.029029,     0.03003,    0.031031,    0.032032,    0.033033,    0.034034,    0.035035,    0.036036,    0.037037,    0.038038,    0.039039,     0.04004,    0.041041,    0.042042,    0.043043,    0.044044,    0.045045,    0.046046,    0.047047,\n",
              "          0.048048,    0.049049,     0.05005,    0.051051,    0.052052,    0.053053,    0.054054,    0.055055,    0.056056,    0.057057,    0.058058,    0.059059,     0.06006,    0.061061,    0.062062,    0.063063,    0.064064,    0.065065,    0.066066,    0.067067,    0.068068,    0.069069,     0.07007,    0.071071,\n",
              "          0.072072,    0.073073,    0.074074,    0.075075,    0.076076,    0.077077,    0.078078,    0.079079,     0.08008,    0.081081,    0.082082,    0.083083,    0.084084,    0.085085,    0.086086,    0.087087,    0.088088,    0.089089,     0.09009,    0.091091,    0.092092,    0.093093,    0.094094,    0.095095,\n",
              "          0.096096,    0.097097,    0.098098,    0.099099,      0.1001,      0.1011,      0.1021,      0.1031,      0.1041,     0.10511,     0.10611,     0.10711,     0.10811,     0.10911,     0.11011,     0.11111,     0.11211,     0.11311,     0.11411,     0.11512,     0.11612,     0.11712,     0.11812,     0.11912,\n",
              "           0.12012,     0.12112,     0.12212,     0.12312,     0.12412,     0.12513,     0.12613,     0.12713,     0.12813,     0.12913,     0.13013,     0.13113,     0.13213,     0.13313,     0.13413,     0.13514,     0.13614,     0.13714,     0.13814,     0.13914,     0.14014,     0.14114,     0.14214,     0.14314,\n",
              "           0.14414,     0.14515,     0.14615,     0.14715,     0.14815,     0.14915,     0.15015,     0.15115,     0.15215,     0.15315,     0.15415,     0.15516,     0.15616,     0.15716,     0.15816,     0.15916,     0.16016,     0.16116,     0.16216,     0.16316,     0.16416,     0.16517,     0.16617,     0.16717,\n",
              "           0.16817,     0.16917,     0.17017,     0.17117,     0.17217,     0.17317,     0.17417,     0.17518,     0.17618,     0.17718,     0.17818,     0.17918,     0.18018,     0.18118,     0.18218,     0.18318,     0.18418,     0.18519,     0.18619,     0.18719,     0.18819,     0.18919,     0.19019,     0.19119,\n",
              "           0.19219,     0.19319,     0.19419,      0.1952,      0.1962,      0.1972,      0.1982,      0.1992,      0.2002,      0.2012,      0.2022,      0.2032,      0.2042,     0.20521,     0.20621,     0.20721,     0.20821,     0.20921,     0.21021,     0.21121,     0.21221,     0.21321,     0.21421,     0.21522,\n",
              "           0.21622,     0.21722,     0.21822,     0.21922,     0.22022,     0.22122,     0.22222,     0.22322,     0.22422,     0.22523,     0.22623,     0.22723,     0.22823,     0.22923,     0.23023,     0.23123,     0.23223,     0.23323,     0.23423,     0.23524,     0.23624,     0.23724,     0.23824,     0.23924,\n",
              "           0.24024,     0.24124,     0.24224,     0.24324,     0.24424,     0.24525,     0.24625,     0.24725,     0.24825,     0.24925,     0.25025,     0.25125,     0.25225,     0.25325,     0.25425,     0.25526,     0.25626,     0.25726,     0.25826,     0.25926,     0.26026,     0.26126,     0.26226,     0.26326,\n",
              "           0.26426,     0.26527,     0.26627,     0.26727,     0.26827,     0.26927,     0.27027,     0.27127,     0.27227,     0.27327,     0.27427,     0.27528,     0.27628,     0.27728,     0.27828,     0.27928,     0.28028,     0.28128,     0.28228,     0.28328,     0.28428,     0.28529,     0.28629,     0.28729,\n",
              "           0.28829,     0.28929,     0.29029,     0.29129,     0.29229,     0.29329,     0.29429,      0.2953,      0.2963,      0.2973,      0.2983,      0.2993,      0.3003,      0.3013,      0.3023,      0.3033,      0.3043,     0.30531,     0.30631,     0.30731,     0.30831,     0.30931,     0.31031,     0.31131,\n",
              "           0.31231,     0.31331,     0.31431,     0.31532,     0.31632,     0.31732,     0.31832,     0.31932,     0.32032,     0.32132,     0.32232,     0.32332,     0.32432,     0.32533,     0.32633,     0.32733,     0.32833,     0.32933,     0.33033,     0.33133,     0.33233,     0.33333,     0.33433,     0.33534,\n",
              "           0.33634,     0.33734,     0.33834,     0.33934,     0.34034,     0.34134,     0.34234,     0.34334,     0.34434,     0.34535,     0.34635,     0.34735,     0.34835,     0.34935,     0.35035,     0.35135,     0.35235,     0.35335,     0.35435,     0.35536,     0.35636,     0.35736,     0.35836,     0.35936,\n",
              "           0.36036,     0.36136,     0.36236,     0.36336,     0.36436,     0.36537,     0.36637,     0.36737,     0.36837,     0.36937,     0.37037,     0.37137,     0.37237,     0.37337,     0.37437,     0.37538,     0.37638,     0.37738,     0.37838,     0.37938,     0.38038,     0.38138,     0.38238,     0.38338,\n",
              "           0.38438,     0.38539,     0.38639,     0.38739,     0.38839,     0.38939,     0.39039,     0.39139,     0.39239,     0.39339,     0.39439,      0.3954,      0.3964,      0.3974,      0.3984,      0.3994,      0.4004,      0.4014,      0.4024,      0.4034,      0.4044,     0.40541,     0.40641,     0.40741,\n",
              "           0.40841,     0.40941,     0.41041,     0.41141,     0.41241,     0.41341,     0.41441,     0.41542,     0.41642,     0.41742,     0.41842,     0.41942,     0.42042,     0.42142,     0.42242,     0.42342,     0.42442,     0.42543,     0.42643,     0.42743,     0.42843,     0.42943,     0.43043,     0.43143,\n",
              "           0.43243,     0.43343,     0.43443,     0.43544,     0.43644,     0.43744,     0.43844,     0.43944,     0.44044,     0.44144,     0.44244,     0.44344,     0.44444,     0.44545,     0.44645,     0.44745,     0.44845,     0.44945,     0.45045,     0.45145,     0.45245,     0.45345,     0.45445,     0.45546,\n",
              "           0.45646,     0.45746,     0.45846,     0.45946,     0.46046,     0.46146,     0.46246,     0.46346,     0.46446,     0.46547,     0.46647,     0.46747,     0.46847,     0.46947,     0.47047,     0.47147,     0.47247,     0.47347,     0.47447,     0.47548,     0.47648,     0.47748,     0.47848,     0.47948,\n",
              "           0.48048,     0.48148,     0.48248,     0.48348,     0.48448,     0.48549,     0.48649,     0.48749,     0.48849,     0.48949,     0.49049,     0.49149,     0.49249,     0.49349,     0.49449,      0.4955,      0.4965,      0.4975,      0.4985,      0.4995,      0.5005,      0.5015,      0.5025,      0.5035,\n",
              "            0.5045,     0.50551,     0.50651,     0.50751,     0.50851,     0.50951,     0.51051,     0.51151,     0.51251,     0.51351,     0.51451,     0.51552,     0.51652,     0.51752,     0.51852,     0.51952,     0.52052,     0.52152,     0.52252,     0.52352,     0.52452,     0.52553,     0.52653,     0.52753,\n",
              "           0.52853,     0.52953,     0.53053,     0.53153,     0.53253,     0.53353,     0.53453,     0.53554,     0.53654,     0.53754,     0.53854,     0.53954,     0.54054,     0.54154,     0.54254,     0.54354,     0.54454,     0.54555,     0.54655,     0.54755,     0.54855,     0.54955,     0.55055,     0.55155,\n",
              "           0.55255,     0.55355,     0.55455,     0.55556,     0.55656,     0.55756,     0.55856,     0.55956,     0.56056,     0.56156,     0.56256,     0.56356,     0.56456,     0.56557,     0.56657,     0.56757,     0.56857,     0.56957,     0.57057,     0.57157,     0.57257,     0.57357,     0.57457,     0.57558,\n",
              "           0.57658,     0.57758,     0.57858,     0.57958,     0.58058,     0.58158,     0.58258,     0.58358,     0.58458,     0.58559,     0.58659,     0.58759,     0.58859,     0.58959,     0.59059,     0.59159,     0.59259,     0.59359,     0.59459,      0.5956,      0.5966,      0.5976,      0.5986,      0.5996,\n",
              "            0.6006,      0.6016,      0.6026,      0.6036,      0.6046,     0.60561,     0.60661,     0.60761,     0.60861,     0.60961,     0.61061,     0.61161,     0.61261,     0.61361,     0.61461,     0.61562,     0.61662,     0.61762,     0.61862,     0.61962,     0.62062,     0.62162,     0.62262,     0.62362,\n",
              "           0.62462,     0.62563,     0.62663,     0.62763,     0.62863,     0.62963,     0.63063,     0.63163,     0.63263,     0.63363,     0.63463,     0.63564,     0.63664,     0.63764,     0.63864,     0.63964,     0.64064,     0.64164,     0.64264,     0.64364,     0.64464,     0.64565,     0.64665,     0.64765,\n",
              "           0.64865,     0.64965,     0.65065,     0.65165,     0.65265,     0.65365,     0.65465,     0.65566,     0.65666,     0.65766,     0.65866,     0.65966,     0.66066,     0.66166,     0.66266,     0.66366,     0.66466,     0.66567,     0.66667,     0.66767,     0.66867,     0.66967,     0.67067,     0.67167,\n",
              "           0.67267,     0.67367,     0.67467,     0.67568,     0.67668,     0.67768,     0.67868,     0.67968,     0.68068,     0.68168,     0.68268,     0.68368,     0.68468,     0.68569,     0.68669,     0.68769,     0.68869,     0.68969,     0.69069,     0.69169,     0.69269,     0.69369,     0.69469,      0.6957,\n",
              "            0.6967,      0.6977,      0.6987,      0.6997,      0.7007,      0.7017,      0.7027,      0.7037,      0.7047,     0.70571,     0.70671,     0.70771,     0.70871,     0.70971,     0.71071,     0.71171,     0.71271,     0.71371,     0.71471,     0.71572,     0.71672,     0.71772,     0.71872,     0.71972,\n",
              "           0.72072,     0.72172,     0.72272,     0.72372,     0.72472,     0.72573,     0.72673,     0.72773,     0.72873,     0.72973,     0.73073,     0.73173,     0.73273,     0.73373,     0.73473,     0.73574,     0.73674,     0.73774,     0.73874,     0.73974,     0.74074,     0.74174,     0.74274,     0.74374,\n",
              "           0.74474,     0.74575,     0.74675,     0.74775,     0.74875,     0.74975,     0.75075,     0.75175,     0.75275,     0.75375,     0.75475,     0.75576,     0.75676,     0.75776,     0.75876,     0.75976,     0.76076,     0.76176,     0.76276,     0.76376,     0.76476,     0.76577,     0.76677,     0.76777,\n",
              "           0.76877,     0.76977,     0.77077,     0.77177,     0.77277,     0.77377,     0.77477,     0.77578,     0.77678,     0.77778,     0.77878,     0.77978,     0.78078,     0.78178,     0.78278,     0.78378,     0.78478,     0.78579,     0.78679,     0.78779,     0.78879,     0.78979,     0.79079,     0.79179,\n",
              "           0.79279,     0.79379,     0.79479,      0.7958,      0.7968,      0.7978,      0.7988,      0.7998,      0.8008,      0.8018,      0.8028,      0.8038,      0.8048,     0.80581,     0.80681,     0.80781,     0.80881,     0.80981,     0.81081,     0.81181,     0.81281,     0.81381,     0.81481,     0.81582,\n",
              "           0.81682,     0.81782,     0.81882,     0.81982,     0.82082,     0.82182,     0.82282,     0.82382,     0.82482,     0.82583,     0.82683,     0.82783,     0.82883,     0.82983,     0.83083,     0.83183,     0.83283,     0.83383,     0.83483,     0.83584,     0.83684,     0.83784,     0.83884,     0.83984,\n",
              "           0.84084,     0.84184,     0.84284,     0.84384,     0.84484,     0.84585,     0.84685,     0.84785,     0.84885,     0.84985,     0.85085,     0.85185,     0.85285,     0.85385,     0.85485,     0.85586,     0.85686,     0.85786,     0.85886,     0.85986,     0.86086,     0.86186,     0.86286,     0.86386,\n",
              "           0.86486,     0.86587,     0.86687,     0.86787,     0.86887,     0.86987,     0.87087,     0.87187,     0.87287,     0.87387,     0.87487,     0.87588,     0.87688,     0.87788,     0.87888,     0.87988,     0.88088,     0.88188,     0.88288,     0.88388,     0.88488,     0.88589,     0.88689,     0.88789,\n",
              "           0.88889,     0.88989,     0.89089,     0.89189,     0.89289,     0.89389,     0.89489,      0.8959,      0.8969,      0.8979,      0.8989,      0.8999,      0.9009,      0.9019,      0.9029,      0.9039,      0.9049,     0.90591,     0.90691,     0.90791,     0.90891,     0.90991,     0.91091,     0.91191,\n",
              "           0.91291,     0.91391,     0.91491,     0.91592,     0.91692,     0.91792,     0.91892,     0.91992,     0.92092,     0.92192,     0.92292,     0.92392,     0.92492,     0.92593,     0.92693,     0.92793,     0.92893,     0.92993,     0.93093,     0.93193,     0.93293,     0.93393,     0.93493,     0.93594,\n",
              "           0.93694,     0.93794,     0.93894,     0.93994,     0.94094,     0.94194,     0.94294,     0.94394,     0.94494,     0.94595,     0.94695,     0.94795,     0.94895,     0.94995,     0.95095,     0.95195,     0.95295,     0.95395,     0.95495,     0.95596,     0.95696,     0.95796,     0.95896,     0.95996,\n",
              "           0.96096,     0.96196,     0.96296,     0.96396,     0.96496,     0.96597,     0.96697,     0.96797,     0.96897,     0.96997,     0.97097,     0.97197,     0.97297,     0.97397,     0.97497,     0.97598,     0.97698,     0.97798,     0.97898,     0.97998,     0.98098,     0.98198,     0.98298,     0.98398,\n",
              "           0.98498,     0.98599,     0.98699,     0.98799,     0.98899,     0.98999,     0.99099,     0.99199,     0.99299,     0.99399,     0.99499,       0.996,       0.997,       0.998,       0.999,           1]), array([[          1,           1,           1,           1,           1,           1,           1,           1,           1,           1,           1,           1,           1,           1,           1,           1,           1,           1,           1,           1,           1,           1,           1,\n",
              "                  1,           1,           1,           1,           1,           1,           1,           1,           1,           1,           1,           1,           1,           1,           1,           1,           1,           1,           1,           1,           1,           1,           1,\n",
              "                  1,           1,           1,           1,           1,           1,           1,           1,           1,           1,           1,           1,           1,           1,           1,           1,           1,           1,           1,           1,           1,           1,           1,\n",
              "                  1,           1,           1,           1,           1,           1,           1,           1,           1,           1,           1,           1,           1,           1,           1,           1,           1,           1,           1,           1,           1,           1,           1,\n",
              "                  1,           1,           1,           1,           1,           1,           1,           1,           1,           1,           1,           1,           1,           1,           1,           1,           1,           1,           1,           1,           1,           1,           1,\n",
              "                  1,           1,           1,           1,           1,           1,           1,           1,           1,           1,           1,           1,     0.96923,     0.96923,     0.96923,     0.96923,     0.96923,     0.96923,     0.96923,     0.96923,     0.96923,     0.96923,     0.96923,\n",
              "            0.96923,     0.96923,     0.96923,     0.96923,     0.96923,     0.96923,     0.96923,     0.96923,      0.9589,      0.9589,      0.9589,      0.9589,      0.9589,      0.9589,      0.9589,      0.9589,      0.9589,      0.9589,      0.9589,      0.9589,      0.9589,      0.9589,      0.9589,\n",
              "             0.9589,     0.94872,     0.94872,     0.94872,     0.94872,     0.94872,     0.94872,     0.94872,     0.94872,     0.94872,      0.9375,      0.9375,     0.93694,     0.93694,     0.93694,     0.93694,     0.93694,     0.93694,     0.93694,     0.93694,     0.93694,     0.93694,     0.93694,\n",
              "            0.93694,     0.93694,     0.93694,     0.93694,     0.93694,     0.93694,     0.93694,     0.93694,     0.93694,     0.93694,     0.93694,     0.93694,     0.93694,     0.93694,     0.93694,     0.93694,     0.93694,     0.93694,     0.93694,     0.93694,     0.93694,     0.93694,     0.93694,\n",
              "            0.93694,     0.93694,     0.93694,     0.93694,     0.93694,     0.93694,     0.93694,     0.93694,     0.93694,     0.93694,     0.93694,     0.93694,     0.93694,     0.93694,     0.93694,     0.93694,     0.93694,     0.93694,     0.93694,     0.93694,     0.93694,     0.93694,     0.93694,\n",
              "            0.93694,     0.93694,     0.93694,     0.93694,     0.93694,     0.93694,     0.93694,     0.93694,     0.93694,     0.93694,     0.93651,     0.93651,     0.93651,     0.93651,     0.93651,     0.93651,     0.93651,     0.93651,     0.93651,     0.93651,     0.93651,     0.93651,     0.93651,\n",
              "            0.93651,     0.93651,     0.93651,     0.93651,     0.93651,     0.93651,     0.93651,     0.93651,     0.93651,     0.93651,     0.93651,     0.93651,     0.93651,     0.93651,     0.93651,     0.93651,     0.93651,     0.93651,     0.93651,     0.93284,     0.93284,     0.93284,     0.93284,\n",
              "            0.93284,     0.93284,     0.93284,     0.93284,     0.93284,     0.93284,     0.93284,     0.93284,     0.93284,     0.93284,     0.93284,     0.93284,     0.92647,     0.92647,     0.92647,     0.92466,     0.92466,     0.92466,     0.92466,     0.92466,     0.92466,     0.92466,     0.92466,\n",
              "            0.92466,     0.92466,     0.92466,     0.92466,     0.92466,     0.92466,     0.92466,     0.92466,     0.92466,     0.92466,     0.92466,     0.92466,     0.92157,     0.92157,     0.92157,     0.92157,     0.92157,     0.92157,     0.92157,     0.92157,     0.92157,     0.92157,     0.92157,\n",
              "            0.92157,     0.92157,     0.92157,     0.91083,     0.91083,     0.91083,     0.91083,     0.91083,     0.90964,     0.90964,     0.90964,     0.90964,     0.90964,     0.90964,     0.90964,     0.90964,     0.90964,     0.90964,     0.90964,     0.90964,     0.90964,     0.90964,     0.90964,\n",
              "            0.90964,     0.90964,     0.90964,     0.89941,     0.89941,     0.89888,     0.89888,     0.89888,     0.89888,     0.89888,     0.89888,     0.89888,     0.89888,     0.89888,     0.89888,     0.89888,     0.89888,     0.89888,     0.89888,     0.89888,     0.89888,     0.89888,     0.89888,\n",
              "            0.89888,     0.89503,     0.89503,     0.89503,     0.89503,     0.88889,     0.88889,     0.88889,     0.88889,     0.88889,     0.88889,     0.88889,     0.88889,     0.88889,     0.88889,     0.88889,     0.88889,     0.88889,     0.88889,     0.88889,     0.88889,     0.88889,     0.88889,\n",
              "            0.88889,     0.88889,     0.88889,     0.88889,     0.88889,     0.88889,     0.88889,     0.88889,     0.88889,     0.88889,     0.88889,     0.88889,     0.88889,     0.88889,     0.88889,       0.885,       0.885,     0.87558,     0.87558,     0.87558,     0.87558,     0.87558,     0.87558,\n",
              "            0.87558,     0.87558,     0.87558,     0.87558,     0.87558,     0.87558,     0.87558,     0.87558,     0.87558,     0.87558,     0.87558,     0.87558,     0.87558,     0.87558,     0.87558,     0.87558,     0.87558,     0.87558,     0.87558,     0.87558,     0.87558,     0.87558,     0.87558,\n",
              "            0.87558,     0.87215,     0.87215,     0.86878,     0.86878,     0.85778,     0.85778,     0.85778,     0.85153,     0.85153,     0.85153,     0.85153,     0.84483,     0.84483,     0.84483,     0.84322,     0.84322,     0.84322,     0.84322,     0.84322,     0.84322,     0.84322,       0.841,\n",
              "              0.841,       0.841,       0.841,     0.83471,     0.83471,     0.82927,     0.82927,     0.82927,     0.82927,     0.82927,     0.82661,     0.82661,       0.824,       0.824,       0.824,     0.82213,     0.82213,     0.82213,     0.82213,     0.81961,     0.81961,     0.81961,     0.81154,\n",
              "            0.81154,     0.81154,     0.81154,     0.81132,     0.81132,     0.81132,     0.81132,     0.81132,     0.81132,     0.81132,     0.81132,     0.81132,     0.80899,     0.80899,     0.80899,     0.80669,     0.80669,     0.79273,     0.79273,     0.78853,     0.78853,     0.78853,     0.78853,\n",
              "            0.78853,     0.78369,     0.78369,     0.78246,     0.78246,     0.78246,     0.78246,     0.78246,      0.7774,      0.7774,      0.7774,      0.7774,      0.7774,      0.7774,      0.7774,      0.7774,      0.7774,     0.77551,     0.77551,     0.76589,     0.76589,     0.76589,     0.76412,\n",
              "            0.76412,     0.76316,     0.76316,     0.76316,     0.76316,     0.76316,     0.75806,     0.75806,     0.75806,     0.75806,     0.75806,     0.75806,     0.75641,     0.75641,     0.75641,     0.75478,     0.75478,     0.75079,     0.75079,     0.74455,     0.74455,     0.74455,      0.7378,\n",
              "             0.7378,      0.7378,      0.7378,      0.7378,      0.7378,      0.7378,     0.73636,     0.73636,       0.727,       0.727,       0.727,       0.727,     0.72566,     0.72566,     0.72566,     0.72434,     0.72434,     0.70455,     0.70455,     0.69444,     0.69444,     0.69444,     0.69444,\n",
              "            0.69444,     0.69041,     0.69041,     0.69041,     0.69041,     0.69041,     0.68937,     0.68937,     0.68649,     0.68649,     0.68365,     0.68365,     0.68267,     0.68267,     0.68267,     0.67277,     0.67277,     0.67098,     0.67098,     0.67098,     0.67098,     0.67098,     0.66667,\n",
              "            0.66667,     0.66162,     0.66162,     0.66162,     0.66162,     0.66162,      0.6608,      0.6608,     0.65509,     0.65509,     0.65432,     0.65432,     0.65196,     0.65196,     0.65196,     0.64183,     0.64183,     0.63615,     0.63615,     0.63615,     0.63615,     0.63615,     0.63615,\n",
              "            0.63615,     0.63615,     0.63615,     0.63403,     0.63403,     0.63403,     0.63194,     0.63194,     0.62415,     0.62415,     0.62077,     0.62077,     0.62077,      0.6147,      0.6147,     0.61454,     0.61454,     0.61454,     0.61454,     0.61454,     0.61454,     0.61454,     0.60345,\n",
              "            0.60345,     0.59787,     0.59787,     0.59664,     0.59664,     0.59664,     0.59664,     0.59664,     0.59664,     0.59664,     0.59583,     0.59583,     0.59583,     0.59583,     0.59583,     0.58932,     0.58932,     0.58418,     0.58418,     0.58384,     0.58384,     0.58384,     0.57884,\n",
              "            0.57884,     0.57624,     0.57624,     0.57031,     0.57031,     0.57031,     0.56757,     0.56757,     0.56757,     0.56757,      0.5566,      0.5566,      0.5566,     0.55535,     0.55535,     0.55307,     0.55307,     0.55166,     0.55166,     0.55166,     0.55166,     0.55166,     0.55147,\n",
              "            0.55147,     0.54827,     0.54827,     0.54025,     0.54025,     0.54025,     0.53628,     0.53628,     0.52144,     0.52144,     0.51871,     0.51871,     0.51871,     0.51429,     0.51429,     0.50828,     0.50828,     0.50825,     0.50825,     0.50822,     0.50822,     0.50822,     0.49444,\n",
              "            0.49444,     0.49444,     0.49444,     0.49062,     0.49062,     0.49062,     0.49062,     0.49062,     0.49062,     0.49062,     0.48837,     0.48837,     0.48837,     0.48541,     0.48541,     0.48328,     0.48328,     0.48328,     0.48328,     0.48115,     0.48115,     0.48115,     0.46715,\n",
              "            0.46715,     0.46254,     0.46254,     0.45674,     0.45674,     0.45674,     0.45429,     0.45429,     0.44904,     0.44904,     0.44904,     0.44904,     0.44904,     0.44904,     0.44904,     0.44309,     0.44309,     0.43559,     0.43559,     0.43559,     0.43063,     0.43063,     0.42857,\n",
              "            0.42857,     0.42564,     0.42564,     0.42564,     0.42564,     0.42564,     0.41782,     0.41782,     0.40881,     0.40881,      0.4012,      0.4012,      0.4012,     0.39669,     0.39669,     0.39236,     0.39236,     0.39236,     0.39236,     0.39236,     0.39236,     0.39236,      0.3868,\n",
              "             0.3868,       0.386,       0.386,       0.386,       0.386,       0.386,     0.37984,     0.37984,     0.37678,     0.37678,     0.37664,     0.37664,     0.37664,     0.37609,     0.37609,     0.36915,     0.36915,     0.36054,     0.36054,     0.36054,     0.36054,     0.36054,     0.36008,\n",
              "            0.36008,     0.35065,     0.35065,     0.32897,     0.32897,     0.32897,     0.31773,     0.31773,     0.31411,     0.31411,     0.31004,     0.31004,     0.31004,     0.28031,     0.28031,     0.27128,     0.27128,     0.26538,     0.26538,     0.26538,     0.25921,     0.25921,     0.25862,\n",
              "            0.25862,     0.25423,     0.25423,     0.25156,     0.25156,     0.25156,     0.25086,     0.25086,     0.25052,     0.25052,     0.24579,     0.24579,     0.24579,      0.2372,      0.2372,     0.23693,     0.23693,      0.2365,      0.2365,      0.2365,     0.21305,     0.21305,     0.20556,\n",
              "            0.20556,      0.1963,      0.1963,     0.19569,     0.19569,     0.19569,     0.19367,     0.19367,     0.18994,     0.18994,      0.1892,      0.1892,      0.1892,     0.18828,     0.18828,     0.17584,     0.17584,     0.15242,     0.15242,     0.15242,     0.14422,     0.14422,      0.1441,\n",
              "             0.1441,     0.14259,     0.14259,     0.14259,     0.13886,     0.13886,     0.13615,     0.13615,     0.13469,     0.13469,     0.13235,     0.13235,     0.13235,     0.11669,     0.11669,     0.11559,     0.11559,     0.11315,     0.11315,     0.11315,     0.10626,     0.10626,    0.098634,\n",
              "           0.098634,    0.096022,    0.096022,    0.096022,    0.090993,    0.090993,    0.090993,    0.090993,    0.083741,    0.083741,    0.067579,    0.067579,    0.067579,    0.062559,    0.062559,    0.062559,    0.062559,    0.058633,    0.058633,    0.058633,    0.056894,    0.056894,     0.05614,\n",
              "            0.05614,    0.052902,    0.052902,    0.052902,    0.050452,    0.050452,    0.047862,    0.047862,    0.040267,    0.040267,    0.034725,    0.034725,    0.034725,    0.034213,    0.034213,    0.034205,    0.034205,     0.03188,    0.031365,    0.030851,    0.030337,    0.029823,    0.029309,\n",
              "           0.028795,     0.02828,    0.027766,    0.027252,    0.026738,    0.026224,    0.025709,    0.025195,    0.024681,    0.024167,    0.023653,    0.023138,    0.022624,     0.02211,    0.021596,    0.021082,    0.020568,    0.020053,    0.019539,    0.019025,    0.018511,    0.017997,    0.017482,\n",
              "           0.016968,    0.016454,     0.01594,    0.015426,    0.014911,    0.014397,    0.013883,    0.013369,    0.012855,    0.012341,    0.011826,    0.011312,    0.010798,    0.010284,   0.0097696,   0.0092554,   0.0087412,    0.008227,   0.0077128,   0.0071986,   0.0066844,   0.0061703,   0.0056561,\n",
              "          0.0051419,   0.0046277,   0.0041135,   0.0035993,   0.0030851,   0.0025709,   0.0020568,   0.0015426,   0.0010284,  0.00051419,           0]]), 'Recall', 'Precision'], [array([          0,    0.001001,    0.002002,    0.003003,    0.004004,    0.005005,    0.006006,    0.007007,    0.008008,    0.009009,     0.01001,    0.011011,    0.012012,    0.013013,    0.014014,    0.015015,    0.016016,    0.017017,    0.018018,    0.019019,     0.02002,    0.021021,    0.022022,    0.023023,\n",
              "          0.024024,    0.025025,    0.026026,    0.027027,    0.028028,    0.029029,     0.03003,    0.031031,    0.032032,    0.033033,    0.034034,    0.035035,    0.036036,    0.037037,    0.038038,    0.039039,     0.04004,    0.041041,    0.042042,    0.043043,    0.044044,    0.045045,    0.046046,    0.047047,\n",
              "          0.048048,    0.049049,     0.05005,    0.051051,    0.052052,    0.053053,    0.054054,    0.055055,    0.056056,    0.057057,    0.058058,    0.059059,     0.06006,    0.061061,    0.062062,    0.063063,    0.064064,    0.065065,    0.066066,    0.067067,    0.068068,    0.069069,     0.07007,    0.071071,\n",
              "          0.072072,    0.073073,    0.074074,    0.075075,    0.076076,    0.077077,    0.078078,    0.079079,     0.08008,    0.081081,    0.082082,    0.083083,    0.084084,    0.085085,    0.086086,    0.087087,    0.088088,    0.089089,     0.09009,    0.091091,    0.092092,    0.093093,    0.094094,    0.095095,\n",
              "          0.096096,    0.097097,    0.098098,    0.099099,      0.1001,      0.1011,      0.1021,      0.1031,      0.1041,     0.10511,     0.10611,     0.10711,     0.10811,     0.10911,     0.11011,     0.11111,     0.11211,     0.11311,     0.11411,     0.11512,     0.11612,     0.11712,     0.11812,     0.11912,\n",
              "           0.12012,     0.12112,     0.12212,     0.12312,     0.12412,     0.12513,     0.12613,     0.12713,     0.12813,     0.12913,     0.13013,     0.13113,     0.13213,     0.13313,     0.13413,     0.13514,     0.13614,     0.13714,     0.13814,     0.13914,     0.14014,     0.14114,     0.14214,     0.14314,\n",
              "           0.14414,     0.14515,     0.14615,     0.14715,     0.14815,     0.14915,     0.15015,     0.15115,     0.15215,     0.15315,     0.15415,     0.15516,     0.15616,     0.15716,     0.15816,     0.15916,     0.16016,     0.16116,     0.16216,     0.16316,     0.16416,     0.16517,     0.16617,     0.16717,\n",
              "           0.16817,     0.16917,     0.17017,     0.17117,     0.17217,     0.17317,     0.17417,     0.17518,     0.17618,     0.17718,     0.17818,     0.17918,     0.18018,     0.18118,     0.18218,     0.18318,     0.18418,     0.18519,     0.18619,     0.18719,     0.18819,     0.18919,     0.19019,     0.19119,\n",
              "           0.19219,     0.19319,     0.19419,      0.1952,      0.1962,      0.1972,      0.1982,      0.1992,      0.2002,      0.2012,      0.2022,      0.2032,      0.2042,     0.20521,     0.20621,     0.20721,     0.20821,     0.20921,     0.21021,     0.21121,     0.21221,     0.21321,     0.21421,     0.21522,\n",
              "           0.21622,     0.21722,     0.21822,     0.21922,     0.22022,     0.22122,     0.22222,     0.22322,     0.22422,     0.22523,     0.22623,     0.22723,     0.22823,     0.22923,     0.23023,     0.23123,     0.23223,     0.23323,     0.23423,     0.23524,     0.23624,     0.23724,     0.23824,     0.23924,\n",
              "           0.24024,     0.24124,     0.24224,     0.24324,     0.24424,     0.24525,     0.24625,     0.24725,     0.24825,     0.24925,     0.25025,     0.25125,     0.25225,     0.25325,     0.25425,     0.25526,     0.25626,     0.25726,     0.25826,     0.25926,     0.26026,     0.26126,     0.26226,     0.26326,\n",
              "           0.26426,     0.26527,     0.26627,     0.26727,     0.26827,     0.26927,     0.27027,     0.27127,     0.27227,     0.27327,     0.27427,     0.27528,     0.27628,     0.27728,     0.27828,     0.27928,     0.28028,     0.28128,     0.28228,     0.28328,     0.28428,     0.28529,     0.28629,     0.28729,\n",
              "           0.28829,     0.28929,     0.29029,     0.29129,     0.29229,     0.29329,     0.29429,      0.2953,      0.2963,      0.2973,      0.2983,      0.2993,      0.3003,      0.3013,      0.3023,      0.3033,      0.3043,     0.30531,     0.30631,     0.30731,     0.30831,     0.30931,     0.31031,     0.31131,\n",
              "           0.31231,     0.31331,     0.31431,     0.31532,     0.31632,     0.31732,     0.31832,     0.31932,     0.32032,     0.32132,     0.32232,     0.32332,     0.32432,     0.32533,     0.32633,     0.32733,     0.32833,     0.32933,     0.33033,     0.33133,     0.33233,     0.33333,     0.33433,     0.33534,\n",
              "           0.33634,     0.33734,     0.33834,     0.33934,     0.34034,     0.34134,     0.34234,     0.34334,     0.34434,     0.34535,     0.34635,     0.34735,     0.34835,     0.34935,     0.35035,     0.35135,     0.35235,     0.35335,     0.35435,     0.35536,     0.35636,     0.35736,     0.35836,     0.35936,\n",
              "           0.36036,     0.36136,     0.36236,     0.36336,     0.36436,     0.36537,     0.36637,     0.36737,     0.36837,     0.36937,     0.37037,     0.37137,     0.37237,     0.37337,     0.37437,     0.37538,     0.37638,     0.37738,     0.37838,     0.37938,     0.38038,     0.38138,     0.38238,     0.38338,\n",
              "           0.38438,     0.38539,     0.38639,     0.38739,     0.38839,     0.38939,     0.39039,     0.39139,     0.39239,     0.39339,     0.39439,      0.3954,      0.3964,      0.3974,      0.3984,      0.3994,      0.4004,      0.4014,      0.4024,      0.4034,      0.4044,     0.40541,     0.40641,     0.40741,\n",
              "           0.40841,     0.40941,     0.41041,     0.41141,     0.41241,     0.41341,     0.41441,     0.41542,     0.41642,     0.41742,     0.41842,     0.41942,     0.42042,     0.42142,     0.42242,     0.42342,     0.42442,     0.42543,     0.42643,     0.42743,     0.42843,     0.42943,     0.43043,     0.43143,\n",
              "           0.43243,     0.43343,     0.43443,     0.43544,     0.43644,     0.43744,     0.43844,     0.43944,     0.44044,     0.44144,     0.44244,     0.44344,     0.44444,     0.44545,     0.44645,     0.44745,     0.44845,     0.44945,     0.45045,     0.45145,     0.45245,     0.45345,     0.45445,     0.45546,\n",
              "           0.45646,     0.45746,     0.45846,     0.45946,     0.46046,     0.46146,     0.46246,     0.46346,     0.46446,     0.46547,     0.46647,     0.46747,     0.46847,     0.46947,     0.47047,     0.47147,     0.47247,     0.47347,     0.47447,     0.47548,     0.47648,     0.47748,     0.47848,     0.47948,\n",
              "           0.48048,     0.48148,     0.48248,     0.48348,     0.48448,     0.48549,     0.48649,     0.48749,     0.48849,     0.48949,     0.49049,     0.49149,     0.49249,     0.49349,     0.49449,      0.4955,      0.4965,      0.4975,      0.4985,      0.4995,      0.5005,      0.5015,      0.5025,      0.5035,\n",
              "            0.5045,     0.50551,     0.50651,     0.50751,     0.50851,     0.50951,     0.51051,     0.51151,     0.51251,     0.51351,     0.51451,     0.51552,     0.51652,     0.51752,     0.51852,     0.51952,     0.52052,     0.52152,     0.52252,     0.52352,     0.52452,     0.52553,     0.52653,     0.52753,\n",
              "           0.52853,     0.52953,     0.53053,     0.53153,     0.53253,     0.53353,     0.53453,     0.53554,     0.53654,     0.53754,     0.53854,     0.53954,     0.54054,     0.54154,     0.54254,     0.54354,     0.54454,     0.54555,     0.54655,     0.54755,     0.54855,     0.54955,     0.55055,     0.55155,\n",
              "           0.55255,     0.55355,     0.55455,     0.55556,     0.55656,     0.55756,     0.55856,     0.55956,     0.56056,     0.56156,     0.56256,     0.56356,     0.56456,     0.56557,     0.56657,     0.56757,     0.56857,     0.56957,     0.57057,     0.57157,     0.57257,     0.57357,     0.57457,     0.57558,\n",
              "           0.57658,     0.57758,     0.57858,     0.57958,     0.58058,     0.58158,     0.58258,     0.58358,     0.58458,     0.58559,     0.58659,     0.58759,     0.58859,     0.58959,     0.59059,     0.59159,     0.59259,     0.59359,     0.59459,      0.5956,      0.5966,      0.5976,      0.5986,      0.5996,\n",
              "            0.6006,      0.6016,      0.6026,      0.6036,      0.6046,     0.60561,     0.60661,     0.60761,     0.60861,     0.60961,     0.61061,     0.61161,     0.61261,     0.61361,     0.61461,     0.61562,     0.61662,     0.61762,     0.61862,     0.61962,     0.62062,     0.62162,     0.62262,     0.62362,\n",
              "           0.62462,     0.62563,     0.62663,     0.62763,     0.62863,     0.62963,     0.63063,     0.63163,     0.63263,     0.63363,     0.63463,     0.63564,     0.63664,     0.63764,     0.63864,     0.63964,     0.64064,     0.64164,     0.64264,     0.64364,     0.64464,     0.64565,     0.64665,     0.64765,\n",
              "           0.64865,     0.64965,     0.65065,     0.65165,     0.65265,     0.65365,     0.65465,     0.65566,     0.65666,     0.65766,     0.65866,     0.65966,     0.66066,     0.66166,     0.66266,     0.66366,     0.66466,     0.66567,     0.66667,     0.66767,     0.66867,     0.66967,     0.67067,     0.67167,\n",
              "           0.67267,     0.67367,     0.67467,     0.67568,     0.67668,     0.67768,     0.67868,     0.67968,     0.68068,     0.68168,     0.68268,     0.68368,     0.68468,     0.68569,     0.68669,     0.68769,     0.68869,     0.68969,     0.69069,     0.69169,     0.69269,     0.69369,     0.69469,      0.6957,\n",
              "            0.6967,      0.6977,      0.6987,      0.6997,      0.7007,      0.7017,      0.7027,      0.7037,      0.7047,     0.70571,     0.70671,     0.70771,     0.70871,     0.70971,     0.71071,     0.71171,     0.71271,     0.71371,     0.71471,     0.71572,     0.71672,     0.71772,     0.71872,     0.71972,\n",
              "           0.72072,     0.72172,     0.72272,     0.72372,     0.72472,     0.72573,     0.72673,     0.72773,     0.72873,     0.72973,     0.73073,     0.73173,     0.73273,     0.73373,     0.73473,     0.73574,     0.73674,     0.73774,     0.73874,     0.73974,     0.74074,     0.74174,     0.74274,     0.74374,\n",
              "           0.74474,     0.74575,     0.74675,     0.74775,     0.74875,     0.74975,     0.75075,     0.75175,     0.75275,     0.75375,     0.75475,     0.75576,     0.75676,     0.75776,     0.75876,     0.75976,     0.76076,     0.76176,     0.76276,     0.76376,     0.76476,     0.76577,     0.76677,     0.76777,\n",
              "           0.76877,     0.76977,     0.77077,     0.77177,     0.77277,     0.77377,     0.77477,     0.77578,     0.77678,     0.77778,     0.77878,     0.77978,     0.78078,     0.78178,     0.78278,     0.78378,     0.78478,     0.78579,     0.78679,     0.78779,     0.78879,     0.78979,     0.79079,     0.79179,\n",
              "           0.79279,     0.79379,     0.79479,      0.7958,      0.7968,      0.7978,      0.7988,      0.7998,      0.8008,      0.8018,      0.8028,      0.8038,      0.8048,     0.80581,     0.80681,     0.80781,     0.80881,     0.80981,     0.81081,     0.81181,     0.81281,     0.81381,     0.81481,     0.81582,\n",
              "           0.81682,     0.81782,     0.81882,     0.81982,     0.82082,     0.82182,     0.82282,     0.82382,     0.82482,     0.82583,     0.82683,     0.82783,     0.82883,     0.82983,     0.83083,     0.83183,     0.83283,     0.83383,     0.83483,     0.83584,     0.83684,     0.83784,     0.83884,     0.83984,\n",
              "           0.84084,     0.84184,     0.84284,     0.84384,     0.84484,     0.84585,     0.84685,     0.84785,     0.84885,     0.84985,     0.85085,     0.85185,     0.85285,     0.85385,     0.85485,     0.85586,     0.85686,     0.85786,     0.85886,     0.85986,     0.86086,     0.86186,     0.86286,     0.86386,\n",
              "           0.86486,     0.86587,     0.86687,     0.86787,     0.86887,     0.86987,     0.87087,     0.87187,     0.87287,     0.87387,     0.87487,     0.87588,     0.87688,     0.87788,     0.87888,     0.87988,     0.88088,     0.88188,     0.88288,     0.88388,     0.88488,     0.88589,     0.88689,     0.88789,\n",
              "           0.88889,     0.88989,     0.89089,     0.89189,     0.89289,     0.89389,     0.89489,      0.8959,      0.8969,      0.8979,      0.8989,      0.8999,      0.9009,      0.9019,      0.9029,      0.9039,      0.9049,     0.90591,     0.90691,     0.90791,     0.90891,     0.90991,     0.91091,     0.91191,\n",
              "           0.91291,     0.91391,     0.91491,     0.91592,     0.91692,     0.91792,     0.91892,     0.91992,     0.92092,     0.92192,     0.92292,     0.92392,     0.92492,     0.92593,     0.92693,     0.92793,     0.92893,     0.92993,     0.93093,     0.93193,     0.93293,     0.93393,     0.93493,     0.93594,\n",
              "           0.93694,     0.93794,     0.93894,     0.93994,     0.94094,     0.94194,     0.94294,     0.94394,     0.94494,     0.94595,     0.94695,     0.94795,     0.94895,     0.94995,     0.95095,     0.95195,     0.95295,     0.95395,     0.95495,     0.95596,     0.95696,     0.95796,     0.95896,     0.95996,\n",
              "           0.96096,     0.96196,     0.96296,     0.96396,     0.96496,     0.96597,     0.96697,     0.96797,     0.96897,     0.96997,     0.97097,     0.97197,     0.97297,     0.97397,     0.97497,     0.97598,     0.97698,     0.97798,     0.97898,     0.97998,     0.98098,     0.98198,     0.98298,     0.98398,\n",
              "           0.98498,     0.98599,     0.98699,     0.98799,     0.98899,     0.98999,     0.99099,     0.99199,     0.99299,     0.99399,     0.99499,       0.996,       0.997,       0.998,       0.999,           1]), array([[   0.061807,    0.061807,     0.13518,     0.19473,      0.2377,       0.274,     0.30397,     0.32525,      0.3467,     0.36612,     0.38055,     0.39185,     0.40227,     0.41608,     0.42671,     0.44542,     0.45342,     0.46151,      0.4716,     0.47863,     0.48649,     0.49203,     0.49718,\n",
              "            0.49945,     0.50451,     0.51083,     0.51258,     0.51713,     0.51756,     0.52107,     0.51991,      0.5251,     0.52687,     0.53168,     0.53462,     0.53892,     0.54147,     0.54468,     0.54502,     0.54806,     0.54877,     0.55207,     0.55742,     0.55778,     0.55976,     0.55963,\n",
              "            0.56013,     0.56253,      0.5652,     0.56615,     0.56801,     0.57107,     0.57388,     0.57587,     0.57928,     0.58205,     0.57988,     0.58193,     0.58206,      0.5826,     0.58357,     0.58293,     0.58371,     0.58358,     0.58433,     0.58555,     0.58761,     0.58856,     0.59199,\n",
              "            0.59158,     0.59107,     0.59093,       0.593,     0.59464,      0.5942,     0.59659,     0.59668,     0.59893,     0.60039,      0.6039,     0.60509,     0.60569,      0.6058,     0.60738,      0.6086,     0.61129,      0.6117,     0.61108,     0.61157,     0.61285,      0.6127,     0.61207,\n",
              "            0.61144,      0.6111,     0.61204,     0.61065,     0.61148,     0.61255,     0.61337,     0.61458,     0.61504,     0.61621,     0.61751,     0.61671,     0.61535,     0.61684,     0.61633,     0.61788,     0.61898,     0.61863,     0.61934,     0.61998,     0.61957,     0.62015,     0.62164,\n",
              "            0.62148,     0.61995,      0.6205,      0.6221,     0.62317,     0.62251,     0.62392,     0.62445,     0.62546,     0.62579,      0.6235,     0.62052,     0.62123,     0.62086,     0.62108,     0.62129,     0.62151,     0.62226,     0.62302,     0.62353,     0.62226,     0.62279,     0.62349,\n",
              "            0.62401,     0.62572,     0.62662,     0.62789,     0.62566,     0.62486,     0.62466,     0.62359,     0.62504,      0.6265,     0.62623,     0.62715,     0.62673,     0.62734,     0.62924,     0.63004,     0.62905,     0.63009,     0.62966,     0.62922,     0.62879,     0.62967,     0.63002,\n",
              "            0.62966,     0.62834,     0.62733,      0.6244,     0.62465,     0.62604,     0.62671,     0.62812,     0.62718,     0.62934,     0.63043,     0.63178,     0.63083,     0.63119,     0.63012,     0.63031,     0.63049,     0.63068,     0.63049,     0.62924,     0.62965,      0.6304,      0.6317,\n",
              "            0.63202,     0.63114,     0.63105,     0.63075,     0.63044,     0.63013,     0.62982,     0.62827,      0.6283,     0.62861,     0.63013,     0.63048,      0.6298,      0.6311,      0.6315,     0.62875,      0.6289,     0.62824,     0.62887,     0.62987,     0.63192,     0.63219,     0.63049,\n",
              "            0.63086,     0.63146,     0.63154,     0.63067,     0.63017,     0.63026,     0.63034,     0.63043,     0.63051,      0.6306,     0.63069,     0.63077,     0.63086,     0.63098,     0.63121,     0.63144,     0.63167,     0.63024,     0.62963,      0.6284,     0.62752,     0.62902,     0.62701,\n",
              "            0.62706,     0.62881,      0.6294,     0.63046,     0.63043,     0.62937,     0.62992,     0.63097,      0.6327,     0.63326,     0.63385,     0.63429,     0.63457,     0.63485,     0.63682,     0.63719,     0.63575,     0.63598,     0.63622,     0.63645,     0.63472,     0.63363,     0.63315,\n",
              "            0.63266,     0.63218,     0.63234,      0.6345,     0.63473,     0.63495,     0.63518,      0.6349,     0.63461,     0.63387,     0.63298,     0.63175,     0.63026,     0.63106,      0.6322,     0.63242,     0.63168,     0.63158,     0.63215,     0.63249,     0.63284,     0.63321,     0.63359,\n",
              "            0.63214,     0.63248,     0.63283,     0.63352,     0.63277,     0.63202,     0.63172,     0.63125,     0.62691,     0.62689,     0.62795,     0.62845,      0.6263,     0.62502,      0.6251,     0.62433,     0.62425,     0.62475,     0.62419,     0.62342,     0.62341,     0.62386,     0.62395,\n",
              "            0.62403,     0.62412,      0.6242,     0.62429,     0.62437,     0.62446,     0.62454,     0.62463,     0.62544,     0.62512,     0.62401,     0.62248,     0.62019,      0.6186,     0.61892,     0.61924,     0.61988,     0.61904,     0.61801,     0.61744,     0.61688,     0.61658,     0.61709,\n",
              "            0.61706,      0.6166,     0.61613,     0.61567,     0.61549,     0.61574,     0.61599,     0.61624,     0.61515,     0.61479,     0.61422,     0.61365,     0.61307,     0.61398,     0.61412,     0.61425,     0.61439,     0.61453,     0.61467,     0.61557,     0.61593,      0.6162,     0.61547,\n",
              "            0.61473,     0.61437,     0.61457,     0.61477,     0.61497,     0.61317,     0.61215,     0.61103,     0.60895,     0.60821,     0.60746,     0.60777,      0.6067,     0.60427,      0.6046,      0.6058,     0.60632,     0.60632,     0.60513,     0.60492,     0.60537,     0.60419,     0.60164,\n",
              "            0.60188,     0.60233,     0.60116,     0.60042,     0.60087,     0.60099,     0.60043,     0.59987,     0.59931,     0.59928,     0.59952,     0.59976,         0.6,     0.59961,     0.59923,     0.59884,     0.59846,     0.59808,     0.59748,     0.59678,     0.59607,     0.59624,     0.59675,\n",
              "            0.59706,     0.59736,     0.59746,     0.59561,     0.59613,      0.5968,     0.59708,     0.59651,     0.59594,     0.59537,     0.59442,     0.59334,     0.59339,     0.59369,       0.594,     0.59333,     0.59255,     0.58938,     0.58781,     0.58826,     0.58829,      0.5872,     0.58743,\n",
              "            0.58767,     0.58791,     0.58816,     0.58677,     0.58412,     0.58435,     0.58457,      0.5848,     0.58537,     0.58491,     0.58444,     0.58398,     0.58455,       0.585,     0.58546,     0.58592,     0.58598,     0.58487,     0.58438,     0.58484,     0.58437,      0.5839,     0.58343,\n",
              "            0.58297,     0.58346,     0.57993,     0.57852,      0.5774,     0.57672,     0.57615,     0.57559,     0.57502,     0.57396,     0.57283,     0.57205,     0.57129,     0.57052,     0.56824,     0.56392,     0.56455,     0.56217,     0.55785,     0.55746,     0.55708,     0.55669,      0.5563,\n",
              "            0.55591,     0.55589,     0.55619,     0.55648,     0.55622,     0.55644,     0.55667,     0.55689,     0.55534,     0.55383,     0.55265,     0.54826,     0.54683,     0.54564,     0.54479,     0.54399,      0.5432,     0.54259,     0.54199,     0.54139,     0.54079,     0.53959,     0.53832,\n",
              "            0.53356,     0.53114,     0.52909,     0.52953,      0.5298,     0.52931,     0.52882,     0.52834,     0.52785,     0.52539,     0.52602,     0.52421,      0.5236,     0.52298,     0.52236,     0.52242,      0.5217,     0.51984,     0.51859,     0.51423,     0.51023,     0.50939,     0.50855,\n",
              "            0.50743,     0.50617,      0.5037,     0.50307,     0.50243,     0.50179,     0.50284,     0.50327,     0.50118,     0.49861,     0.49466,     0.49337,     0.48699,     0.48568,     0.48311,     0.48353,     0.48384,     0.48253,     0.47882,     0.47924,     0.47999,     0.47733,     0.47466,\n",
              "            0.46936,     0.46718,     0.46651,     0.46583,     0.46515,     0.46504,     0.46368,     0.45643,     0.45368,     0.44885,     0.44746,     0.44631,     0.44538,     0.44445,      0.4413,      0.4399,     0.43926,     0.43785,     0.43692,     0.43621,      0.4355,     0.43479,     0.43076,\n",
              "            0.42934,     0.42099,     0.42138,     0.42017,     0.41873,     0.41501,     0.41418,     0.41334,     0.41219,     0.41073,     0.40926,      0.4078,     0.40345,     0.40197,     0.40049,       0.399,     0.39221,     0.39146,     0.39071,     0.38995,     0.38124,      0.3816,     0.38037,\n",
              "            0.37884,     0.37432,     0.37278,     0.37124,      0.3697,     0.36816,     0.36356,     0.36148,      0.3597,     0.35813,     0.35656,     0.35499,     0.35395,     0.35316,     0.35237,     0.35158,     0.34709,      0.3455,     0.33767,     0.33606,     0.33398,     0.33205,     0.33043,\n",
              "            0.32564,     0.32401,     0.31597,     0.31432,     0.31002,     0.30836,     0.30669,     0.30502,     0.30298,     0.30085,     0.29916,     0.29748,     0.29579,     0.29135,     0.29164,     0.28849,     0.28678,     0.28148,     0.27917,     0.27585,     0.27612,     0.27557,     0.27499,\n",
              "            0.27441,     0.27383,     0.27324,     0.27246,     0.27013,     0.26817,      0.2664,     0.26119,     0.25941,     0.25764,     0.25585,     0.25468,     0.25366,     0.25263,      0.2521,     0.25236,     0.25206,     0.25104,     0.25001,     0.24546,     0.24442,     0.24339,     0.24235,\n",
              "            0.24084,     0.23902,     0.23438,     0.23372,     0.23305,     0.23238,     0.23172,     0.22407,     0.22421,     0.22434,     0.22447,     0.22452,     0.22402,     0.22352,     0.22303,     0.22253,     0.22203,     0.22153,     0.21993,     0.21382,     0.21194,     0.20996,     0.20743,\n",
              "            0.20161,      0.1997,      0.1898,     0.18359,     0.18164,     0.17949,     0.17687,     0.17481,     0.17284,     0.17162,     0.17049,     0.16936,     0.16751,     0.15708,     0.15507,     0.15302,     0.15033,      0.1361,     0.13405,     0.13155,     0.12488,      0.1228,     0.12102,\n",
              "            0.12018,     0.11935,     0.11851,     0.11767,     0.11204,     0.10923,    0.098748,    0.096611,    0.095144,    0.093715,    0.092293,    0.091433,    0.090572,    0.089711,    0.088849,    0.087805,    0.085644,    0.083342,    0.080445,    0.073273,    0.070882,    0.070002,    0.069122,\n",
              "           0.068241,    0.067359,    0.061367,    0.058403,    0.056115,    0.053882,    0.053355,    0.052884,    0.052413,    0.051941,    0.051469,    0.050997,    0.050525,    0.050053,     0.04958,    0.042935,    0.035478,    0.032435,    0.030565,    0.029037,    0.027507,    0.026494,    0.025573,\n",
              "           0.024652,     0.02373,    0.022807,    0.021784,    0.020757,    0.019728,    0.018699,    0.016473,     0.01369,    0.013345,       0.013,    0.012654,    0.012309,    0.011963,    0.011617,    0.011271,    0.010925,    0.010579,    0.010233,   0.0098864,   0.0095399,   0.0091933,   0.0086537,\n",
              "          0.0081026,   0.0075512,   0.0069995,   0.0064475,   0.0058952,   0.0053426,   0.0047897,           0,           0,           0,           0,           0,           0,           0,           0,           0,           0,           0,           0,           0,           0,           0,           0,\n",
              "                  0,           0,           0,           0,           0,           0,           0,           0,           0,           0,           0,           0,           0,           0,           0,           0,           0,           0,           0,           0,           0,           0,           0,\n",
              "                  0,           0,           0,           0,           0,           0,           0,           0,           0,           0,           0,           0,           0,           0,           0,           0,           0,           0,           0,           0,           0,           0,           0,\n",
              "                  0,           0,           0,           0,           0,           0,           0,           0,           0,           0,           0,           0,           0,           0,           0,           0,           0,           0,           0,           0,           0,           0,           0,\n",
              "                  0,           0,           0,           0,           0,           0,           0,           0,           0,           0,           0,           0,           0,           0,           0,           0,           0,           0,           0,           0,           0,           0,           0,\n",
              "                  0,           0,           0,           0,           0,           0,           0,           0,           0,           0,           0,           0,           0,           0,           0,           0,           0,           0,           0,           0,           0,           0,           0,\n",
              "                  0,           0,           0,           0,           0,           0,           0,           0,           0,           0,           0,           0,           0,           0,           0,           0,           0,           0,           0,           0,           0,           0,           0,\n",
              "                  0,           0,           0,           0,           0,           0,           0,           0,           0,           0,           0,           0,           0,           0,           0,           0,           0,           0,           0,           0,           0,           0,           0,\n",
              "                  0,           0,           0,           0,           0,           0,           0,           0,           0,           0,           0,           0,           0,           0,           0,           0,           0,           0,           0,           0,           0,           0,           0,\n",
              "                  0,           0,           0,           0,           0,           0,           0,           0,           0,           0,           0,           0,           0,           0,           0,           0,           0,           0,           0,           0,           0,           0,           0,\n",
              "                  0,           0,           0,           0,           0,           0,           0,           0,           0,           0,           0]]), 'Confidence', 'F1'], [array([          0,    0.001001,    0.002002,    0.003003,    0.004004,    0.005005,    0.006006,    0.007007,    0.008008,    0.009009,     0.01001,    0.011011,    0.012012,    0.013013,    0.014014,    0.015015,    0.016016,    0.017017,    0.018018,    0.019019,     0.02002,    0.021021,    0.022022,    0.023023,\n",
              "          0.024024,    0.025025,    0.026026,    0.027027,    0.028028,    0.029029,     0.03003,    0.031031,    0.032032,    0.033033,    0.034034,    0.035035,    0.036036,    0.037037,    0.038038,    0.039039,     0.04004,    0.041041,    0.042042,    0.043043,    0.044044,    0.045045,    0.046046,    0.047047,\n",
              "          0.048048,    0.049049,     0.05005,    0.051051,    0.052052,    0.053053,    0.054054,    0.055055,    0.056056,    0.057057,    0.058058,    0.059059,     0.06006,    0.061061,    0.062062,    0.063063,    0.064064,    0.065065,    0.066066,    0.067067,    0.068068,    0.069069,     0.07007,    0.071071,\n",
              "          0.072072,    0.073073,    0.074074,    0.075075,    0.076076,    0.077077,    0.078078,    0.079079,     0.08008,    0.081081,    0.082082,    0.083083,    0.084084,    0.085085,    0.086086,    0.087087,    0.088088,    0.089089,     0.09009,    0.091091,    0.092092,    0.093093,    0.094094,    0.095095,\n",
              "          0.096096,    0.097097,    0.098098,    0.099099,      0.1001,      0.1011,      0.1021,      0.1031,      0.1041,     0.10511,     0.10611,     0.10711,     0.10811,     0.10911,     0.11011,     0.11111,     0.11211,     0.11311,     0.11411,     0.11512,     0.11612,     0.11712,     0.11812,     0.11912,\n",
              "           0.12012,     0.12112,     0.12212,     0.12312,     0.12412,     0.12513,     0.12613,     0.12713,     0.12813,     0.12913,     0.13013,     0.13113,     0.13213,     0.13313,     0.13413,     0.13514,     0.13614,     0.13714,     0.13814,     0.13914,     0.14014,     0.14114,     0.14214,     0.14314,\n",
              "           0.14414,     0.14515,     0.14615,     0.14715,     0.14815,     0.14915,     0.15015,     0.15115,     0.15215,     0.15315,     0.15415,     0.15516,     0.15616,     0.15716,     0.15816,     0.15916,     0.16016,     0.16116,     0.16216,     0.16316,     0.16416,     0.16517,     0.16617,     0.16717,\n",
              "           0.16817,     0.16917,     0.17017,     0.17117,     0.17217,     0.17317,     0.17417,     0.17518,     0.17618,     0.17718,     0.17818,     0.17918,     0.18018,     0.18118,     0.18218,     0.18318,     0.18418,     0.18519,     0.18619,     0.18719,     0.18819,     0.18919,     0.19019,     0.19119,\n",
              "           0.19219,     0.19319,     0.19419,      0.1952,      0.1962,      0.1972,      0.1982,      0.1992,      0.2002,      0.2012,      0.2022,      0.2032,      0.2042,     0.20521,     0.20621,     0.20721,     0.20821,     0.20921,     0.21021,     0.21121,     0.21221,     0.21321,     0.21421,     0.21522,\n",
              "           0.21622,     0.21722,     0.21822,     0.21922,     0.22022,     0.22122,     0.22222,     0.22322,     0.22422,     0.22523,     0.22623,     0.22723,     0.22823,     0.22923,     0.23023,     0.23123,     0.23223,     0.23323,     0.23423,     0.23524,     0.23624,     0.23724,     0.23824,     0.23924,\n",
              "           0.24024,     0.24124,     0.24224,     0.24324,     0.24424,     0.24525,     0.24625,     0.24725,     0.24825,     0.24925,     0.25025,     0.25125,     0.25225,     0.25325,     0.25425,     0.25526,     0.25626,     0.25726,     0.25826,     0.25926,     0.26026,     0.26126,     0.26226,     0.26326,\n",
              "           0.26426,     0.26527,     0.26627,     0.26727,     0.26827,     0.26927,     0.27027,     0.27127,     0.27227,     0.27327,     0.27427,     0.27528,     0.27628,     0.27728,     0.27828,     0.27928,     0.28028,     0.28128,     0.28228,     0.28328,     0.28428,     0.28529,     0.28629,     0.28729,\n",
              "           0.28829,     0.28929,     0.29029,     0.29129,     0.29229,     0.29329,     0.29429,      0.2953,      0.2963,      0.2973,      0.2983,      0.2993,      0.3003,      0.3013,      0.3023,      0.3033,      0.3043,     0.30531,     0.30631,     0.30731,     0.30831,     0.30931,     0.31031,     0.31131,\n",
              "           0.31231,     0.31331,     0.31431,     0.31532,     0.31632,     0.31732,     0.31832,     0.31932,     0.32032,     0.32132,     0.32232,     0.32332,     0.32432,     0.32533,     0.32633,     0.32733,     0.32833,     0.32933,     0.33033,     0.33133,     0.33233,     0.33333,     0.33433,     0.33534,\n",
              "           0.33634,     0.33734,     0.33834,     0.33934,     0.34034,     0.34134,     0.34234,     0.34334,     0.34434,     0.34535,     0.34635,     0.34735,     0.34835,     0.34935,     0.35035,     0.35135,     0.35235,     0.35335,     0.35435,     0.35536,     0.35636,     0.35736,     0.35836,     0.35936,\n",
              "           0.36036,     0.36136,     0.36236,     0.36336,     0.36436,     0.36537,     0.36637,     0.36737,     0.36837,     0.36937,     0.37037,     0.37137,     0.37237,     0.37337,     0.37437,     0.37538,     0.37638,     0.37738,     0.37838,     0.37938,     0.38038,     0.38138,     0.38238,     0.38338,\n",
              "           0.38438,     0.38539,     0.38639,     0.38739,     0.38839,     0.38939,     0.39039,     0.39139,     0.39239,     0.39339,     0.39439,      0.3954,      0.3964,      0.3974,      0.3984,      0.3994,      0.4004,      0.4014,      0.4024,      0.4034,      0.4044,     0.40541,     0.40641,     0.40741,\n",
              "           0.40841,     0.40941,     0.41041,     0.41141,     0.41241,     0.41341,     0.41441,     0.41542,     0.41642,     0.41742,     0.41842,     0.41942,     0.42042,     0.42142,     0.42242,     0.42342,     0.42442,     0.42543,     0.42643,     0.42743,     0.42843,     0.42943,     0.43043,     0.43143,\n",
              "           0.43243,     0.43343,     0.43443,     0.43544,     0.43644,     0.43744,     0.43844,     0.43944,     0.44044,     0.44144,     0.44244,     0.44344,     0.44444,     0.44545,     0.44645,     0.44745,     0.44845,     0.44945,     0.45045,     0.45145,     0.45245,     0.45345,     0.45445,     0.45546,\n",
              "           0.45646,     0.45746,     0.45846,     0.45946,     0.46046,     0.46146,     0.46246,     0.46346,     0.46446,     0.46547,     0.46647,     0.46747,     0.46847,     0.46947,     0.47047,     0.47147,     0.47247,     0.47347,     0.47447,     0.47548,     0.47648,     0.47748,     0.47848,     0.47948,\n",
              "           0.48048,     0.48148,     0.48248,     0.48348,     0.48448,     0.48549,     0.48649,     0.48749,     0.48849,     0.48949,     0.49049,     0.49149,     0.49249,     0.49349,     0.49449,      0.4955,      0.4965,      0.4975,      0.4985,      0.4995,      0.5005,      0.5015,      0.5025,      0.5035,\n",
              "            0.5045,     0.50551,     0.50651,     0.50751,     0.50851,     0.50951,     0.51051,     0.51151,     0.51251,     0.51351,     0.51451,     0.51552,     0.51652,     0.51752,     0.51852,     0.51952,     0.52052,     0.52152,     0.52252,     0.52352,     0.52452,     0.52553,     0.52653,     0.52753,\n",
              "           0.52853,     0.52953,     0.53053,     0.53153,     0.53253,     0.53353,     0.53453,     0.53554,     0.53654,     0.53754,     0.53854,     0.53954,     0.54054,     0.54154,     0.54254,     0.54354,     0.54454,     0.54555,     0.54655,     0.54755,     0.54855,     0.54955,     0.55055,     0.55155,\n",
              "           0.55255,     0.55355,     0.55455,     0.55556,     0.55656,     0.55756,     0.55856,     0.55956,     0.56056,     0.56156,     0.56256,     0.56356,     0.56456,     0.56557,     0.56657,     0.56757,     0.56857,     0.56957,     0.57057,     0.57157,     0.57257,     0.57357,     0.57457,     0.57558,\n",
              "           0.57658,     0.57758,     0.57858,     0.57958,     0.58058,     0.58158,     0.58258,     0.58358,     0.58458,     0.58559,     0.58659,     0.58759,     0.58859,     0.58959,     0.59059,     0.59159,     0.59259,     0.59359,     0.59459,      0.5956,      0.5966,      0.5976,      0.5986,      0.5996,\n",
              "            0.6006,      0.6016,      0.6026,      0.6036,      0.6046,     0.60561,     0.60661,     0.60761,     0.60861,     0.60961,     0.61061,     0.61161,     0.61261,     0.61361,     0.61461,     0.61562,     0.61662,     0.61762,     0.61862,     0.61962,     0.62062,     0.62162,     0.62262,     0.62362,\n",
              "           0.62462,     0.62563,     0.62663,     0.62763,     0.62863,     0.62963,     0.63063,     0.63163,     0.63263,     0.63363,     0.63463,     0.63564,     0.63664,     0.63764,     0.63864,     0.63964,     0.64064,     0.64164,     0.64264,     0.64364,     0.64464,     0.64565,     0.64665,     0.64765,\n",
              "           0.64865,     0.64965,     0.65065,     0.65165,     0.65265,     0.65365,     0.65465,     0.65566,     0.65666,     0.65766,     0.65866,     0.65966,     0.66066,     0.66166,     0.66266,     0.66366,     0.66466,     0.66567,     0.66667,     0.66767,     0.66867,     0.66967,     0.67067,     0.67167,\n",
              "           0.67267,     0.67367,     0.67467,     0.67568,     0.67668,     0.67768,     0.67868,     0.67968,     0.68068,     0.68168,     0.68268,     0.68368,     0.68468,     0.68569,     0.68669,     0.68769,     0.68869,     0.68969,     0.69069,     0.69169,     0.69269,     0.69369,     0.69469,      0.6957,\n",
              "            0.6967,      0.6977,      0.6987,      0.6997,      0.7007,      0.7017,      0.7027,      0.7037,      0.7047,     0.70571,     0.70671,     0.70771,     0.70871,     0.70971,     0.71071,     0.71171,     0.71271,     0.71371,     0.71471,     0.71572,     0.71672,     0.71772,     0.71872,     0.71972,\n",
              "           0.72072,     0.72172,     0.72272,     0.72372,     0.72472,     0.72573,     0.72673,     0.72773,     0.72873,     0.72973,     0.73073,     0.73173,     0.73273,     0.73373,     0.73473,     0.73574,     0.73674,     0.73774,     0.73874,     0.73974,     0.74074,     0.74174,     0.74274,     0.74374,\n",
              "           0.74474,     0.74575,     0.74675,     0.74775,     0.74875,     0.74975,     0.75075,     0.75175,     0.75275,     0.75375,     0.75475,     0.75576,     0.75676,     0.75776,     0.75876,     0.75976,     0.76076,     0.76176,     0.76276,     0.76376,     0.76476,     0.76577,     0.76677,     0.76777,\n",
              "           0.76877,     0.76977,     0.77077,     0.77177,     0.77277,     0.77377,     0.77477,     0.77578,     0.77678,     0.77778,     0.77878,     0.77978,     0.78078,     0.78178,     0.78278,     0.78378,     0.78478,     0.78579,     0.78679,     0.78779,     0.78879,     0.78979,     0.79079,     0.79179,\n",
              "           0.79279,     0.79379,     0.79479,      0.7958,      0.7968,      0.7978,      0.7988,      0.7998,      0.8008,      0.8018,      0.8028,      0.8038,      0.8048,     0.80581,     0.80681,     0.80781,     0.80881,     0.80981,     0.81081,     0.81181,     0.81281,     0.81381,     0.81481,     0.81582,\n",
              "           0.81682,     0.81782,     0.81882,     0.81982,     0.82082,     0.82182,     0.82282,     0.82382,     0.82482,     0.82583,     0.82683,     0.82783,     0.82883,     0.82983,     0.83083,     0.83183,     0.83283,     0.83383,     0.83483,     0.83584,     0.83684,     0.83784,     0.83884,     0.83984,\n",
              "           0.84084,     0.84184,     0.84284,     0.84384,     0.84484,     0.84585,     0.84685,     0.84785,     0.84885,     0.84985,     0.85085,     0.85185,     0.85285,     0.85385,     0.85485,     0.85586,     0.85686,     0.85786,     0.85886,     0.85986,     0.86086,     0.86186,     0.86286,     0.86386,\n",
              "           0.86486,     0.86587,     0.86687,     0.86787,     0.86887,     0.86987,     0.87087,     0.87187,     0.87287,     0.87387,     0.87487,     0.87588,     0.87688,     0.87788,     0.87888,     0.87988,     0.88088,     0.88188,     0.88288,     0.88388,     0.88488,     0.88589,     0.88689,     0.88789,\n",
              "           0.88889,     0.88989,     0.89089,     0.89189,     0.89289,     0.89389,     0.89489,      0.8959,      0.8969,      0.8979,      0.8989,      0.8999,      0.9009,      0.9019,      0.9029,      0.9039,      0.9049,     0.90591,     0.90691,     0.90791,     0.90891,     0.90991,     0.91091,     0.91191,\n",
              "           0.91291,     0.91391,     0.91491,     0.91592,     0.91692,     0.91792,     0.91892,     0.91992,     0.92092,     0.92192,     0.92292,     0.92392,     0.92492,     0.92593,     0.92693,     0.92793,     0.92893,     0.92993,     0.93093,     0.93193,     0.93293,     0.93393,     0.93493,     0.93594,\n",
              "           0.93694,     0.93794,     0.93894,     0.93994,     0.94094,     0.94194,     0.94294,     0.94394,     0.94494,     0.94595,     0.94695,     0.94795,     0.94895,     0.94995,     0.95095,     0.95195,     0.95295,     0.95395,     0.95495,     0.95596,     0.95696,     0.95796,     0.95896,     0.95996,\n",
              "           0.96096,     0.96196,     0.96296,     0.96396,     0.96496,     0.96597,     0.96697,     0.96797,     0.96897,     0.96997,     0.97097,     0.97197,     0.97297,     0.97397,     0.97497,     0.97598,     0.97698,     0.97798,     0.97898,     0.97998,     0.98098,     0.98198,     0.98298,     0.98398,\n",
              "           0.98498,     0.98599,     0.98699,     0.98799,     0.98899,     0.98999,     0.99099,     0.99199,     0.99299,     0.99399,     0.99499,       0.996,       0.997,       0.998,       0.999,           1]), array([[   0.031957,    0.031957,    0.073029,     0.10926,     0.13741,     0.16265,     0.18432,     0.20096,      0.2179,     0.23346,     0.24611,     0.25651,     0.26623,     0.27874,     0.28865,     0.30604,     0.31432,     0.32251,     0.33285,     0.33989,     0.34787,     0.35401,     0.35966,\n",
              "            0.36315,     0.36902,     0.37582,     0.37928,     0.38483,     0.38643,     0.39093,     0.39136,     0.39788,     0.40054,     0.40613,     0.41022,     0.41532,     0.41904,     0.42289,     0.42473,     0.42843,     0.43079,     0.43563,     0.44233,     0.44358,     0.44609,     0.44757,\n",
              "            0.44905,     0.45214,     0.45646,     0.45858,     0.46193,     0.46693,     0.47069,     0.47337,       0.478,     0.48278,      0.4818,     0.48463,     0.48584,     0.48764,     0.48899,     0.49041,      0.4924,     0.49442,     0.49549,     0.49725,     0.50023,     0.50161,      0.5066,\n",
              "            0.50781,       0.508,     0.50859,     0.51167,     0.51412,     0.51469,     0.51854,     0.52096,     0.52441,     0.52664,     0.53207,     0.53392,     0.53485,     0.53638,     0.53974,     0.54219,     0.54648,     0.54713,     0.54758,     0.54836,     0.55042,     0.55166,     0.55129,\n",
              "            0.55093,     0.55353,     0.55508,     0.55586,     0.55724,     0.55902,     0.56039,     0.56241,     0.56317,     0.56515,     0.56749,     0.56703,     0.56692,     0.57003,     0.57026,     0.57291,     0.57481,      0.5759,     0.57714,     0.57865,     0.57927,     0.58028,      0.5829,\n",
              "            0.58345,     0.58348,     0.58445,      0.5873,      0.5892,     0.58987,     0.59239,     0.59335,     0.59519,     0.59578,      0.5954,     0.59459,     0.59704,     0.59832,     0.59873,     0.59913,     0.59953,     0.60094,     0.60234,     0.60331,      0.6027,     0.60393,     0.60526,\n",
              "            0.60624,     0.60947,     0.61118,     0.61427,     0.61401,     0.61357,     0.61377,     0.61385,     0.61667,     0.61952,     0.62027,     0.62302,     0.62361,     0.62565,     0.62945,     0.63105,      0.6314,     0.63389,     0.63366,     0.63342,     0.63319,       0.635,     0.63571,\n",
              "            0.63584,     0.63513,     0.63459,     0.63301,     0.63438,     0.63727,     0.63866,     0.64159,     0.64214,     0.64668,       0.649,     0.65193,     0.65143,     0.65322,     0.65357,     0.65397,     0.65437,     0.65477,     0.65491,     0.65434,     0.65523,     0.65686,      0.6597,\n",
              "            0.66038,     0.66121,     0.66148,     0.66132,     0.66116,       0.661,     0.66084,     0.66003,     0.66052,     0.66121,     0.66457,     0.66637,     0.66601,     0.66962,     0.67051,     0.66947,      0.6705,     0.67196,     0.67341,     0.67569,     0.68043,     0.68232,      0.6829,\n",
              "            0.68417,     0.68559,     0.68634,      0.6859,     0.68572,     0.68592,     0.68612,     0.68633,     0.68653,     0.68674,     0.68694,     0.68714,     0.68735,     0.68764,     0.68819,     0.68873,     0.68928,      0.6891,     0.68984,     0.68923,     0.68879,     0.69273,     0.69311,\n",
              "            0.69469,     0.69899,     0.70047,      0.7031,     0.70425,     0.70388,     0.70525,     0.70789,     0.71227,     0.71368,      0.7152,     0.71631,     0.71702,     0.71773,     0.72279,     0.72376,     0.72377,     0.72437,     0.72498,     0.72558,     0.72487,     0.72613,     0.72591,\n",
              "            0.72568,     0.72546,     0.72629,     0.73202,     0.73262,     0.73323,     0.73383,     0.73708,     0.73755,     0.73723,     0.73682,     0.73627,     0.73672,     0.73889,     0.74203,     0.74424,     0.74392,     0.74454,     0.74611,     0.74707,     0.74804,     0.74906,     0.75014,\n",
              "            0.75039,     0.75136,     0.75234,      0.7547,     0.75438,     0.75406,     0.75599,     0.75671,     0.75601,     0.75778,     0.76088,     0.76235,     0.76214,      0.7616,      0.7638,     0.76348,     0.76415,     0.76564,     0.76562,     0.76529,      0.7665,     0.76785,     0.76811,\n",
              "            0.76837,     0.76863,     0.76889,     0.76915,     0.76941,     0.76966,     0.76992,     0.77018,     0.77265,     0.77731,     0.77686,     0.77624,     0.77531,     0.77706,     0.77807,     0.77909,     0.78112,     0.78195,     0.78154,     0.78131,     0.78109,     0.78133,     0.78295,\n",
              "            0.78359,      0.7834,     0.78322,     0.78303,     0.78324,     0.78406,     0.78488,      0.7857,     0.78776,     0.79267,     0.79244,     0.79222,       0.792,     0.79527,     0.79573,     0.79619,     0.79665,     0.79711,     0.79757,     0.80661,     0.80785,     0.80897,      0.8087,\n",
              "            0.80843,     0.80855,     0.80924,     0.80994,     0.81063,      0.8106,     0.81023,     0.80983,     0.80907,      0.8088,     0.80853,     0.81048,     0.81104,     0.81089,     0.81207,     0.81642,      0.8183,     0.81948,     0.81907,     0.81988,     0.82154,     0.82167,     0.82078,\n",
              "            0.82229,     0.82397,     0.82359,     0.82377,     0.82547,     0.82655,     0.82636,     0.82617,     0.82597,     0.82652,     0.82744,     0.82836,     0.82927,     0.82914,     0.82901,     0.82888,     0.82875,     0.82862,     0.82842,     0.82818,     0.82794,      0.8293,     0.83129,\n",
              "            0.83246,     0.83363,     0.83465,     0.83424,     0.83628,     0.83894,     0.84093,     0.84074,     0.84056,     0.84038,     0.84007,     0.83973,     0.84065,     0.84187,     0.84308,       0.843,     0.84275,     0.84174,     0.84163,     0.84349,     0.84473,     0.84439,     0.84816,\n",
              "            0.84917,     0.85018,     0.85119,     0.85108,     0.85089,     0.85185,     0.85282,     0.85378,     0.85767,     0.85753,      0.8574,     0.85726,      0.8613,     0.86329,     0.86528,     0.86728,      0.8687,     0.86839,     0.86941,      0.8721,     0.87198,     0.87185,     0.87172,\n",
              "             0.8716,     0.87442,     0.87457,      0.8742,     0.87389,     0.87371,     0.87356,     0.87341,     0.87326,     0.87297,     0.87266,     0.87245,     0.87224,     0.87203,     0.87141,     0.87045,     0.87434,     0.87369,     0.87251,      0.8724,     0.87229,     0.87219,     0.87208,\n",
              "            0.87197,     0.87269,     0.87417,     0.87564,     0.88511,     0.88625,     0.88739,     0.88854,     0.88849,     0.88811,     0.88782,     0.88672,     0.88636,     0.88606,     0.88584,     0.88564,     0.88543,     0.88528,     0.88512,     0.88497,     0.88481,      0.8845,     0.88417,\n",
              "            0.88292,     0.88228,     0.88205,     0.88449,     0.88646,     0.88634,     0.88621,     0.88608,     0.88596,     0.88676,     0.89483,     0.89439,     0.89424,     0.89409,     0.89394,     0.89618,      0.8986,     0.89816,     0.89786,     0.89681,     0.89584,     0.89563,     0.89542,\n",
              "            0.89515,     0.89483,      0.8993,     0.89915,     0.89899,     0.89884,     0.90641,      0.9092,     0.90917,      0.9086,     0.90772,     0.90743,     0.90597,     0.90566,      0.9051,     0.90806,     0.91081,     0.91052,     0.91001,     0.91304,     0.92148,     0.92095,     0.92042,\n",
              "            0.91933,     0.91888,     0.91874,      0.9186,     0.91846,     0.92456,      0.9243,     0.92285,     0.92229,      0.9213,     0.92101,     0.92077,     0.92057,     0.92037,     0.92631,     0.92603,     0.93267,     0.93242,     0.93224,     0.93211,     0.93198,     0.93185,     0.93109,\n",
              "            0.93082,     0.93223,     0.93601,     0.93628,     0.93602,     0.93534,     0.93519,     0.93504,     0.93482,     0.93455,     0.93427,       0.934,     0.93316,     0.93287,     0.93258,     0.93229,     0.93093,     0.93077,     0.93062,     0.93047,     0.93198,     0.93626,     0.93669,\n",
              "             0.9364,     0.93551,      0.9352,     0.93489,     0.93458,     0.93427,     0.93332,     0.93288,      0.9325,     0.93216,     0.93183,     0.93148,     0.93126,     0.93108,     0.93091,     0.93073,     0.92972,     0.92936,     0.92752,     0.92713,     0.92663,     0.92615,     0.92575,\n",
              "            0.92454,     0.92412,       0.922,     0.92155,     0.93081,      0.9304,     0.92998,     0.92956,     0.92904,     0.92849,     0.92805,      0.9276,     0.92715,     0.92761,     0.93354,      0.9486,     0.94826,     0.94719,     0.94671,     0.95204,     0.95868,     0.95881,     0.95871,\n",
              "            0.95861,     0.95852,     0.95842,     0.95829,     0.95789,     0.95755,     0.95724,     0.95629,     0.95597,     0.95563,     0.95529,     0.95507,     0.95487,     0.95467,     0.95742,     0.96494,     0.96917,     0.96903,     0.96889,     0.96825,      0.9681,     0.96795,      0.9678,\n",
              "            0.96758,     0.96731,      0.9666,     0.96649,     0.96639,     0.96628,     0.96618,     0.96635,     0.97139,     0.97644,     0.98148,           1,           1,           1,           1,           1,           1,           1,           1,           1,           1,           1,           1,\n",
              "                  1,           1,           1,           1,           1,           1,           1,           1,           1,           1,           1,           1,           1,           1,           1,           1,           1,           1,           1,           1,           1,           1,           1,\n",
              "                  1,           1,           1,           1,           1,           1,           1,           1,           1,           1,           1,           1,           1,           1,           1,           1,           1,           1,           1,           1,           1,           1,           1,\n",
              "                  1,           1,           1,           1,           1,           1,           1,           1,           1,           1,           1,           1,           1,           1,           1,           1,           1,           1,           1,           1,           1,           1,           1,\n",
              "                  1,           1,           1,           1,           1,           1,           1,           1,           1,           1,           1,           1,           1,           1,           1,           1,           1,           1,           1,           1,           1,           1,           1,\n",
              "                  1,           1,           1,           1,           1,           1,           1,           1,           1,           1,           1,           1,           1,           1,           1,           1,           1,           1,           1,           1,           1,           1,           1,\n",
              "                  1,           1,           1,           1,           1,           1,           1,           1,           1,           1,           1,           1,           1,           1,           1,           1,           1,           1,           1,           1,           1,           1,           1,\n",
              "                  1,           1,           1,           1,           1,           1,           1,           1,           1,           1,           1,           1,           1,           1,           1,           1,           1,           1,           1,           1,           1,           1,           1,\n",
              "                  1,           1,           1,           1,           1,           1,           1,           1,           1,           1,           1,           1,           1,           1,           1,           1,           1,           1,           1,           1,           1,           1,           1,\n",
              "                  1,           1,           1,           1,           1,           1,           1,           1,           1,           1,           1,           1,           1,           1,           1,           1,           1,           1,           1,           1,           1,           1,           1,\n",
              "                  1,           1,           1,           1,           1,           1,           1,           1,           1,           1,           1,           1,           1,           1,           1,           1,           1,           1,           1,           1,           1,           1,           1,\n",
              "                  1,           1,           1,           1,           1,           1,           1,           1,           1,           1,           1,           1,           1,           1,           1,           1,           1,           1,           1,           1,           1,           1,           1,\n",
              "                  1,           1,           1,           1,           1,           1,           1,           1,           1,           1,           1,           1,           1,           1,           1,           1,           1,           1,           1,           1,           1,           1,           1,\n",
              "                  1,           1,           1,           1,           1,           1,           1,           1,           1,           1,           1,           1,           1,           1,           1,           1,           1,           1,           1,           1,           1,           1,           1,\n",
              "                  1,           1,           1,           1,           1,           1,           1,           1,           1,           1,           1,           1,           1,           1,           1,           1,           1,           1,           1,           1,           1,           1,           1,\n",
              "                  1,           1,           1,           1,           1,           1,           1,           1,           1,           1,           1]]), 'Confidence', 'Precision'], [array([          0,    0.001001,    0.002002,    0.003003,    0.004004,    0.005005,    0.006006,    0.007007,    0.008008,    0.009009,     0.01001,    0.011011,    0.012012,    0.013013,    0.014014,    0.015015,    0.016016,    0.017017,    0.018018,    0.019019,     0.02002,    0.021021,    0.022022,    0.023023,\n",
              "          0.024024,    0.025025,    0.026026,    0.027027,    0.028028,    0.029029,     0.03003,    0.031031,    0.032032,    0.033033,    0.034034,    0.035035,    0.036036,    0.037037,    0.038038,    0.039039,     0.04004,    0.041041,    0.042042,    0.043043,    0.044044,    0.045045,    0.046046,    0.047047,\n",
              "          0.048048,    0.049049,     0.05005,    0.051051,    0.052052,    0.053053,    0.054054,    0.055055,    0.056056,    0.057057,    0.058058,    0.059059,     0.06006,    0.061061,    0.062062,    0.063063,    0.064064,    0.065065,    0.066066,    0.067067,    0.068068,    0.069069,     0.07007,    0.071071,\n",
              "          0.072072,    0.073073,    0.074074,    0.075075,    0.076076,    0.077077,    0.078078,    0.079079,     0.08008,    0.081081,    0.082082,    0.083083,    0.084084,    0.085085,    0.086086,    0.087087,    0.088088,    0.089089,     0.09009,    0.091091,    0.092092,    0.093093,    0.094094,    0.095095,\n",
              "          0.096096,    0.097097,    0.098098,    0.099099,      0.1001,      0.1011,      0.1021,      0.1031,      0.1041,     0.10511,     0.10611,     0.10711,     0.10811,     0.10911,     0.11011,     0.11111,     0.11211,     0.11311,     0.11411,     0.11512,     0.11612,     0.11712,     0.11812,     0.11912,\n",
              "           0.12012,     0.12112,     0.12212,     0.12312,     0.12412,     0.12513,     0.12613,     0.12713,     0.12813,     0.12913,     0.13013,     0.13113,     0.13213,     0.13313,     0.13413,     0.13514,     0.13614,     0.13714,     0.13814,     0.13914,     0.14014,     0.14114,     0.14214,     0.14314,\n",
              "           0.14414,     0.14515,     0.14615,     0.14715,     0.14815,     0.14915,     0.15015,     0.15115,     0.15215,     0.15315,     0.15415,     0.15516,     0.15616,     0.15716,     0.15816,     0.15916,     0.16016,     0.16116,     0.16216,     0.16316,     0.16416,     0.16517,     0.16617,     0.16717,\n",
              "           0.16817,     0.16917,     0.17017,     0.17117,     0.17217,     0.17317,     0.17417,     0.17518,     0.17618,     0.17718,     0.17818,     0.17918,     0.18018,     0.18118,     0.18218,     0.18318,     0.18418,     0.18519,     0.18619,     0.18719,     0.18819,     0.18919,     0.19019,     0.19119,\n",
              "           0.19219,     0.19319,     0.19419,      0.1952,      0.1962,      0.1972,      0.1982,      0.1992,      0.2002,      0.2012,      0.2022,      0.2032,      0.2042,     0.20521,     0.20621,     0.20721,     0.20821,     0.20921,     0.21021,     0.21121,     0.21221,     0.21321,     0.21421,     0.21522,\n",
              "           0.21622,     0.21722,     0.21822,     0.21922,     0.22022,     0.22122,     0.22222,     0.22322,     0.22422,     0.22523,     0.22623,     0.22723,     0.22823,     0.22923,     0.23023,     0.23123,     0.23223,     0.23323,     0.23423,     0.23524,     0.23624,     0.23724,     0.23824,     0.23924,\n",
              "           0.24024,     0.24124,     0.24224,     0.24324,     0.24424,     0.24525,     0.24625,     0.24725,     0.24825,     0.24925,     0.25025,     0.25125,     0.25225,     0.25325,     0.25425,     0.25526,     0.25626,     0.25726,     0.25826,     0.25926,     0.26026,     0.26126,     0.26226,     0.26326,\n",
              "           0.26426,     0.26527,     0.26627,     0.26727,     0.26827,     0.26927,     0.27027,     0.27127,     0.27227,     0.27327,     0.27427,     0.27528,     0.27628,     0.27728,     0.27828,     0.27928,     0.28028,     0.28128,     0.28228,     0.28328,     0.28428,     0.28529,     0.28629,     0.28729,\n",
              "           0.28829,     0.28929,     0.29029,     0.29129,     0.29229,     0.29329,     0.29429,      0.2953,      0.2963,      0.2973,      0.2983,      0.2993,      0.3003,      0.3013,      0.3023,      0.3033,      0.3043,     0.30531,     0.30631,     0.30731,     0.30831,     0.30931,     0.31031,     0.31131,\n",
              "           0.31231,     0.31331,     0.31431,     0.31532,     0.31632,     0.31732,     0.31832,     0.31932,     0.32032,     0.32132,     0.32232,     0.32332,     0.32432,     0.32533,     0.32633,     0.32733,     0.32833,     0.32933,     0.33033,     0.33133,     0.33233,     0.33333,     0.33433,     0.33534,\n",
              "           0.33634,     0.33734,     0.33834,     0.33934,     0.34034,     0.34134,     0.34234,     0.34334,     0.34434,     0.34535,     0.34635,     0.34735,     0.34835,     0.34935,     0.35035,     0.35135,     0.35235,     0.35335,     0.35435,     0.35536,     0.35636,     0.35736,     0.35836,     0.35936,\n",
              "           0.36036,     0.36136,     0.36236,     0.36336,     0.36436,     0.36537,     0.36637,     0.36737,     0.36837,     0.36937,     0.37037,     0.37137,     0.37237,     0.37337,     0.37437,     0.37538,     0.37638,     0.37738,     0.37838,     0.37938,     0.38038,     0.38138,     0.38238,     0.38338,\n",
              "           0.38438,     0.38539,     0.38639,     0.38739,     0.38839,     0.38939,     0.39039,     0.39139,     0.39239,     0.39339,     0.39439,      0.3954,      0.3964,      0.3974,      0.3984,      0.3994,      0.4004,      0.4014,      0.4024,      0.4034,      0.4044,     0.40541,     0.40641,     0.40741,\n",
              "           0.40841,     0.40941,     0.41041,     0.41141,     0.41241,     0.41341,     0.41441,     0.41542,     0.41642,     0.41742,     0.41842,     0.41942,     0.42042,     0.42142,     0.42242,     0.42342,     0.42442,     0.42543,     0.42643,     0.42743,     0.42843,     0.42943,     0.43043,     0.43143,\n",
              "           0.43243,     0.43343,     0.43443,     0.43544,     0.43644,     0.43744,     0.43844,     0.43944,     0.44044,     0.44144,     0.44244,     0.44344,     0.44444,     0.44545,     0.44645,     0.44745,     0.44845,     0.44945,     0.45045,     0.45145,     0.45245,     0.45345,     0.45445,     0.45546,\n",
              "           0.45646,     0.45746,     0.45846,     0.45946,     0.46046,     0.46146,     0.46246,     0.46346,     0.46446,     0.46547,     0.46647,     0.46747,     0.46847,     0.46947,     0.47047,     0.47147,     0.47247,     0.47347,     0.47447,     0.47548,     0.47648,     0.47748,     0.47848,     0.47948,\n",
              "           0.48048,     0.48148,     0.48248,     0.48348,     0.48448,     0.48549,     0.48649,     0.48749,     0.48849,     0.48949,     0.49049,     0.49149,     0.49249,     0.49349,     0.49449,      0.4955,      0.4965,      0.4975,      0.4985,      0.4995,      0.5005,      0.5015,      0.5025,      0.5035,\n",
              "            0.5045,     0.50551,     0.50651,     0.50751,     0.50851,     0.50951,     0.51051,     0.51151,     0.51251,     0.51351,     0.51451,     0.51552,     0.51652,     0.51752,     0.51852,     0.51952,     0.52052,     0.52152,     0.52252,     0.52352,     0.52452,     0.52553,     0.52653,     0.52753,\n",
              "           0.52853,     0.52953,     0.53053,     0.53153,     0.53253,     0.53353,     0.53453,     0.53554,     0.53654,     0.53754,     0.53854,     0.53954,     0.54054,     0.54154,     0.54254,     0.54354,     0.54454,     0.54555,     0.54655,     0.54755,     0.54855,     0.54955,     0.55055,     0.55155,\n",
              "           0.55255,     0.55355,     0.55455,     0.55556,     0.55656,     0.55756,     0.55856,     0.55956,     0.56056,     0.56156,     0.56256,     0.56356,     0.56456,     0.56557,     0.56657,     0.56757,     0.56857,     0.56957,     0.57057,     0.57157,     0.57257,     0.57357,     0.57457,     0.57558,\n",
              "           0.57658,     0.57758,     0.57858,     0.57958,     0.58058,     0.58158,     0.58258,     0.58358,     0.58458,     0.58559,     0.58659,     0.58759,     0.58859,     0.58959,     0.59059,     0.59159,     0.59259,     0.59359,     0.59459,      0.5956,      0.5966,      0.5976,      0.5986,      0.5996,\n",
              "            0.6006,      0.6016,      0.6026,      0.6036,      0.6046,     0.60561,     0.60661,     0.60761,     0.60861,     0.60961,     0.61061,     0.61161,     0.61261,     0.61361,     0.61461,     0.61562,     0.61662,     0.61762,     0.61862,     0.61962,     0.62062,     0.62162,     0.62262,     0.62362,\n",
              "           0.62462,     0.62563,     0.62663,     0.62763,     0.62863,     0.62963,     0.63063,     0.63163,     0.63263,     0.63363,     0.63463,     0.63564,     0.63664,     0.63764,     0.63864,     0.63964,     0.64064,     0.64164,     0.64264,     0.64364,     0.64464,     0.64565,     0.64665,     0.64765,\n",
              "           0.64865,     0.64965,     0.65065,     0.65165,     0.65265,     0.65365,     0.65465,     0.65566,     0.65666,     0.65766,     0.65866,     0.65966,     0.66066,     0.66166,     0.66266,     0.66366,     0.66466,     0.66567,     0.66667,     0.66767,     0.66867,     0.66967,     0.67067,     0.67167,\n",
              "           0.67267,     0.67367,     0.67467,     0.67568,     0.67668,     0.67768,     0.67868,     0.67968,     0.68068,     0.68168,     0.68268,     0.68368,     0.68468,     0.68569,     0.68669,     0.68769,     0.68869,     0.68969,     0.69069,     0.69169,     0.69269,     0.69369,     0.69469,      0.6957,\n",
              "            0.6967,      0.6977,      0.6987,      0.6997,      0.7007,      0.7017,      0.7027,      0.7037,      0.7047,     0.70571,     0.70671,     0.70771,     0.70871,     0.70971,     0.71071,     0.71171,     0.71271,     0.71371,     0.71471,     0.71572,     0.71672,     0.71772,     0.71872,     0.71972,\n",
              "           0.72072,     0.72172,     0.72272,     0.72372,     0.72472,     0.72573,     0.72673,     0.72773,     0.72873,     0.72973,     0.73073,     0.73173,     0.73273,     0.73373,     0.73473,     0.73574,     0.73674,     0.73774,     0.73874,     0.73974,     0.74074,     0.74174,     0.74274,     0.74374,\n",
              "           0.74474,     0.74575,     0.74675,     0.74775,     0.74875,     0.74975,     0.75075,     0.75175,     0.75275,     0.75375,     0.75475,     0.75576,     0.75676,     0.75776,     0.75876,     0.75976,     0.76076,     0.76176,     0.76276,     0.76376,     0.76476,     0.76577,     0.76677,     0.76777,\n",
              "           0.76877,     0.76977,     0.77077,     0.77177,     0.77277,     0.77377,     0.77477,     0.77578,     0.77678,     0.77778,     0.77878,     0.77978,     0.78078,     0.78178,     0.78278,     0.78378,     0.78478,     0.78579,     0.78679,     0.78779,     0.78879,     0.78979,     0.79079,     0.79179,\n",
              "           0.79279,     0.79379,     0.79479,      0.7958,      0.7968,      0.7978,      0.7988,      0.7998,      0.8008,      0.8018,      0.8028,      0.8038,      0.8048,     0.80581,     0.80681,     0.80781,     0.80881,     0.80981,     0.81081,     0.81181,     0.81281,     0.81381,     0.81481,     0.81582,\n",
              "           0.81682,     0.81782,     0.81882,     0.81982,     0.82082,     0.82182,     0.82282,     0.82382,     0.82482,     0.82583,     0.82683,     0.82783,     0.82883,     0.82983,     0.83083,     0.83183,     0.83283,     0.83383,     0.83483,     0.83584,     0.83684,     0.83784,     0.83884,     0.83984,\n",
              "           0.84084,     0.84184,     0.84284,     0.84384,     0.84484,     0.84585,     0.84685,     0.84785,     0.84885,     0.84985,     0.85085,     0.85185,     0.85285,     0.85385,     0.85485,     0.85586,     0.85686,     0.85786,     0.85886,     0.85986,     0.86086,     0.86186,     0.86286,     0.86386,\n",
              "           0.86486,     0.86587,     0.86687,     0.86787,     0.86887,     0.86987,     0.87087,     0.87187,     0.87287,     0.87387,     0.87487,     0.87588,     0.87688,     0.87788,     0.87888,     0.87988,     0.88088,     0.88188,     0.88288,     0.88388,     0.88488,     0.88589,     0.88689,     0.88789,\n",
              "           0.88889,     0.88989,     0.89089,     0.89189,     0.89289,     0.89389,     0.89489,      0.8959,      0.8969,      0.8979,      0.8989,      0.8999,      0.9009,      0.9019,      0.9029,      0.9039,      0.9049,     0.90591,     0.90691,     0.90791,     0.90891,     0.90991,     0.91091,     0.91191,\n",
              "           0.91291,     0.91391,     0.91491,     0.91592,     0.91692,     0.91792,     0.91892,     0.91992,     0.92092,     0.92192,     0.92292,     0.92392,     0.92492,     0.92593,     0.92693,     0.92793,     0.92893,     0.92993,     0.93093,     0.93193,     0.93293,     0.93393,     0.93493,     0.93594,\n",
              "           0.93694,     0.93794,     0.93894,     0.93994,     0.94094,     0.94194,     0.94294,     0.94394,     0.94494,     0.94595,     0.94695,     0.94795,     0.94895,     0.94995,     0.95095,     0.95195,     0.95295,     0.95395,     0.95495,     0.95596,     0.95696,     0.95796,     0.95896,     0.95996,\n",
              "           0.96096,     0.96196,     0.96296,     0.96396,     0.96496,     0.96597,     0.96697,     0.96797,     0.96897,     0.96997,     0.97097,     0.97197,     0.97297,     0.97397,     0.97497,     0.97598,     0.97698,     0.97798,     0.97898,     0.97998,     0.98098,     0.98198,     0.98298,     0.98398,\n",
              "           0.98498,     0.98599,     0.98699,     0.98799,     0.98899,     0.98999,     0.99099,     0.99199,     0.99299,     0.99399,     0.99499,       0.996,       0.997,       0.998,       0.999,           1]), array([[    0.93779,     0.93779,     0.90783,     0.89401,     0.88018,     0.86866,     0.86636,     0.85253,     0.84793,     0.84793,     0.83871,     0.82949,     0.82258,     0.82028,     0.81797,     0.81797,     0.81336,     0.81106,     0.80876,     0.80876,     0.80876,     0.80645,     0.80498,\n",
              "            0.79954,     0.79724,     0.79724,     0.79032,     0.78802,     0.78341,     0.78111,     0.77419,     0.77189,     0.76959,     0.76959,     0.76728,     0.76728,     0.76498,     0.76498,     0.76037,     0.76037,     0.75576,     0.75346,     0.75346,     0.75115,     0.75115,     0.74654,\n",
              "            0.74424,     0.74424,     0.74194,     0.73963,     0.73733,     0.73502,     0.73502,     0.73502,     0.73502,     0.73272,     0.72811,     0.72811,     0.72581,      0.7235,      0.7235,     0.71846,     0.71659,     0.71198,     0.71198,     0.71198,     0.71198,     0.71198,     0.71198,\n",
              "            0.70843,      0.7066,     0.70507,     0.70507,     0.70507,     0.70276,     0.70229,     0.69816,     0.69816,     0.69816,     0.69816,     0.69816,     0.69816,     0.69585,     0.69442,     0.69355,     0.69355,     0.69355,     0.69124,     0.69124,     0.69124,     0.68894,     0.68792,\n",
              "             0.6869,     0.68203,     0.68203,     0.67742,     0.67742,     0.67742,     0.67742,     0.67742,     0.67742,     0.67742,      0.6772,     0.67594,     0.67281,     0.67203,     0.67051,     0.67051,     0.67051,      0.6682,      0.6682,     0.66766,      0.6659,      0.6659,      0.6659,\n",
              "            0.66483,     0.66129,     0.66129,     0.66129,     0.66129,     0.65899,     0.65899,     0.65899,     0.65899,     0.65899,     0.65438,     0.64883,     0.64747,     0.64516,     0.64516,     0.64516,     0.64516,     0.64516,     0.64516,     0.64516,     0.64314,     0.64286,     0.64286,\n",
              "            0.64286,     0.64286,     0.64286,     0.64212,     0.63776,     0.63657,     0.63594,     0.63364,     0.63364,     0.63364,     0.63231,     0.63134,     0.62989,     0.62903,     0.62903,     0.62903,     0.62673,     0.62634,     0.62571,     0.62508,     0.62445,     0.62442,     0.62442,\n",
              "             0.6236,     0.62169,     0.62024,     0.61602,     0.61521,     0.61521,     0.61521,     0.61521,      0.6129,      0.6129,      0.6129,     0.61283,     0.61148,      0.6106,     0.60829,     0.60829,     0.60829,     0.60829,     0.60782,     0.60599,     0.60599,     0.60599,     0.60599,\n",
              "            0.60599,     0.60369,     0.60331,     0.60288,     0.60245,     0.60202,     0.60159,     0.59943,     0.59908,     0.59908,     0.59908,     0.59827,     0.59732,     0.59677,     0.59677,      0.5927,     0.59217,     0.58986,     0.58986,     0.58986,     0.58986,     0.58892,     0.58554,\n",
              "            0.58525,     0.58525,     0.58484,     0.58366,     0.58295,     0.58295,     0.58295,     0.58295,     0.58295,     0.58295,     0.58295,     0.58295,     0.58295,     0.58295,     0.58295,     0.58295,     0.58295,     0.58065,     0.57909,     0.57744,     0.57626,     0.57604,     0.57242,\n",
              "            0.57143,     0.57143,     0.57143,     0.57143,     0.57062,     0.56912,     0.56912,     0.56912,     0.56912,     0.56912,     0.56912,     0.56912,     0.56912,     0.56912,     0.56912,     0.56912,     0.56682,     0.56682,     0.56682,     0.56682,     0.56452,     0.56204,     0.56141,\n",
              "            0.56078,     0.56015,     0.55991,     0.55991,     0.55991,     0.55991,     0.55991,      0.5576,     0.55688,     0.55594,     0.55479,     0.55322,     0.55069,     0.55069,     0.55069,     0.54981,     0.54886,     0.54839,     0.54839,     0.54839,     0.54839,     0.54839,     0.54839,\n",
              "            0.54608,     0.54608,     0.54608,     0.54587,     0.54492,     0.54398,     0.54254,     0.54147,     0.53547,     0.53456,     0.53456,     0.53456,     0.53156,     0.52998,     0.52903,     0.52808,     0.52765,     0.52765,     0.52686,     0.52591,     0.52535,     0.52535,     0.52535,\n",
              "            0.52535,     0.52535,     0.52535,     0.52535,     0.52535,     0.52535,     0.52535,     0.52535,     0.52535,     0.52277,     0.52142,     0.51957,      0.5168,     0.51382,     0.51382,     0.51382,     0.51382,     0.51231,     0.51107,      0.5104,     0.50972,     0.50922,     0.50922,\n",
              "            0.50891,     0.50836,      0.5078,     0.50725,     0.50691,     0.50691,     0.50691,     0.50691,     0.50458,     0.50212,     0.50144,     0.50077,     0.50009,         0.5,         0.5,         0.5,         0.5,         0.5,         0.5,      0.4977,      0.4977,     0.49763,     0.49677,\n",
              "            0.49591,     0.49539,     0.49539,     0.49539,     0.49539,     0.49308,      0.4919,      0.4906,      0.4882,     0.48734,     0.48648,     0.48618,      0.4846,     0.48157,     0.48157,     0.48157,     0.48157,     0.48116,     0.47981,     0.47926,     0.47926,     0.47774,     0.47486,\n",
              "            0.47465,     0.47465,     0.47333,     0.47235,     0.47235,     0.47214,     0.47151,     0.47089,     0.47026,     0.47005,     0.47005,     0.47005,     0.47004,     0.46961,     0.46918,     0.46875,     0.46832,      0.4679,     0.46724,     0.46645,     0.46566,     0.46544,     0.46544,\n",
              "            0.46544,     0.46544,     0.46524,     0.46313,     0.46313,     0.46313,     0.46287,     0.46224,     0.46161,     0.46098,     0.45993,     0.45874,     0.45853,     0.45853,     0.45853,     0.45776,      0.4569,     0.45343,     0.45161,     0.45161,     0.45128,      0.4501,     0.44931,\n",
              "            0.44931,     0.44931,     0.44931,     0.44773,      0.4447,      0.4447,      0.4447,      0.4447,     0.44431,     0.44381,     0.44331,     0.44282,      0.4424,      0.4424,      0.4424,      0.4424,      0.4421,     0.44091,     0.44009,     0.43993,     0.43943,     0.43893,     0.43844,\n",
              "            0.43794,     0.43779,     0.43379,      0.4323,     0.43112,     0.43041,     0.42982,     0.42923,     0.42864,     0.42752,     0.42634,     0.42553,     0.42474,     0.42394,     0.42158,     0.41705,     0.41685,      0.4144,     0.40999,      0.4096,      0.4092,     0.40881,     0.40842,\n",
              "            0.40802,     0.40783,     0.40783,     0.40783,     0.40553,     0.40553,     0.40553,     0.40553,     0.40389,     0.40238,      0.4012,      0.3968,     0.39538,      0.3942,     0.39335,     0.39256,     0.39177,     0.39117,     0.39057,     0.38998,     0.38939,     0.38821,     0.38695,\n",
              "            0.38229,     0.37993,     0.37788,     0.37788,     0.37779,     0.37732,     0.37685,     0.37638,      0.3759,     0.37327,     0.37249,     0.37076,     0.37017,     0.36958,     0.36899,     0.36866,     0.36754,     0.36577,     0.36459,     0.36045,     0.35669,      0.3559,     0.35512,\n",
              "            0.35408,     0.35289,     0.34982,     0.34923,     0.34864,     0.34805,     0.34793,     0.34793,     0.34594,     0.34358,     0.33996,     0.33878,     0.33299,     0.33181,     0.32949,     0.32949,     0.32942,     0.32824,     0.32488,     0.32488,     0.32451,     0.32215,     0.31979,\n",
              "            0.31512,     0.31321,     0.31262,     0.31203,     0.31144,     0.31064,     0.30946,     0.30319,     0.30083,      0.2967,     0.29552,     0.29454,     0.29375,     0.29296,     0.28964,     0.28846,     0.28728,      0.2861,     0.28532,     0.28473,     0.28414,     0.28355,      0.2802,\n",
              "            0.27902,     0.27189,     0.27189,     0.27087,     0.26968,     0.26666,     0.26599,     0.26531,     0.26438,      0.2632,     0.26202,     0.26084,     0.25736,     0.25618,       0.255,     0.25381,     0.24844,     0.24785,     0.24726,     0.24667,     0.23963,     0.23963,     0.23864,\n",
              "            0.23745,     0.23397,     0.23279,     0.23161,     0.23043,     0.22925,     0.22575,     0.22417,     0.22282,     0.22164,     0.22046,     0.21928,      0.2185,     0.21791,     0.21732,     0.21673,     0.21338,     0.21219,     0.20641,     0.20522,      0.2037,     0.20229,     0.20111,\n",
              "            0.19762,     0.19644,     0.19065,     0.18947,     0.18598,      0.1848,     0.18362,     0.18244,     0.18101,      0.1795,     0.17832,     0.17714,     0.17596,     0.17281,     0.17281,     0.17011,     0.16893,      0.1653,     0.16372,     0.16129,     0.16129,     0.16091,     0.16052,\n",
              "            0.16012,     0.15973,     0.15934,     0.15881,     0.15723,     0.15592,     0.15473,     0.15125,     0.15007,     0.14889,     0.14771,     0.14693,     0.14625,     0.14558,     0.14516,     0.14516,     0.14487,      0.1442,     0.14352,     0.14054,     0.13987,     0.13919,     0.13852,\n",
              "            0.13754,     0.13636,     0.13336,     0.13293,      0.1325,     0.13207,     0.13164,     0.12673,     0.12673,     0.12673,     0.12673,     0.12645,     0.12614,     0.12582,     0.12551,     0.12519,     0.12488,     0.12456,     0.12355,     0.11971,     0.11853,     0.11729,     0.11572,\n",
              "            0.11211,     0.11093,     0.10485,     0.10108,    0.099894,    0.098592,    0.097017,    0.095775,    0.094595,    0.093866,    0.093192,    0.092517,     0.09141,    0.085234,    0.084053,    0.082846,    0.081272,    0.073022,    0.071841,    0.070404,    0.066599,    0.065418,    0.064404,\n",
              "           0.063932,     0.06346,    0.062987,    0.062515,    0.059344,    0.057769,    0.051938,    0.050758,    0.049948,    0.049161,    0.048379,    0.047907,    0.047434,    0.046962,     0.04649,    0.045919,    0.044738,    0.043483,    0.041908,     0.03803,    0.036743,    0.036271,    0.035798,\n",
              "           0.035326,    0.034854,    0.031655,     0.03008,    0.028868,    0.027687,    0.027409,     0.02716,    0.026912,    0.026663,    0.026414,    0.026166,    0.025917,    0.025669,     0.02542,    0.021938,     0.01806,    0.016485,     0.01552,    0.014732,    0.013945,    0.013425,    0.012952,\n",
              "            0.01248,    0.012008,    0.011535,    0.011012,    0.010487,   0.0099623,   0.0094375,   0.0083048,   0.0068922,   0.0067172,   0.0065423,   0.0063674,   0.0061924,   0.0060175,   0.0058425,   0.0056676,   0.0054926,   0.0053177,   0.0051427,   0.0049678,   0.0047928,   0.0046179,   0.0043456,\n",
              "          0.0040678,   0.0037899,   0.0035121,   0.0032342,   0.0029563,   0.0026785,   0.0024006,           0,           0,           0,           0,           0,           0,           0,           0,           0,           0,           0,           0,           0,           0,           0,           0,\n",
              "                  0,           0,           0,           0,           0,           0,           0,           0,           0,           0,           0,           0,           0,           0,           0,           0,           0,           0,           0,           0,           0,           0,           0,\n",
              "                  0,           0,           0,           0,           0,           0,           0,           0,           0,           0,           0,           0,           0,           0,           0,           0,           0,           0,           0,           0,           0,           0,           0,\n",
              "                  0,           0,           0,           0,           0,           0,           0,           0,           0,           0,           0,           0,           0,           0,           0,           0,           0,           0,           0,           0,           0,           0,           0,\n",
              "                  0,           0,           0,           0,           0,           0,           0,           0,           0,           0,           0,           0,           0,           0,           0,           0,           0,           0,           0,           0,           0,           0,           0,\n",
              "                  0,           0,           0,           0,           0,           0,           0,           0,           0,           0,           0,           0,           0,           0,           0,           0,           0,           0,           0,           0,           0,           0,           0,\n",
              "                  0,           0,           0,           0,           0,           0,           0,           0,           0,           0,           0,           0,           0,           0,           0,           0,           0,           0,           0,           0,           0,           0,           0,\n",
              "                  0,           0,           0,           0,           0,           0,           0,           0,           0,           0,           0,           0,           0,           0,           0,           0,           0,           0,           0,           0,           0,           0,           0,\n",
              "                  0,           0,           0,           0,           0,           0,           0,           0,           0,           0,           0,           0,           0,           0,           0,           0,           0,           0,           0,           0,           0,           0,           0,\n",
              "                  0,           0,           0,           0,           0,           0,           0,           0,           0,           0,           0,           0,           0,           0,           0,           0,           0,           0,           0,           0,           0,           0,           0,\n",
              "                  0,           0,           0,           0,           0,           0,           0,           0,           0,           0,           0]]), 'Confidence', 'Recall']]\n",
              "fitness: np.float64(0.45329227071503164)\n",
              "keys: ['metrics/precision(B)', 'metrics/recall(B)', 'metrics/mAP50(B)', 'metrics/mAP50-95(B)']\n",
              "maps: array([    0.42948,     0.42948])\n",
              "names: {0: 'olive', 1: 'potential_olive'}\n",
              "plot: True\n",
              "results_dict: {'metrics/precision(B)': np.float64(0.703097326444824), 'metrics/recall(B)': np.float64(0.5714285714285714), 'metrics/mAP50(B)': np.float64(0.6675876580041245), 'metrics/mAP50-95(B)': np.float64(0.42948167212735466), 'fitness': np.float64(0.45329227071503164)}\n",
              "save_dir: PosixPath('runs/detect/train2')\n",
              "speed: {'preprocess': 0.24771776666562395, 'inference': 28.220804372206963, 'loss': 0.0005137722231059646, 'postprocess': 2.561861327780611}\n",
              "task: 'detect'"
            ]
          },
          "metadata": {},
          "execution_count": 18
        }
      ]
    },
    {
      "cell_type": "markdown",
      "source": [
        "# Résultats"
      ],
      "metadata": {
        "id": "teBBjTDDz8Mw"
      }
    },
    {
      "cell_type": "code",
      "source": [
        "import glob\n",
        "from IPython.display import Image, display"
      ],
      "metadata": {
        "id": "yM_LswapFAhO"
      },
      "execution_count": 19,
      "outputs": []
    },
    {
      "cell_type": "code",
      "source": [
        "Image(filename='runs/detect/train2/confusion_matrix.png', width=600)"
      ],
      "metadata": {
        "colab": {
          "base_uri": "https://localhost:8080/",
          "height": 467
        },
        "id": "YtY4VCNPFBD-",
        "outputId": "7d214003-a5a7-48b3-ea5f-24179f197f1c"
      },
      "execution_count": 20,
      "outputs": [
        {
          "output_type": "execute_result",
          "data": {
            "image/png": "[encoded data removed]",
            "text/plain": [
              "<IPython.core.display.Image object>"
            ]
          },
          "metadata": {
            "image/png": {
              "width": 600
            }
          },
          "execution_count": 20
        }
      ]
    },
    {
      "cell_type": "code",
      "source": [
        "Image(filename='runs/detect/train2/results.png', width=600)"
      ],
      "metadata": {
        "colab": {
          "base_uri": "https://localhost:8080/",
          "height": 317
        },
        "id": "UdKAQA-9FCkW",
        "outputId": "32518054-fa5b-459d-cc8e-0986b676812e"
      },
      "execution_count": 21,
      "outputs": [
        {
          "output_type": "execute_result",
          "data": {
            "image/png": "[encoded data removed]",
            "text/plain": [
              "<IPython.core.display.Image object>"
            ]
          },
          "metadata": {
            "image/png": {
              "width": 600
            }
          },
          "execution_count": 21
        }
      ]
    },
    {
      "cell_type": "markdown",
      "source": [
        "# Validation"
      ],
      "metadata": {
        "id": "ak0XeJcphKBC"
      }
    },
    {
      "cell_type": "code",
      "source": [
        "from ultralytics import YOLO\n",
        "\n",
        "# Charger le modèle entraîné\n",
        "model = YOLO(\"runs/detect/train2/weights/best.pt\")\n",
        "\n",
        "# Évaluer sur le dataset de validation\n",
        "metrics = model.val(data=\"/content/split_custom_data_hsv/data.yaml\", split=\"val\", verbose=False)\n",
        "\n",
        "# Accès aux métriques par classe\n",
        "names = model.names  # dict {class_id: name}\n",
        "precision_per_class = metrics.box.p  # Précision par classe\n",
        "recall_per_class = metrics.box.r  # Rappel par classe\n",
        "map50_per_class = metrics.box.ap50  # mAP à IoU de 0.5 par classe\n",
        "map_per_class = metrics.box.ap  # mAP à IoU de 0.5-0.95 par classe\n",
        "\n",
        "# Exemple : récupérer les métriques de la classe \"olive\"\n",
        "class_name = \"olive\"\n",
        "class_id = list(names.values()).index(class_name)\n",
        "\n",
        "print(f\"Métriques pour la classe '{class_name}':\")\n",
        "print(f\" - Précision : {precision_per_class[class_id]:.3f}\")\n",
        "print(f\" - Rappel    : {recall_per_class[class_id]:.3f}\")\n",
        "print(f\" - mAP@50    : {map50_per_class[class_id]:.3f}\")\n",
        "print(f\" - mAP@50-95 : {map_per_class[class_id]:.3f}\")\n"
      ],
      "metadata": {
        "id": "vUCNI4NHhL6i",
        "colab": {
          "base_uri": "https://localhost:8080/"
        },
        "outputId": "5d16563b-8c9a-4082-b59f-36ad8aff2ecf"
      },
      "execution_count": 23,
      "outputs": [
        {
          "output_type": "stream",
          "name": "stdout",
          "text": [
            "Ultralytics 8.3.140 🚀 Python-3.11.12 torch-2.6.0+cu124 CUDA:0 (Tesla T4, 15095MiB)\n",
            "Model summary (fused): 112 layers, 68,125,494 parameters, 0 gradients, 257.4 GFLOPs\n",
            "\u001b[34m\u001b[1mval: \u001b[0mFast image access ✅ (ping: 0.0±0.0 ms, read: 2354.5±731.6 MB/s, size: 214.1 KB)\n"
          ]
        },
        {
          "output_type": "stream",
          "name": "stderr",
          "text": [
            "\u001b[34m\u001b[1mval: \u001b[0mScanning /content/split_custom_data_hsv/labels/val.cache... 180 images, 108 backgrounds, 0 corrupt: 100%|██████████| 180/180 [00:00<?, ?it/s]\n",
            "                 Class     Images  Instances      Box(P          R      mAP50  mAP50-95): 100%|██████████| 12/12 [00:15<00:00,  1.27s/it]\n"
          ]
        },
        {
          "output_type": "stream",
          "name": "stdout",
          "text": [
            "                   all        180        434      0.697      0.569      0.664       0.43\n",
            "Speed: 4.2ms preprocess, 76.2ms inference, 0.0ms loss, 1.1ms postprocess per image\n",
            "Results saved to \u001b[1mruns/detect/val2\u001b[0m\n",
            "Métriques pour la classe 'olive':\n",
            " - Précision : 0.697\n",
            " - Rappel    : 0.569\n",
            " - mAP@50    : 0.664\n",
            " - mAP@50-95 : 0.430\n"
          ]
        }
      ]
    },
    {
      "cell_type": "markdown",
      "source": [
        "En modifiant conf"
      ],
      "metadata": {
        "id": "ByxxOt2UljsL"
      }
    },
    {
      "cell_type": "code",
      "source": [
        "from ultralytics import YOLO\n",
        "from pathlib import Path\n",
        "import cv2\n",
        "import os\n",
        "from ultralytics.utils.metrics import bbox_iou\n",
        "\n",
        "# 🔧 Paramètres\n",
        "model_path = \"runs/detect/train2/weights/best.pt\"\n",
        "data_path = \"/content/split_custom_data/data.yaml\"\n",
        "val_images_dir = \"/content/split_custom_data/images/val\"\n",
        "conf_threshold = 0.2  # 🔁 MODIFIE ici le seuil de confiance\n",
        "target_class = \"olive\"\n",
        "iou_threshold = 0.5  # pour comptage TP/FN\n",
        "\n",
        "# 📦 Charger modèle + noms des classes\n",
        "model = YOLO(model_path)\n",
        "names = model.names\n",
        "target_id = list(names.values()).index(target_class)\n",
        "\n",
        "# 📂 Liste des fichiers image de validation\n",
        "image_paths = list(Path(val_images_dir).rglob(\"*.jpg\")) + list(Path(val_images_dir).rglob(\"*.png\"))\n",
        "\n",
        "# 🔢 Compteurs\n",
        "TP, FP, FN = 0, 0, 0\n",
        "\n",
        "# 🔍 Parcourir les images\n",
        "import torch\n",
        "\n",
        "# 🔍 Parcourir les images\n",
        "for img_path in image_paths:\n",
        "    results = model.predict(source=str(img_path), conf=conf_threshold, iou=iou_threshold, verbose=False)[0]\n",
        "\n",
        "    # Prédictions pour la classe cible\n",
        "    preds = [b for b in results.boxes.data.cpu().numpy() if int(b[5]) == target_id]\n",
        "    pred_boxes = [b[:4] for b in preds]  # x1, y1, x2, y2\n",
        "\n",
        "    # Ground truth : via les annotations val\n",
        "    label_path = str(img_path).replace(\"/images/\", \"/labels/\").rsplit(\".\", 1)[0] + \".txt\"\n",
        "    gt_boxes = []\n",
        "    if os.path.exists(label_path):\n",
        "        with open(label_path, \"r\") as f:\n",
        "            for line in f:\n",
        "                cls, x, y, w, h = map(float, line.strip().split())\n",
        "                if int(cls) == target_id:\n",
        "                    # YOLO format -> (x1, y1, x2, y2)\n",
        "                    img = cv2.imread(str(img_path))\n",
        "                    H, W = img.shape[:2]\n",
        "                    cx, cy, bw, bh = x * W, y * H, w * W, h * H\n",
        "                    x1 = cx - bw / 2\n",
        "                    y1 = cy - bh / 2\n",
        "                    x2 = cx + bw / 2\n",
        "                    y2 = cy + bh / 2\n",
        "                    gt_boxes.append([x1, y1, x2, y2])\n",
        "\n",
        "    # 🧠 Matching GT ↔ prédictions\n",
        "    matched_gt = set()\n",
        "    for pred_box in pred_boxes:\n",
        "        matched = False\n",
        "        for i, gt_box in enumerate(gt_boxes):\n",
        "            # Convertir en tensor avant de calculer l'IoU\n",
        "            pred_box_tensor = torch.tensor(pred_box).unsqueeze(0)  # Convertir en tensor\n",
        "            gt_box_tensor = torch.tensor(gt_box).unsqueeze(0)  # Convertir en tensor\n",
        "            iou = bbox_iou(pred_box_tensor, gt_box_tensor)[0]  # Calcul de l'IoU\n",
        "            if iou > iou_threshold and i not in matched_gt:\n",
        "                TP += 1\n",
        "                matched_gt.add(i)\n",
        "                matched = True\n",
        "                break\n",
        "        if not matched:\n",
        "            FP += 1\n",
        "    FN += len(gt_boxes) - len(matched_gt)\n",
        "\n",
        "# 📊 Calcul des métriques\n",
        "precision = TP / (TP + FP) if (TP + FP) > 0 else 0\n",
        "recall = TP / (TP + FN) if (TP + FN) > 0 else 0\n",
        "\n",
        "print(f\"\\n🔎 Résultats pour la classe '{target_class}' (seuil conf = {conf_threshold}):\")\n",
        "print(f\" - Vrais positifs (TP) : {TP}\")\n",
        "print(f\" - Faux positifs (FP)  : {FP}\")\n",
        "print(f\" - Faux négatifs (FN)  : {FN}\")\n",
        "print(f\" - Précision           : {precision:.3f}\")\n",
        "print(f\" - Rappel              : {recall:.3f}\")\n",
        "\n"
      ],
      "metadata": {
        "id": "Z2trCwWzllxb",
        "colab": {
          "base_uri": "https://localhost:8080/"
        },
        "outputId": "f866626e-662b-46dd-948d-dfb22ff32f27"
      },
      "execution_count": 25,
      "outputs": [
        {
          "output_type": "stream",
          "name": "stdout",
          "text": [
            "\n",
            "🔎 Résultats pour la classe 'olive' (seuil conf = 0.2):\n",
            " - Vrais positifs (TP) : 173\n",
            " - Faux positifs (FP)  : 66\n",
            " - Faux négatifs (FN)  : 261\n",
            " - Précision           : 0.724\n",
            " - Rappel              : 0.399\n"
          ]
        }
      ]
    },
    {
      "cell_type": "markdown",
      "source": [
        "# Télécharger le modèle"
      ],
      "metadata": {
        "id": "sMv3rFPIT42g"
      }
    },
    {
      "cell_type": "code",
      "source": [
        "# Create \"my_model\" folder to store model weights and train results\n",
        "!mkdir /content/my_model\n",
        "!cp /content/runs/detect/train2/weights/best.pt /content/my_model/my_model.pt\n",
        "!cp -r /content/runs/detect/train2 /content/my_model\n",
        "\n",
        "# Zip into \"my_model.zip\"\n",
        "%cd my_model\n",
        "!zip /content/my_model.zip my_model.pt\n",
        "!zip -r /content/my_model.zip train2\n",
        "%cd /content"
      ],
      "metadata": {
        "id": "K1_avLMET7Ye",
        "outputId": "acb33b0f-f8fc-4b2a-fbf5-1e18054a6634",
        "colab": {
          "base_uri": "https://localhost:8080/"
        }
      },
      "execution_count": 26,
      "outputs": [
        {
          "output_type": "stream",
          "name": "stdout",
          "text": [
            "/content/my_model\n",
            "  adding: my_model.pt (deflated 8%)\n",
            "  adding: train2/ (stored 0%)\n",
            "  adding: train2/confusion_matrix.png (deflated 33%)\n",
            "  adding: train2/val_batch2_labels.jpg (deflated 5%)\n",
            "  adding: train2/train_batch5002.jpg (deflated 6%)\n",
            "  adding: train2/args.yaml (deflated 52%)\n",
            "  adding: train2/results.png (deflated 6%)\n",
            "  adding: train2/F1_curve.png (deflated 17%)\n",
            "  adding: train2/val_batch2_pred.jpg (deflated 5%)\n",
            "  adding: train2/val_batch0_pred.jpg (deflated 7%)\n",
            "  adding: train2/confusion_matrix_normalized.png (deflated 33%)\n",
            "  adding: train2/train_batch2.jpg (deflated 1%)\n",
            "  adding: train2/val_batch1_labels.jpg (deflated 5%)\n",
            "  adding: train2/weights/ (stored 0%)\n",
            "  adding: train2/weights/best.pt (deflated 8%)\n",
            "  adding: train2/weights/last.pt (deflated 8%)\n",
            "  adding: train2/train_batch0.jpg (deflated 1%)\n",
            "  adding: train2/labels_correlogram.jpg (deflated 36%)\n",
            "  adding: train2/R_curve.png (deflated 16%)\n",
            "  adding: train2/val_batch1_pred.jpg (deflated 5%)\n",
            "  adding: train2/train_batch5001.jpg (deflated 6%)\n",
            "  adding: train2/train_batch1.jpg (deflated 1%)\n",
            "  adding: train2/results.csv (deflated 60%)\n",
            "  adding: train2/labels.jpg (deflated 29%)\n",
            "  adding: train2/PR_curve.png (deflated 18%)\n",
            "  adding: train2/val_batch0_labels.jpg (deflated 7%)\n",
            "  adding: train2/train_batch5000.jpg (deflated 3%)\n",
            "  adding: train2/P_curve.png (deflated 16%)\n",
            "/content\n"
          ]
        }
      ]
    }
  ]
}